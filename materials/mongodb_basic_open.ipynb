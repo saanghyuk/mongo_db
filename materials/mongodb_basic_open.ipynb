{
 "cells": [
  {
   "cell_type": "markdown",
   "metadata": {},
   "source": [
    "# 0. 빅데이터\n",
    "* 기존: 관계형 데이터베이스(RDBMS)\n",
    "  - SQL 언어로 사용 가능\n",
    "  - SQL 데이터베이스\n",
    "* 빅데이터: NoSQL 데이터베이스\n",
    "  "
   ]
  },
  {
   "cell_type": "code",
   "execution_count": null,
   "metadata": {},
   "outputs": [],
   "source": []
  },
  {
   "cell_type": "markdown",
   "metadata": {},
   "source": [
    "## 1. NoSQL 이해\n",
    "  - Not only SQL\n",
    "  - RDBMS의 한계를 극복하기 위해 만들어진 새로운 형태의 데이터저장소\n",
    "  - RDBMS처럼 고정된 스키마 및 JOIN 이 존재하지 않음\n",
    "  - 스키마 변경? ALERT 등 필요 없음\n",
    "<img src=\"https://www.fun-coding.org/00_Images/sqlnosql.png\" />\n",
    "\n",
    "### 1.1. Why NoSQL?\n",
    "  - RDBMS를 기본으로 사용하지만,\n",
    "  - 초당 데이터가 수십만개씩 쌓이는 서비스가 많아지면서(쇼셜, 온라인 서비스등), NoSQL을 사용하는 경우가 많아지고 있음\n",
    "\n",
    "  - 경험적 수치\n",
    "    - 95% read, 5% write 경우는 RDBMS 가 성능이 나쁘지 않음\n",
    "    - 50% write > 인 경우 RDBMS는 성능 저하 또는 불안정\n",
    "    - NoSQL + Redis (In memory cache) 등을 고려하게 됨"
   ]
  },
  {
   "cell_type": "markdown",
   "metadata": {},
   "source": [
    "* 관계형 데이터베이스 종류\n",
    "  - MySQL, Oracle, PostgreSQL, SQLlite"
   ]
  },
  {
   "cell_type": "markdown",
   "metadata": {},
   "source": [
    "* NoSQL 데이터베이스는 각 데이터베이스마다 기반으로 하는 데이터 모델이 다르므로, 데이터 모델별로 대표적인 데이터베이스를 알아둘 필요가 있음\n",
    "  - 각기 데이터베이스 다루는 인터페이스가 다름\n",
    "    - Key/Value Store\n",
    "    - Wide Column Store\n",
    "    - Document Store\n",
    "    - Graph Store\n",
    "  <img src=\"https://www.fun-coding.org/00_Images/nosqltype.png\" />  "
   ]
  },
  {
   "cell_type": "markdown",
   "metadata": {},
   "source": [
    "### 1.2. mongoDB 란?\n",
    "* mongoDB는 document db\n",
    "  - JSON 기반의 Document 기반 데이터 관리"
   ]
  },
  {
   "cell_type": "markdown",
   "metadata": {},
   "source": [
    "* 프로그래밍에서 다루는 데이터 포멧\n",
    "  - 정수(int), 소숫점(float), 문자(string)\n",
    "  - csv, JSON등\n",
    "* JSON\n",
    "  document  = { \"id\":\"01\", \"languange\":\"java\", \"edition\": { \"first\": \"1st\", \"second\":\"2nd\", \"third\":\"third\" } }"
   ]
  },
  {
   "cell_type": "markdown",
   "metadata": {},
   "source": [
    "<pre>\n",
    "MongoDB Document 예)\n",
    "\n",
    "{\n",
    "    \"_id\": ObjectId(\"5099803df3f42312312391\"),\n",
    "    \"username\": \"davelee\",\n",
    "    \"name\": { first: \"Dave\", last: \"Lee\" }\n",
    "}\n",
    "</pre>"
   ]
  },
  {
   "cell_type": "markdown",
   "metadata": {},
   "source": [
    "### 1.3. MongoDB 데이터 구조\n",
    " * Database - Collection(table대신) - Document(low 대신에. column이라는 개념이 없다.)\n",
    " * RDBMS: Database - Table - data\n",
    " \n",
    "   - RDBMS의 table이 아니라, collection 에 JSON 형태의 Document를 넣습니다.\n",
    "   - Document 하나가 하나의 로우(레코드)임\n",
    "<img src=\"https://www.fun-coding.org/00_Images/nosqlstructure.png\" /> "
   ]
  },
  {
   "cell_type": "markdown",
   "metadata": {},
   "source": [
    "#### MongoDB Database\n",
    "* Database는 Collection의 집합\n",
    "\n",
    "#### MongoDB Collection\n",
    "\n",
    "* Collection은 MongoDB Document의 집합\n",
    "* RDBMS Table과 유사한 개념, 단 정규화된 데이터 구조, 즉 Schema가 정의되어 있지 않음\n",
    "\n",
    "<img src=\"https://www.fun-coding.org/00_Images/mongodb_mysql.png\" /> "
   ]
  },
  {
   "cell_type": "markdown",
   "metadata": {},
   "source": [
    "## 2. mongoDB 설치 및 환경 구축 \n",
    "\n",
    "### 2.1. mongodb  설치 방법 (맥 환경)\n",
    "\n",
    "* Homebrew 프로그램을 사용해서 설치하는 것이 가장 쉬움\n",
    "  - https://brew.sh/index_ko \n",
    "  - /usr/bin/ruby -e \"$(curl -fsSL https://raw.githubusercontent.com/Homebrew/install/master/install)\"\n",
    "  \n",
    "* Homebrew 설치 후\n",
    "  - brew install mongodb\n",
    "  \n",
    "* mongodb 설치 후\n",
    "  - mongod 또는 brew services start mongodb \n",
    "  "
   ]
  },
  {
   "cell_type": "markdown",
   "metadata": {},
   "source": [
    "### 2.2. mongodb  설치 방법 (윈도우 환경)\n",
    "\n",
    "* https://www.mongodb.com/download-center/community 이동 후, .msi 파일 다운로드 및 설치\n",
    "* 참고 블로그: https://javacpro.tistory.com/64"
   ]
  },
  {
   "cell_type": "markdown",
   "metadata": {},
   "source": [
    "### 2.3. EC2(AWS 서버)에 mongodb  설치 방법 (ubuntu 기반)\n",
    "\n",
    "* Import the public key(GPG key) used by the package management system.\n",
    "  - sudo apt-key adv --keyserver hkp://keyserver.ubuntu.com:80 --recv 0C49F3730359A14518585931BC711F9BA15703C6\n",
    "* Create a list file for MongoDB.\n",
    "  - echo \"deb [ arch=amd64,arm64 ] http://repo.mongodb.org/apt/ubuntu xenial/mongodb-org/3.4 multiverse\" | sudo tee /etc/apt/sources.list.d/mongodb-org-3.4.list\n",
    "* Reload local package database.\n",
    "  - sudo apt-get update\n",
    "* Install the MongoDB packages.\n",
    "  - sudo apt-get install -y mongodb-org\n",
    "  - mpngodb-org 패키지: A metapackage that will automatically install the four component packages, mongodb-org-server, mongodb-org-mongos, mongodb-org-shell, and mongodb-org-tools\n",
    "  - The MongoDB instance stores its data files in /var/lib/mongodb and its log files in /var/log/mongodb by default, and runs using the mongodb user account. You can specify alternate log and data file directories in /etc/mongod.conf.\n",
    "* Start MongoDB\n",
    "  - sudo service mongod start\n",
    "* Verify that MongoDB has started successfully\n",
    "  - Verify that the mongod process has started successfully by checking the contents of the log file at /var/log/mongodb/mongod.log for a line reading\n",
    "  - [initandlisten] waiting for connections on port <port>\n",
    "  - where <port> is the port configured in /etc/mongod.conf, 27017 by default.\n",
    "* Stop MongoDB\n",
    "  - sudo service mongod stop"
   ]
  },
  {
   "cell_type": "markdown",
   "metadata": {},
   "source": [
    "### 2.3. EC2(AWS 서버)에 mongodb  설정 방법 (ubuntu 기반)\n",
    "\n",
    "* AWS Management Console -> EC2 -> Security Groups -> EC2's Security Group -> Add Custom TCP Rule, 27017, AnyWhere\n",
    "\n",
    "* 외부 접속 허용\n",
    "  - sudo vi /etc/mongod.conf\n",
    "    - bindIp: 0.0.0.0   으로 변경\n",
    "  - sudo service mongod restart\n",
    "\n",
    "* 계정을 만들어야 함 (그렇지 않으면 외부에서 해당 포트/주소로 아무나 접속이 가능하기 때문)\n",
    "  - EC2 에서 다음 명령 실행"
   ]
  },
  {
   "cell_type": "markdown",
   "metadata": {
    "collapsed": true
   },
   "source": [
    "<pre>\n",
    "mongo\n",
    "use admin\n",
    "db.createUser( \n",
    "    {   user: \"davelee\",\n",
    "        pwd: \"korea123\",\n",
    "        roles: [ \"userAdminAnyDatabase\",\n",
    "        \"dbAdminAnyDatabase\",\n",
    "        \"readWriteAnyDatabase\"] \n",
    "    } \n",
    ")\n",
    "</pre>"
   ]
  },
  {
   "cell_type": "markdown",
   "metadata": {},
   "source": [
    "        - sudo vim /etc/mongod.conf\n",
    "        - Add the following configurations"
   ]
  },
  {
   "cell_type": "markdown",
   "metadata": {},
   "source": [
    "<pre>\n",
    "security:\n",
    "  authorization: enabled\n",
    "</pre>"
   ]
  },
  {
   "cell_type": "markdown",
   "metadata": {},
   "source": [
    "       - sudo service mongod restart"
   ]
  },
  {
   "cell_type": "markdown",
   "metadata": {},
   "source": [
    "## 3. mongoDB 바로 다뤄보기"
   ]
  },
  {
   "cell_type": "markdown",
   "metadata": {},
   "source": [
    "* mongodb의 데이터 구성\n",
    " - db, collection으로 구성\n",
    " - 데이터는 각 collection에 document 형식(python dictionary)으로 저장 됨\n",
    " - collection들의 논리적인 집합이 database"
   ]
  },
  {
   "cell_type": "markdown",
   "metadata": {},
   "source": [
    "### 3.1. Robomongo 설치 (MongoDB 관리 GUI 툴) (실습)\n",
    "* https://robomongo.org/download\n",
    "  - 맥에서 처음 실행시 잘 안되면, 삭제 후, 다시 다운로드받아서 재설치하세요\n",
    "* 실행\n",
    "  - Click Create\n",
    "    - In Connection\n",
    "      - Name: AWS EC2 IP\n",
    "      - Address: AWS EC2 IP (port는 27017 디폴트)\n",
    "    - In Authentication\n",
    "      - Database 이름: admin\n",
    "      - User Name: 사용자 ID\n",
    "      - Password: 사용자 암호\n",
    "    - Click Test & Save button to check connection\n",
    "  - Connection\n",
    "    - Click Coonect buttion\n",
    "  - Check connection\n",
    "    - Right-click (server name) -> Show Log\n",
    "  - Create DB\n",
    "    - Right-click (Server) -> Create Database -> Add dave_db\n",
    "  - Create Collection\n",
    "    - Right-click (Collections(0) in created DB) -> Create Collection -> Add test\n",
    "  - Insert Document\n",
    "    - Right-click (test collection) -> Insert Document -> Add the following JSON(BSON) Document -> Click Validate & Save buttons\n",
    "    - Click View Documents in test collection\n",
    "    - Check _id_ in indexes of test collection (인덱스 자동 생성)"
   ]
  },
  {
   "cell_type": "markdown",
   "metadata": {},
   "source": [
    "<pre>\n",
    "{\n",
    "    \"name\"  : \"Dave Lee\",\n",
    "    \"age\"   : 22,\n",
    "    \"major\" : \"CS\"\n",
    "}\n",
    "{\n",
    "    \"name\"  : \"David Oh\",\n",
    "    \"age\"   : 24,\n",
    "    \"major\" : \"Japanense\"\n",
    "}\n",
    "</pre>"
   ]
  },
  {
   "cell_type": "markdown",
   "metadata": {},
   "source": [
    "<img src=\"https://www.fun-coding.org/00_Images/robomongo.png\" /> "
   ]
  },
  {
   "cell_type": "markdown",
   "metadata": {},
   "source": [
    "  - Insert Document (different JSON fields) & Click View Documents in test collection"
   ]
  },
  {
   "cell_type": "markdown",
   "metadata": {},
   "source": [
    "<pre>\n",
    "{\n",
    "    \"name\"     : \"이종수\",\n",
    "    \"age\"      : 54,\n",
    "    \"minor\"    : \"CS\",\n",
    "    \"nickname\" : \"wink\"\n",
    "}\n",
    "</pre>"
   ]
  },
  {
   "cell_type": "markdown",
   "metadata": {},
   "source": [
    "<img src=\"https://www.fun-coding.org/00_Images/robomongo_diff.png\" />"
   ]
  },
  {
   "cell_type": "markdown",
   "metadata": {},
   "source": [
    "### 3.2. Robomongo에서 커멘드 입력해보기 (실습)\n",
    " - Right-click (Server) -> Open Shell\n",
    " - show dbs - 전체 데이터베이스 열람\n",
    " - use [DB 이름] - 데이터베이스 선택 (없으면 데이터베이스 생성)\n",
    "   * 예) use dave_db - dave_db 데이터베이스 선택\n",
    "   \n",
    " \n",
    " - show collections - 선택된 데이터베이스의 콜렉션 열람\n",
    " - db.[Collection 이름].함수() 로 해당 컬렉션의 데이터 열람 및 조작\n",
    "   * 예) db.test.find() - test 컬렉션에서 전체 Document 검색\n",
    "\n",
    "* 데이터베이스 생성\n",
    "  - use dave_db\n",
    "* 데이터베이스 현황 확인\n",
    "  - db \n",
    "  - db.stats()\n",
    "* collection 생성 및 삭제\n",
    "  - db.createCollection(\"employees\", {capped:true, size:10000})\n",
    "    - Right-click (server) -> Click Refresh -> Go to dave_db -> Go to Collections -> Check employees\n",
    "    - capped:true 최초 제한된 크기로 생성된 공간에서만 데이터를 저장하는 설정 (고성능, 저장공간차면 기존 공간 재사용, 일정시간만 저장하는 로그에 적합)\n",
    "  - db.employees.isCapped()\n",
    "  - db.employees.drop()\n",
    "  - db.createCollection(\"employees\")  \n",
    "  - db.employees.isCapped()\n",
    "  - db.employees.drop()\n",
    "  - db.createCollection(\"employees\", {capped:true, size:10000})\n",
    "* collection 확인\n",
    "  - show collections\n",
    "  - db.employees.stats()\n",
    "* collection 이름 변경\n",
    "  - db.employees.renameCollection(\"emp\")\n",
    "* collection 삭제\n",
    "  - db.emp.drop()"
   ]
  },
  {
   "cell_type": "markdown",
   "metadata": {},
   "source": [
    "### 3.3. SQL과 간단 비교 - mongodb collection 생성/변경\n",
    "* collection 생성 (원하는 타임으로 데이터를 바로 넣으면 됨)\n",
    "  - PRIMARY KEY를 위한 별도 컬럼 만들 필요 없음. \n",
    "  - mongodb는 collection에서 _id가 각 Document마다 자동생성되어 primary key 역햘을 함\n",
    "  - 컬럼마다 데이터 타입을 정할 필요 없음 (\"컬럼명\": 컬럼값 이 기본 형태임)"
   ]
  },
  {
   "cell_type": "markdown",
   "metadata": {},
   "source": [
    "<img src=\"https://www.fun-coding.org/00_Images/mongodb_create.png\" /> "
   ]
  },
  {
   "cell_type": "markdown",
   "metadata": {},
   "source": [
    "* collection 구조 변경 (기존 Document에 컬럼 추가/삭제 필요없을 시는 새로운 Document에만 필요한 컬럼을 추가 또는 삭제해서 넣으면됨)\n",
    "  - ALTER TABLE은 기본적으로 collection에서는 필요 없음 \n",
    "  - 일부 기존 Document에도 컬럼과 컬럼값을 넣거나 삭제해야 한다면 다음과 같은 형태로는 가능함"
   ]
  },
  {
   "cell_type": "markdown",
   "metadata": {},
   "source": [
    "* 기존 Document에도 컬럼과 컬럼값 추가시 \n",
    "  - SQL: ALTER TABLE people ADD COLUMN join_date DATETIME\n",
    "  - mongodb: db.people.updateMany({ }, { $set: { join_date: new Date() } })"
   ]
  },
  {
   "cell_type": "markdown",
   "metadata": {},
   "source": [
    "* 기존 Document에도 컬럼과 컬럼값 삭제시 \n",
    "  - SQL: ALTER TABLE people DROP COLUMN join_date\n",
    "  - mongodb: db.people.updateMany({ }, { $unset: { \"join_date\": \"\" } })"
   ]
  },
  {
   "cell_type": "markdown",
   "metadata": {},
   "source": [
    "## 4. mongoDB 데이터 입력/검색/수정/삭제 (CRUD)"
   ]
  },
  {
   "cell_type": "markdown",
   "metadata": {},
   "source": [
    "### 4.1. Document 입력 - insertOne, insertMany\n",
    "  - insertOne : 한개의 document 생성\n",
    "  - insertMany : list of document 생성"
   ]
  },
  {
   "cell_type": "markdown",
   "metadata": {},
   "source": [
    "### Document 입력 문법"
   ]
  },
  {
   "cell_type": "markdown",
   "metadata": {},
   "source": [
    "<img src=\"https://www.fun-coding.org/00_Images/mongodb_insert_structure.png\" /> "
   ]
  },
  {
   "cell_type": "markdown",
   "metadata": {},
   "source": [
    "### SQL INSERT 문법과 비교"
   ]
  },
  {
   "cell_type": "markdown",
   "metadata": {},
   "source": [
    "<img src=\"https://www.fun-coding.org/00_Images/mongodb_insert.png\" /> "
   ]
  },
  {
   "cell_type": "markdown",
   "metadata": {},
   "source": [
    "* insertOne 예제"
   ]
  },
  {
   "cell_type": "markdown",
   "metadata": {},
   "source": [
    "<pre>\n",
    "db.articles.insertOne(\n",
    "     { subject: \"coffee\", author: \"xyz\", views: 50 }\n",
    ")\n",
    "</pre>"
   ]
  },
  {
   "cell_type": "markdown",
   "metadata": {},
   "source": [
    "* insertMany 예제"
   ]
  },
  {
   "cell_type": "markdown",
   "metadata": {},
   "source": [
    "<pre>\n",
    "db.articles.insertMany(\n",
    "   [\n",
    "     { subject: \"coffee\", author: \"xyz\", views: 50 },\n",
    "     { subject: \"Coffee Shopping\", author: \"efg\", views: 5 },\n",
    "     { subject: \"Baking a cake\", author: \"abc\", views: 90  },\n",
    "     { subject: \"baking\", author: \"xyz\", views: 100 },\n",
    "     { subject: \"Café Con Leche\", author: \"abc\", views: 200 },\n",
    "     { subject: \"Сырники\", author: \"jkl\", views: 80 },\n",
    "     { subject: \"coffee and cream\", author: \"efg\", views: 10 },\n",
    "     { subject: \"Cafe con Leche\", author: \"xyz\", views: 10 },\n",
    "     { subject: \"coffees\", author: \"xyz\", views: 10 },\n",
    "     { subject: \"coffee1\", author: \"xyz\", views: 10 }\n",
    "   ]\n",
    ")\n",
    "</pre>"
   ]
  },
  {
   "cell_type": "markdown",
   "metadata": {},
   "source": [
    "<div class=\"alert alert-block alert-success\">\n",
    "<font color=\"blue\" size=\"4em\">실습</font><br>\n",
    "1. employees Collection 생성 {capped:true, size:100000} Capped Collection, size는 100000 으로 생성<br>\n",
    "2. 다음 Document 데이터 넣기<br>\n",
    "   - user_id 가 bcd001, age 가 45, status 가 A 인 Document<br>\n",
    "   - user_id 가 bcd002, age 가 25, status 가 B 인 Document<br>\n",
    "   - user_id 가 bcd003, age 가 50, status 가 A 인 Document<br>\n",
    "   - user_id 가 bcd004, age 가 35, status 가 A 인 Document<br>\n",
    "   - user_id 가 abc001, age 가 28, status 가 B 인 Document<br>\n",
    "</div>"
   ]
  },
  {
   "cell_type": "markdown",
   "metadata": {},
   "source": [
    "### 4.2. Document 읽기(검색) - findOne, find\n",
    "  - findOne : 매칭되는 한개의 document 검색\n",
    "  - find : 매칭되는 list of document 검색"
   ]
  },
  {
   "cell_type": "markdown",
   "metadata": {},
   "source": [
    "### Document 읽기(검색) 문법"
   ]
  },
  {
   "cell_type": "markdown",
   "metadata": {},
   "source": [
    "<img src=\"https://www.fun-coding.org/00_Images/mongodb_find_structure.png\" /> "
   ]
  },
  {
   "cell_type": "markdown",
   "metadata": {
    "collapsed": true
   },
   "source": [
    "- find()/findOne 명령과 - SQL 문 비교"
   ]
  },
  {
   "cell_type": "markdown",
   "metadata": {},
   "source": [
    "<pre>\n",
    "db.people.find() - SELECT * FROM people\n",
    "db.people.find({ }, { user_id: 1, status: 1 }) - SELECT _id, user_id, status FROM people\n",
    "db.people.find({ },{ user_id: 1, status: 1, _id: 0 }) - SELECT user_id, status FROM people\n",
    "db.people.find({ status: \"A\" }) - SELECT * FROM people WHERE status = \"A\"\n",
    "db.people.find({ status: \"A\", age: 50 }) - SELECT * FROM people WHERE status = \"A\" AND age = 50\n",
    "db.people.find({ $or: [ { status: \"A\" } , { age: 50 } ] }) - SELECT * FROM people WHERE status = \"A\" OR age = 50\n",
    "</pre>"
   ]
  },
  {
   "cell_type": "markdown",
   "metadata": {},
   "source": [
    "<div class=\"alert alert-block alert-success\">\n",
    "<font color=\"blue\" size=\"4em\">실습</font><br>\n",
    "1. employees Collection 에서 user_id 가 bcd002 인 Document의 user_id, age, status, _id 출력<br>\n",
    "2. employees Collection 에서 user_id 가 bcd003 인 Document의 user_id, age, status 출력<br>\n",
    "3. employees Collection 에서 user_id 가 bcd004 이거나, age가 28인 Document 의 모든 필드 출력\n",
    "</div>"
   ]
  },
  {
   "cell_type": "markdown",
   "metadata": {},
   "source": [
    "### 비교 문법\n",
    "<pre>\n",
    "$eq     =    Matches values that are equal to a specified value.\n",
    "$gt     >    Matches values that are greater than a specified value.\n",
    "$gte    >=   Matches values that are greater than or equal to a specified value.\n",
    "$in          Matches any of the values specified in an array.\n",
    "$lt     <    Matches values that are less than a specified value.\n",
    "$lte    <=   Matches values that are less than or equal to a specified value.\n",
    "$ne     !=   Matches all values that are not equal to a specified value.\n",
    "$nin         Matches none of the values specified in an array.\n",
    "</pre>"
   ]
  },
  {
   "cell_type": "markdown",
   "metadata": {},
   "source": [
    "### 비교 문법 코드 예제\n",
    "<pre>\n",
    "db.people.find({ age: { $gt: 25 } }) - SELECT * FROM people WHERE age > 25\n",
    "db.people.find({ age: { $lt: 25 } }) - SELECT * FROM people WHERE age < 25\n",
    "db.people.find({ age: { $gt: 25, $lte: 50 } }) - SELECT * FROM people WHERE age > 25 AND age <= 50\n",
    "db.people.find( { age: { $nin: [ 5, 15 ] } } )) - SELECT * FROM people WHERE age = 5 or age = 15\n",
    "db.people.find( { user_id: /bc/ } )\n",
    "db.people.find( { user_id: { $regex: /bc/ } } )\n",
    "                                                  - SELECT * FROM people WHERE user_id like \"%bc%\"\n",
    "db.people.find( { user_id: /^bc/ } )\n",
    "db.people.find( { user_id: { $regex: /^bc/ } } )\n",
    "                                                  - SELECT * FROM people WHERE user_id like \"bc%\"\n",
    "db.people.find( { status: \"A\" } ).sort( { user_id: 1 } ) - SELECT * FROM people WHERE status = \"A\" ORDER BY user_id ASC \n",
    "db.people.find( { status: \"A\" } ).sort( { user_id: -1 } ) - SELECT * FROM people WHERE status = \"A\" ORDER BY user_id DESC\n",
    "db.people.count()\n",
    "db.people.find().count()\n",
    "                                                  - SELECT COUNT(*) FROM people\n",
    "db.people.count( { user_id: { $exists: true } } )\n",
    "db.people.find( { user_id: { $exists: true } } ).count()\n",
    "                                                  - SELECT COUNT(user_id) FROM people\n",
    "db.people.count( { age: { $gt: 30 } } )\n",
    "db.people.find( { age: { $gt: 30 } } ).count()\n",
    "                                                  - SELECT COUNT(*) FROM people WHERE age > 30\n",
    "db.people.distinct( \"status\" ) - SELECT DISTINCT(status) FROM people\n",
    "db.people.findOne()\n",
    "db.people.find().limit(1)\n",
    "                                                  - SELECT * FROM people LIMIT 1\n",
    "</pre>"
   ]
  },
  {
   "cell_type": "markdown",
   "metadata": {},
   "source": [
    "<div class=\"alert alert-block alert-success\">\n",
    "<font color=\"blue\" size=\"4em\">실습</font><br>\n",
    "1. 다음 Document 데이터 넣기<br>\n",
    "   - age 가 20 보다 큰 Document 의 user_id 만 출력하기<br>\n",
    "   - age 가 50 이고 status 가 A 인 Document 의 user_id 만 출력하기<br>\n",
    "   - age 가 60 보다 작은 Document 의 user_id 와 age 출력하기<br>\n",
    "   - user_id 종류 출력하기<br>\n",
    "   - user_id 가 bcd 로 시작하는 전체 Document 출력하기\n",
    "</div>"
   ]
  },
  {
   "cell_type": "markdown",
   "metadata": {},
   "source": [
    "### Document 수정 - updateOne, updateMany\n",
    "  - updateOne - 매칭되는 한개의 document 업데이트\n",
    "  - updateMany - 매칭되는 list of document 업데이트"
   ]
  },
  {
   "cell_type": "markdown",
   "metadata": {},
   "source": [
    "### 4.3. Document 수정 문법"
   ]
  },
  {
   "cell_type": "markdown",
   "metadata": {},
   "source": [
    "<img src=\"https://www.fun-coding.org/00_Images/mongodb_update_structure.png\" />"
   ]
  },
  {
   "cell_type": "raw",
   "metadata": {},
   "source": [
    "- $set: field 값 설정\n",
    "- $inc: field 값을 증가시키거나, 감소시킴\n",
    "  - 예: $inc: { age: 2 } - age 값을 본래의 값에서 2 증가"
   ]
  },
  {
   "cell_type": "markdown",
   "metadata": {
    "collapsed": true
   },
   "source": [
    "### Document 수정 코드 예제"
   ]
  },
  {
   "cell_type": "markdown",
   "metadata": {},
   "source": [
    "<pre>\n",
    "- db.people.updateMany( { age: { $gt: 25 } }, { $set: { status: \"C\" } } )\n",
    "- SQL 변환하면, \n",
    "  - UPDATE people SET status = \"C\" WHERE age > 25\n",
    "- 한 Document만 수정하려면 updateOne을 사용함\n",
    "- db.people.updateOne( { age: { $gt: 25 } }, { $set: { status: \"C\" } } )\n",
    "- db.people.updateMany( { status: \"A\" } , { $inc: { age: 3 } } )\n",
    "- SQL 변환하면,\n",
    "  - UPDATE people SET age = age + 3 WHERE status = \"A\"\n",
    "</pre>"
   ]
  },
  {
   "cell_type": "markdown",
   "metadata": {},
   "source": [
    "<div class=\"alert alert-block alert-success\">\n",
    "<font color=\"blue\" size=\"4em\">실습</font><br>\n",
    "1. 다음 Document 데이터 수정하기<br>\n",
    "   - age 가 40 보다 큰 Document 의 status 를 B 로 변환하기\n",
    "</div>"
   ]
  },
  {
   "cell_type": "markdown",
   "metadata": {},
   "source": [
    "### 4.4. Document 삭제 - removeOne, removeMany\n",
    "  - removeOne - 매칭되는 한개의 document 삭제\n",
    "  - removeMany - 매칭되는 list of document 삭제\n"
   ]
  },
  {
   "cell_type": "markdown",
   "metadata": {},
   "source": [
    "### Document 삭제 문법"
   ]
  },
  {
   "cell_type": "markdown",
   "metadata": {},
   "source": [
    "<img src=\"https://www.fun-coding.org/00_Images/mongodb_delete_structure.png\" /> "
   ]
  },
  {
   "cell_type": "markdown",
   "metadata": {
    "collapsed": true
   },
   "source": [
    "- db.people.deleteMany( { status: \"D\" } )\n",
    "- SQL로 변환하면,\n",
    "  - DELETE FROM people WHERE status = \"D\"\n",
    "- db.people.deleteMany({})\n",
    "- SQL로 변환하면,\n",
    "  - DELETE FROM people  "
   ]
  },
  {
   "cell_type": "markdown",
   "metadata": {},
   "source": [
    "<div class=\"alert alert-block alert-success\">\n",
    "<font color=\"blue\" size=\"4em\">실습</font><br>\n",
    "1. 다음 Document 데이터 삭제하기<br>\n",
    "   - age 가 30 보다 작은 Document 삭제하기\n",
    "</div>"
   ]
  },
  {
   "cell_type": "markdown",
   "metadata": {},
   "source": [
    "### 참고: mongo shell\n",
    " - 로컬에서 서버가 돌아갈 경우,\n",
    "   - mongo\n",
    " - 원격 서버에 접속할 경우 \n",
    "   - mongo --host 'host_address' --port 'port'\n",
    "   - 예) mongo --host 192.10.21.3 --port 27017\n"
   ]
  },
  {
   "cell_type": "markdown",
   "metadata": {},
   "source": [
    "## 5. 파이썬으로 mongoDB 제어하기 - pymongo 라이브러리\n",
    " - mongodb python module\n",
    " - https://api.mongodb.com/python/current/\n",
    " - pip install pymongo"
   ]
  },
  {
   "cell_type": "markdown",
   "metadata": {},
   "source": [
    "### 참고\n",
    "1. pymongo 라이브러리 import\n",
    "2. mongodb 접속 (주소)\n",
    "3. 내가 사용할 database, collection 생성 또는 선택\n",
    "4. 해당 database의 collection에 CRUD 명령하는 방법"
   ]
  },
  {
   "cell_type": "markdown",
   "metadata": {},
   "source": [
    "### mongodb with EC2 Connection via using pymongo (코드 실행 실습)"
   ]
  },
  {
   "cell_type": "code",
   "execution_count": 87,
   "metadata": {},
   "outputs": [],
   "source": [
    "import pymongo"
   ]
  },
  {
   "cell_type": "markdown",
   "metadata": {},
   "source": [
    "### 5.1.  연결하기"
   ]
  },
  {
   "cell_type": "code",
   "execution_count": 28,
   "metadata": {},
   "outputs": [],
   "source": [
    "import pymongo\n",
    "conn = pymongo.MongoClient()"
   ]
  },
  {
   "cell_type": "code",
   "execution_count": 10,
   "metadata": {},
   "outputs": [],
   "source": [
    "# connection = pymongo.MongoClient(mongo_server, 27017)\n",
    "connection = pymongo.MongoClient('mongodb://13.209.140.30')"
   ]
  },
  {
   "cell_type": "markdown",
   "metadata": {},
   "source": [
    "### 5.2. test Database 사용하기 (없으면 만들어진다.)"
   ]
  },
  {
   "cell_type": "code",
   "execution_count": 29,
   "metadata": {},
   "outputs": [],
   "source": [
    "knowledge = conn.knowledge"
   ]
  },
  {
   "cell_type": "code",
   "execution_count": 18,
   "metadata": {},
   "outputs": [],
   "source": [
    "mydb_test = conn[\"test\"]   # 이렇게도 가능하다."
   ]
  },
  {
   "cell_type": "code",
   "execution_count": 30,
   "metadata": {},
   "outputs": [
    {
     "name": "stdout",
     "output_type": "stream",
     "text": [
      "Database(MongoClient(host=['localhost:27017'], document_class=dict, tz_aware=False, connect=True), 'knowledge')\n"
     ]
    }
   ],
   "source": [
    "print(knowledge)"
   ]
  },
  {
   "cell_type": "code",
   "execution_count": 20,
   "metadata": {
    "scrolled": true
   },
   "outputs": [
    {
     "name": "stdout",
     "output_type": "stream",
     "text": [
      "['_BaseObject__codec_options', '_BaseObject__read_concern', '_BaseObject__read_preference', '_BaseObject__write_concern', '_Database__client', '_Database__incoming_copying_manipulators', '_Database__incoming_manipulators', '_Database__name', '_Database__outgoing_copying_manipulators', '_Database__outgoing_manipulators', '__call__', '__class__', '__delattr__', '__dict__', '__dir__', '__doc__', '__eq__', '__format__', '__ge__', '__getattr__', '__getattribute__', '__getitem__', '__gt__', '__hash__', '__init__', '__init_subclass__', '__iter__', '__le__', '__lt__', '__module__', '__ne__', '__new__', '__next__', '__reduce__', '__reduce_ex__', '__repr__', '__setattr__', '__sizeof__', '__str__', '__subclasshook__', '__weakref__', '_apply_incoming_copying_manipulators', '_apply_incoming_manipulators', '_command', '_create_or_update_user', '_default_role', '_fix_incoming', '_fix_outgoing', '_list_collections', '_read_preference_for', '_write_concern_for', 'add_son_manipulator', 'add_user', 'authenticate', 'client', 'codec_options', 'collection_names', 'command', 'create_collection', 'current_op', 'dereference', 'drop_collection', 'error', 'eval', 'get_collection', 'incoming_copying_manipulators', 'incoming_manipulators', 'last_status', 'list_collection_names', 'list_collections', 'logout', 'name', 'next', 'outgoing_copying_manipulators', 'outgoing_manipulators', 'previous_error', 'profiling_info', 'profiling_level', 'read_concern', 'read_preference', 'remove_user', 'reset_error_history', 'set_profiling_level', 'system_js', 'validate_collection', 'watch', 'write_concern']\n"
     ]
    }
   ],
   "source": [
    "print(dir(mydb_test))"
   ]
  },
  {
   "cell_type": "code",
   "execution_count": 31,
   "metadata": {},
   "outputs": [
    {
     "name": "stdout",
     "output_type": "stream",
     "text": [
      "knowledge\n"
     ]
    }
   ],
   "source": [
    "print(knowledge.name)"
   ]
  },
  {
   "cell_type": "markdown",
   "metadata": {
    "collapsed": true
   },
   "source": [
    "### 5.3.  test_collection 이라는 collection 사용하기 (없으면 만들어진다.)"
   ]
  },
  {
   "cell_type": "code",
   "execution_count": 34,
   "metadata": {},
   "outputs": [],
   "source": [
    "knowledge_it = knowledge.it"
   ]
  },
  {
   "cell_type": "code",
   "execution_count": 35,
   "metadata": {},
   "outputs": [],
   "source": [
    "knowledge_it = knowledge[\"it\"]"
   ]
  },
  {
   "cell_type": "code",
   "execution_count": 37,
   "metadata": {},
   "outputs": [
    {
     "data": {
      "text/plain": [
       "Collection(Database(MongoClient(host=['localhost:27017'], document_class=dict, tz_aware=False, connect=True), 'knowledge'), 'it')"
      ]
     },
     "execution_count": 37,
     "metadata": {},
     "output_type": "execute_result"
    }
   ],
   "source": [
    "knowledge_it"
   ]
  },
  {
   "cell_type": "markdown",
   "metadata": {
    "collapsed": true
   },
   "source": [
    "### 5.4.  Document INSERT 하기 ( insert_one() 과 insert_many() )"
   ]
  },
  {
   "cell_type": "markdown",
   "metadata": {},
   "source": [
    "* insert_one()\n",
    "  - mongodb shell 명령어: insertOne()"
   ]
  },
  {
   "cell_type": "code",
   "execution_count": 38,
   "metadata": {},
   "outputs": [],
   "source": [
    "post = {\"author\": \"Mike\", \"text\": \"My first blog post!\", \"tags\": [\"mongodb\", \"python\", \"pymongo\"] }"
   ]
  },
  {
   "cell_type": "code",
   "execution_count": 39,
   "metadata": {},
   "outputs": [
    {
     "data": {
      "text/plain": [
       "<pymongo.results.InsertOneResult at 0x1048e9d48>"
      ]
     },
     "execution_count": 39,
     "metadata": {},
     "output_type": "execute_result"
    }
   ],
   "source": [
    "knowledge_it.insert_one(post)"
   ]
  },
  {
   "cell_type": "code",
   "execution_count": 40,
   "metadata": {},
   "outputs": [
    {
     "data": {
      "text/plain": [
       "<pymongo.results.InsertOneResult at 0x1048e9bc8>"
      ]
     },
     "execution_count": 40,
     "metadata": {},
     "output_type": "execute_result"
    }
   ],
   "source": [
    "knowledge_it.insert_one( { \"author\":\"Dave Lee\", \"age\":45 } )"
   ]
  },
  {
   "cell_type": "markdown",
   "metadata": {},
   "source": [
    "* insert_many()"
   ]
  },
  {
   "cell_type": "code",
   "execution_count": 43,
   "metadata": {},
   "outputs": [
    {
     "data": {
      "text/plain": [
       "<pymongo.results.InsertManyResult at 0x1048e9a08>"
      ]
     },
     "execution_count": 43,
     "metadata": {},
     "output_type": "execute_result"
    }
   ],
   "source": [
    "knowledge_it.insert_many(\n",
    "    [\n",
    "        { \"author\":\"Dave Ahn\", \"age\":25 },\n",
    "        { \"author\":\"Dave\", \"age\":35 }\n",
    "    ]\n",
    ")"
   ]
  },
  {
   "cell_type": "markdown",
   "metadata": {},
   "source": [
    "* Document INSERT 하면, _id (primary key)를 확인하는 방법"
   ]
  },
  {
   "cell_type": "code",
   "execution_count": 49,
   "metadata": {},
   "outputs": [],
   "source": [
    "post = {\"author\": \"Dave\", \"text\": \"My first blog post!\"}"
   ]
  },
  {
   "cell_type": "code",
   "execution_count": 50,
   "metadata": {},
   "outputs": [],
   "source": [
    "post_id = knowledge_it.insert_one(post)"
   ]
  },
  {
   "cell_type": "code",
   "execution_count": 51,
   "metadata": {},
   "outputs": [
    {
     "data": {
      "text/plain": [
       "<pymongo.results.InsertOneResult at 0x1042fce48>"
      ]
     },
     "execution_count": 51,
     "metadata": {},
     "output_type": "execute_result"
    }
   ],
   "source": [
    "post_id"
   ]
  },
  {
   "cell_type": "code",
   "execution_count": 52,
   "metadata": {},
   "outputs": [
    {
     "data": {
      "text/plain": [
       "ObjectId('5d32a3abc92b6508c3f5d306')"
      ]
     },
     "execution_count": 52,
     "metadata": {},
     "output_type": "execute_result"
    }
   ],
   "source": [
    "post_id.inserted_id"
   ]
  },
  {
   "cell_type": "markdown",
   "metadata": {},
   "source": [
    "* estimated_document_count() 메서드는 컬렉션 객체와 함께 쓰여서 총 Document 수를 알려줌\n",
    "  - count_documents({})\n",
    "  - count() 함수는 최신 pymongo 라이브러리에서는 사용 권장되지 않음"
   ]
  },
  {
   "cell_type": "code",
   "execution_count": 61,
   "metadata": {},
   "outputs": [
    {
     "data": {
      "text/plain": [
       "6"
      ]
     },
     "execution_count": 61,
     "metadata": {},
     "output_type": "execute_result"
    }
   ],
   "source": [
    "knowledge_it.count_documents({})    "
   ]
  },
  {
   "cell_type": "markdown",
   "metadata": {},
   "source": [
    "* list와 dictionary 를 활용하여 insert 하기"
   ]
  },
  {
   "cell_type": "code",
   "execution_count": 63,
   "metadata": {},
   "outputs": [
    {
     "data": {
      "text/plain": [
       "<pymongo.results.InsertOneResult at 0x1048e9908>"
      ]
     },
     "execution_count": 63,
     "metadata": {},
     "output_type": "execute_result"
    }
   ],
   "source": [
    "# 리스트, 객체 삽입 가능\n",
    "knowledge_it.insert_one({'title' : '암살', 'castings' : ['이정재', '전지현', '하정우']})\n",
    "knowledge_it.insert_one(\n",
    "    {\n",
    "        'title' : '실미도', \n",
    "        'castings' : ['설경구', '안성기'], \n",
    "        'datetime' : \n",
    "        {\n",
    "            'year' : '2003', \n",
    "            'month' : 3,\n",
    "            'val' : \n",
    "            {\n",
    "                'a' :\n",
    "                {\n",
    "                    'b' : 1\n",
    "                }\n",
    "            }\n",
    "        }\n",
    "    }\n",
    ")"
   ]
  },
  {
   "cell_type": "code",
   "execution_count": 64,
   "metadata": {},
   "outputs": [
    {
     "data": {
      "text/plain": [
       "<pymongo.results.InsertManyResult at 0x104975188>"
      ]
     },
     "execution_count": 64,
     "metadata": {},
     "output_type": "execute_result"
    }
   ],
   "source": [
    "data = list()\n",
    "data.append({'name' : 'aaron', 'age' : 20})\n",
    "data.append({'name' : 'bob', 'age' : 30})\n",
    "data.append({'name' : 'cathy', 'age' : 25})\n",
    "data.append({'name' : 'david', 'age' : 27})\n",
    "data.append({'name' : 'erick', 'age' : 28})\n",
    "data.append({'name' : 'fox', 'age' : 32})\n",
    "data.append({'name' : 'hmm'})\n",
    "\n",
    "knowledge_it.insert_many(data)"
   ]
  },
  {
   "cell_type": "code",
   "execution_count": 65,
   "metadata": {},
   "outputs": [
    {
     "data": {
      "text/plain": [
       "17"
      ]
     },
     "execution_count": 65,
     "metadata": {},
     "output_type": "execute_result"
    }
   ],
   "source": [
    "knowledge_it.estimated_document_count()"
   ]
  },
  {
   "cell_type": "markdown",
   "metadata": {},
   "source": [
    "### 5.5.  Document 검색 하기(읽기) ( find_one() 과 find() )"
   ]
  },
  {
   "cell_type": "markdown",
   "metadata": {},
   "source": [
    "* find_one() 메서드 : 가장 빨리 검색되는 하나 검색하기"
   ]
  },
  {
   "cell_type": "code",
   "execution_count": 69,
   "metadata": {},
   "outputs": [
    {
     "data": {
      "text/plain": [
       "{'_id': ObjectId('5d329c5fc92b6508c3f5d300'),\n",
       " 'author': 'Mike',\n",
       " 'text': 'My first blog post!',\n",
       " 'tags': ['mongodb', 'python', 'pymongo']}"
      ]
     },
     "execution_count": 69,
     "metadata": {},
     "output_type": "execute_result"
    }
   ],
   "source": [
    "knowledge_it.find_one()"
   ]
  },
  {
   "cell_type": "code",
   "execution_count": 72,
   "metadata": {},
   "outputs": [
    {
     "data": {
      "text/plain": [
       "{'_id': ObjectId('5d329de7c92b6508c3f5d304'), 'author': 'Dave', 'age': 35}"
      ]
     },
     "execution_count": 72,
     "metadata": {},
     "output_type": "execute_result"
    }
   ],
   "source": [
    "dave = knowledge_it.find_one( {\"author\":\"Dave\"} )\n",
    "dave"
   ]
  },
  {
   "cell_type": "markdown",
   "metadata": {},
   "source": [
    "* find_one( 안에 조건을 넣을 때는 사전 형식으로 해야 합니다. { 키:값 } )"
   ]
  },
  {
   "cell_type": "markdown",
   "metadata": {},
   "source": [
    "* find() 메서드 : 검색되는 모든 Document 읽어오기"
   ]
  },
  {
   "cell_type": "code",
   "execution_count": 73,
   "metadata": {},
   "outputs": [],
   "source": [
    "docs = knowledge_it.find()"
   ]
  },
  {
   "cell_type": "code",
   "execution_count": 74,
   "metadata": {},
   "outputs": [
    {
     "name": "stdout",
     "output_type": "stream",
     "text": [
      "{'_id': ObjectId('5d329c5fc92b6508c3f5d300'), 'author': 'Mike', 'text': 'My first blog post!', 'tags': ['mongodb', 'python', 'pymongo']}\n",
      "{'_id': ObjectId('5d329d62c92b6508c3f5d301'), 'author': 'Dave Lee', 'age': 45}\n",
      "{'_id': ObjectId('5d329da9c92b6508c3f5d302'), 'author': 'Dave Lee', 'age': 45}\n",
      "{'_id': ObjectId('5d329de7c92b6508c3f5d303'), 'author': 'Dave Ahn', 'age': 25}\n",
      "{'_id': ObjectId('5d329de7c92b6508c3f5d304'), 'author': 'Dave', 'age': 35}\n",
      "{'_id': ObjectId('5d32a3abc92b6508c3f5d306'), 'author': 'Dave', 'text': 'My first blog post!'}\n",
      "{'_id': ObjectId('5d32a6fdc92b6508c3f5d307'), 'title': '암살', 'castings': ['이정재', '전지현', '하정우']}\n",
      "{'_id': ObjectId('5d32a6fdc92b6508c3f5d308'), 'title': '실미도', 'castings': ['설경구', '안성기'], 'datetime': {'year': '2003', 'month': 3, 'val': {'a': {'b': 1}}}}\n",
      "{'_id': ObjectId('5d32a7acc92b6508c3f5d309'), 'title': '암살', 'castings': ['이정재', '전지현', '하정우']}\n",
      "{'_id': ObjectId('5d32a7acc92b6508c3f5d30a'), 'title': '실미도', 'castings': ['설경구', '안성기'], 'datetime': {'year': '2003', 'month': 3, 'val': {'a': {'b': 1}}}}\n",
      "{'_id': ObjectId('5d32a7e7c92b6508c3f5d30b'), 'name': 'aaron', 'age': 20}\n",
      "{'_id': ObjectId('5d32a7e7c92b6508c3f5d30c'), 'name': 'bob', 'age': 30}\n",
      "{'_id': ObjectId('5d32a7e7c92b6508c3f5d30d'), 'name': 'cathy', 'age': 25}\n",
      "{'_id': ObjectId('5d32a7e7c92b6508c3f5d30e'), 'name': 'david', 'age': 27}\n",
      "{'_id': ObjectId('5d32a7e7c92b6508c3f5d30f'), 'name': 'erick', 'age': 28}\n",
      "{'_id': ObjectId('5d32a7e7c92b6508c3f5d310'), 'name': 'fox', 'age': 32}\n",
      "{'_id': ObjectId('5d32a7e7c92b6508c3f5d311'), 'name': 'hmm'}\n"
     ]
    }
   ],
   "source": [
    "for doc in docs:\n",
    "    print(doc)"
   ]
  },
  {
   "cell_type": "code",
   "execution_count": 75,
   "metadata": {},
   "outputs": [],
   "source": [
    "docs = knowledge_it.find( {\"author\":\"Dave\"} )"
   ]
  },
  {
   "cell_type": "code",
   "execution_count": 76,
   "metadata": {},
   "outputs": [
    {
     "name": "stdout",
     "output_type": "stream",
     "text": [
      "{'_id': ObjectId('5d329de7c92b6508c3f5d304'), 'author': 'Dave', 'age': 35}\n",
      "{'_id': ObjectId('5d32a3abc92b6508c3f5d306'), 'author': 'Dave', 'text': 'My first blog post!'}\n"
     ]
    }
   ],
   "source": [
    "for doc in docs:\n",
    "    print(doc)"
   ]
  },
  {
   "cell_type": "markdown",
   "metadata": {},
   "source": [
    "* count_documents() 함수로 조건에 맞는 검색 데이터 갯수 알아내기"
   ]
  },
  {
   "cell_type": "code",
   "execution_count": 82,
   "metadata": {},
   "outputs": [
    {
     "data": {
      "text/plain": [
       "2"
      ]
     },
     "execution_count": 82,
     "metadata": {},
     "output_type": "execute_result"
    }
   ],
   "source": [
    "knowledge_it.count_documents({\"author\": \"Dave\"})"
   ]
  },
  {
   "cell_type": "markdown",
   "metadata": {},
   "source": [
    "* sort() 와 함께 쓰기"
   ]
  },
  {
   "cell_type": "code",
   "execution_count": 86,
   "metadata": {},
   "outputs": [
    {
     "name": "stdout",
     "output_type": "stream",
     "text": [
      "{'_id': ObjectId('5d329c5fc92b6508c3f5d300'), 'author': 'Mike', 'text': 'My first blog post!', 'tags': ['mongodb', 'python', 'pymongo']}\n",
      "{'_id': ObjectId('5d32a3abc92b6508c3f5d306'), 'author': 'Dave', 'text': 'My first blog post!'}\n",
      "{'_id': ObjectId('5d32a6fdc92b6508c3f5d307'), 'title': '암살', 'castings': ['이정재', '전지현', '하정우']}\n",
      "{'_id': ObjectId('5d32a6fdc92b6508c3f5d308'), 'title': '실미도', 'castings': ['설경구', '안성기'], 'datetime': {'year': '2003', 'month': 3, 'val': {'a': {'b': 1}}}}\n",
      "{'_id': ObjectId('5d32a7acc92b6508c3f5d309'), 'title': '암살', 'castings': ['이정재', '전지현', '하정우']}\n",
      "{'_id': ObjectId('5d32a7acc92b6508c3f5d30a'), 'title': '실미도', 'castings': ['설경구', '안성기'], 'datetime': {'year': '2003', 'month': 3, 'val': {'a': {'b': 1}}}}\n",
      "{'_id': ObjectId('5d32a7e7c92b6508c3f5d311'), 'name': 'hmm'}\n",
      "{'_id': ObjectId('5d32a7e7c92b6508c3f5d30b'), 'name': 'aaron', 'age': 20}\n",
      "{'_id': ObjectId('5d329de7c92b6508c3f5d303'), 'author': 'Dave Ahn', 'age': 25}\n",
      "{'_id': ObjectId('5d32a7e7c92b6508c3f5d30d'), 'name': 'cathy', 'age': 25}\n",
      "{'_id': ObjectId('5d32a7e7c92b6508c3f5d30e'), 'name': 'david', 'age': 27}\n",
      "{'_id': ObjectId('5d32a7e7c92b6508c3f5d30f'), 'name': 'erick', 'age': 28}\n",
      "{'_id': ObjectId('5d32a7e7c92b6508c3f5d30c'), 'name': 'bob', 'age': 30}\n",
      "{'_id': ObjectId('5d32a7e7c92b6508c3f5d310'), 'name': 'fox', 'age': 32}\n",
      "{'_id': ObjectId('5d329de7c92b6508c3f5d304'), 'author': 'Dave', 'age': 35}\n",
      "{'_id': ObjectId('5d329d62c92b6508c3f5d301'), 'author': 'Dave Lee', 'age': 45}\n",
      "{'_id': ObjectId('5d329da9c92b6508c3f5d302'), 'author': 'Dave Lee', 'age': 45}\n"
     ]
    }
   ],
   "source": [
    "for post in knowledge_it.find().sort(\"age\"):\n",
    "    print(post)"
   ]
  },
  {
   "cell_type": "markdown",
   "metadata": {},
   "source": [
    "### 5.6. Document Update 하기 (update_one() 과 update_many())"
   ]
  },
  {
   "cell_type": "markdown",
   "metadata": {},
   "source": [
    "* update_one() : 가장 먼저 검색되는 한 Document만 수정하기"
   ]
  },
  {
   "cell_type": "code",
   "execution_count": 92,
   "metadata": {
    "scrolled": true
   },
   "outputs": [
    {
     "data": {
      "text/plain": [
       "{'_id': ObjectId('5d329de7c92b6508c3f5d304'),\n",
       " 'author': 'Dave',\n",
       " 'age': 40,\n",
       " 'text': 'Hi Dave'}"
      ]
     },
     "execution_count": 92,
     "metadata": {},
     "output_type": "execute_result"
    }
   ],
   "source": [
    "knowledge_it.find_one( {\"author\":\"Dave\"} )"
   ]
  },
  {
   "cell_type": "code",
   "execution_count": 91,
   "metadata": {},
   "outputs": [
    {
     "data": {
      "text/plain": [
       "<pymongo.results.UpdateResult at 0x1048dd948>"
      ]
     },
     "execution_count": 91,
     "metadata": {},
     "output_type": "execute_result"
    }
   ],
   "source": [
    "knowledge_it.update_one( { \"author\" : \"Dave\" }, \n",
    "    { \"$set\" : \n",
    "        { \"text\" : \"Hi Dave\" }\n",
    "    }\n",
    ")"
   ]
  },
  {
   "cell_type": "code",
   "execution_count": 101,
   "metadata": {},
   "outputs": [],
   "source": [
    "docs = knowledge_it.find( {\"author\":\"Dave Lee\"} )"
   ]
  },
  {
   "cell_type": "code",
   "execution_count": 102,
   "metadata": {},
   "outputs": [
    {
     "name": "stdout",
     "output_type": "stream",
     "text": [
      "{'_id': ObjectId('5d329d62c92b6508c3f5d301'), 'author': 'Dave Lee', 'age': 30}\n",
      "{'_id': ObjectId('5d329da9c92b6508c3f5d302'), 'author': 'Dave Lee', 'age': 30}\n",
      "{'_id': ObjectId('5d329de7c92b6508c3f5d304'), 'author': 'Dave Lee', 'age': 30, 'text': 'Hi Dave'}\n",
      "{'_id': ObjectId('5d32a3abc92b6508c3f5d306'), 'author': 'Dave Lee', 'text': 'My first blog post!', 'age': 30}\n"
     ]
    }
   ],
   "source": [
    "for doc in docs:\n",
    "    print(doc)"
   ]
  },
  {
   "cell_type": "markdown",
   "metadata": {},
   "source": [
    "* update_many() : 조건에 맞는 모든 Document 수정하기"
   ]
  },
  {
   "cell_type": "code",
   "execution_count": 100,
   "metadata": {},
   "outputs": [
    {
     "data": {
      "text/plain": [
       "<pymongo.results.UpdateResult at 0x1047c6b88>"
      ]
     },
     "execution_count": 100,
     "metadata": {},
     "output_type": "execute_result"
    }
   ],
   "source": [
    "knowledge_it.update_many( {\"author\": \"Dave Lee\"}, {\"$set\": { \"age\": 30}})"
   ]
  },
  {
   "cell_type": "markdown",
   "metadata": {},
   "source": [
    "### 5.7. Document 삭제 하기 (delete_one() 과 delete_many())"
   ]
  },
  {
   "cell_type": "markdown",
   "metadata": {},
   "source": [
    "* delete_one() 메서드 : 가장 먼저 검색되는 한 Document만 삭제하기"
   ]
  },
  {
   "cell_type": "code",
   "execution_count": 103,
   "metadata": {},
   "outputs": [],
   "source": [
    "docs = knowledge_it.find( {\"author\":\"Dave Lee\"} )"
   ]
  },
  {
   "cell_type": "code",
   "execution_count": 104,
   "metadata": {},
   "outputs": [
    {
     "name": "stdout",
     "output_type": "stream",
     "text": [
      "{'_id': ObjectId('5d329d62c92b6508c3f5d301'), 'author': 'Dave Lee', 'age': 30}\n",
      "{'_id': ObjectId('5d329da9c92b6508c3f5d302'), 'author': 'Dave Lee', 'age': 30}\n",
      "{'_id': ObjectId('5d329de7c92b6508c3f5d304'), 'author': 'Dave Lee', 'age': 30, 'text': 'Hi Dave'}\n",
      "{'_id': ObjectId('5d32a3abc92b6508c3f5d306'), 'author': 'Dave Lee', 'text': 'My first blog post!', 'age': 30}\n"
     ]
    }
   ],
   "source": [
    "for doc in docs:\n",
    "    print(doc)"
   ]
  },
  {
   "cell_type": "code",
   "execution_count": 105,
   "metadata": {},
   "outputs": [
    {
     "data": {
      "text/plain": [
       "<pymongo.results.DeleteResult at 0x1048dd5c8>"
      ]
     },
     "execution_count": 105,
     "metadata": {},
     "output_type": "execute_result"
    }
   ],
   "source": [
    "knowledge_it.delete_one( {\"author\":\"Dave Lee\"} )"
   ]
  },
  {
   "cell_type": "code",
   "execution_count": 108,
   "metadata": {},
   "outputs": [],
   "source": [
    "docs = knowledge_it.find( {\"author\":\"Dave Lee\"} )"
   ]
  },
  {
   "cell_type": "code",
   "execution_count": 109,
   "metadata": {},
   "outputs": [
    {
     "name": "stdout",
     "output_type": "stream",
     "text": [
      "{'_id': ObjectId('5d329da9c92b6508c3f5d302'), 'author': 'Dave Lee', 'age': 30}\n",
      "{'_id': ObjectId('5d329de7c92b6508c3f5d304'), 'author': 'Dave Lee', 'age': 30, 'text': 'Hi Dave'}\n",
      "{'_id': ObjectId('5d32a3abc92b6508c3f5d306'), 'author': 'Dave Lee', 'text': 'My first blog post!', 'age': 30}\n"
     ]
    }
   ],
   "source": [
    "for doc in docs:\n",
    "    print(doc)"
   ]
  },
  {
   "cell_type": "markdown",
   "metadata": {},
   "source": [
    "* delete_many() 메서드 : 조건에 맞는 모든 Document 삭제하기"
   ]
  },
  {
   "cell_type": "code",
   "execution_count": 110,
   "metadata": {},
   "outputs": [
    {
     "data": {
      "text/plain": [
       "<pymongo.results.DeleteResult at 0x104985248>"
      ]
     },
     "execution_count": 110,
     "metadata": {},
     "output_type": "execute_result"
    }
   ],
   "source": [
    "knowledge_it.delete_many( {\"author\":\"Dave Lee\"} )"
   ]
  },
  {
   "cell_type": "code",
   "execution_count": 112,
   "metadata": {},
   "outputs": [
    {
     "data": {
      "text/plain": [
       "0"
      ]
     },
     "execution_count": 112,
     "metadata": {},
     "output_type": "execute_result"
    }
   ],
   "source": [
    "knowledge_it.count_documents( {\"author\":\"Dave Lee\"} )"
   ]
  },
  {
   "cell_type": "code",
   "execution_count": 113,
   "metadata": {},
   "outputs": [],
   "source": [
    "import pymongo\n",
    "conn = pymongo.MongoClient()\n",
    "books = conn.books\n",
    "it_book = books.it_book\n",
    "\n",
    "data = list()\n",
    "for index in range(100):\n",
    "    data.append({\"author\":\"Dave Lee\", \"publisher\":\"fun-coding.org\", \"number\": index })"
   ]
  },
  {
   "cell_type": "code",
   "execution_count": 115,
   "metadata": {},
   "outputs": [
    {
     "data": {
      "text/plain": [
       "<pymongo.results.InsertManyResult at 0x104985508>"
      ]
     },
     "execution_count": 115,
     "metadata": {},
     "output_type": "execute_result"
    }
   ],
   "source": [
    "# CRUD - Create(Insert)\n",
    "it_book.insert_many(data)"
   ]
  },
  {
   "cell_type": "code",
   "execution_count": 121,
   "metadata": {},
   "outputs": [
    {
     "name": "stdout",
     "output_type": "stream",
     "text": [
      "{'_id': ObjectId('5d32bc4fc92b6508c3f5d313'), 'author': 'Dave Lee', 'publisher': 'www.fun-coding.org', 'number': 0}\n",
      "{'_id': ObjectId('5d32bc4fc92b6508c3f5d314'), 'author': 'Dave Lee', 'publisher': 'www.fun-coding.org', 'number': 1}\n",
      "{'_id': ObjectId('5d32bc4fc92b6508c3f5d315'), 'author': 'Dave Lee', 'publisher': 'www.fun-coding.org', 'number': 2}\n",
      "{'_id': ObjectId('5d32bc4fc92b6508c3f5d316'), 'author': 'Dave Lee', 'publisher': 'www.fun-coding.org', 'number': 3}\n",
      "{'_id': ObjectId('5d32bc4fc92b6508c3f5d317'), 'author': 'Dave Lee', 'publisher': 'www.fun-coding.org', 'number': 4}\n",
      "{'_id': ObjectId('5d32bc4fc92b6508c3f5d318'), 'author': 'Dave Lee', 'publisher': 'www.fun-coding.org', 'number': 5}\n"
     ]
    }
   ],
   "source": [
    "# CRUD - Read\n",
    "docs = it_book.find()\n",
    "for doc in docs:\n",
    "    print (doc)"
   ]
  },
  {
   "cell_type": "code",
   "execution_count": 118,
   "metadata": {},
   "outputs": [
    {
     "data": {
      "text/plain": [
       "<pymongo.results.UpdateResult at 0x104999e48>"
      ]
     },
     "execution_count": 118,
     "metadata": {},
     "output_type": "execute_result"
    }
   ],
   "source": [
    "# CRUD - Update\n",
    "it_book.update_many( {}, { \"$set\": { \"publisher\":\"www.fun-coding.org\"} } )"
   ]
  },
  {
   "cell_type": "markdown",
   "metadata": {},
   "source": [
    "<div class=\"alert alert-block alert-success\">\n",
    "<font color=\"blue\" size=\"4em\">실습</font><br>\n",
    "number 가 6 이상(>=)인 doc 삭제하기\n",
    "</div>"
   ]
  },
  {
   "cell_type": "code",
   "execution_count": 120,
   "metadata": {},
   "outputs": [
    {
     "data": {
      "text/plain": [
       "<pymongo.results.DeleteResult at 0x1047eeec8>"
      ]
     },
     "execution_count": 120,
     "metadata": {},
     "output_type": "execute_result"
    }
   ],
   "source": [
    "# CRUD - Delete\n",
    "it_book.delete_many( { \"number\": { \"$gte\": 6} } )"
   ]
  },
  {
   "cell_type": "markdown",
   "metadata": {
    "collapsed": true
   },
   "source": [
    "## 6. 크롤링과 함께 쓰는 mongoDB 예제"
   ]
  },
  {
   "cell_type": "code",
   "execution_count": 1,
   "metadata": {
    "collapsed": true,
    "scrolled": true
   },
   "outputs": [],
   "source": [
    "import requests\n",
    "import re\n",
    "import datetime\n",
    "from bs4 import BeautifulSoup\n",
    "from pymongo import MongoClient\n",
    "import pymongo"
   ]
  },
  {
   "cell_type": "code",
   "execution_count": 2,
   "metadata": {
    "collapsed": true,
    "scrolled": true
   },
   "outputs": [],
   "source": [
    "username = 'davelee'\n",
    "password = 'happy91'\n",
    "connection = pymongo.MongoClient('mongodb://%s:%s@www.funcoding.xyz' % (username, password))"
   ]
  },
  {
   "cell_type": "code",
   "execution_count": 3,
   "metadata": {
    "collapsed": true,
    "scrolled": true
   },
   "outputs": [],
   "source": [
    "mongodb = connection.cine21"
   ]
  },
  {
   "cell_type": "code",
   "execution_count": 4,
   "metadata": {
    "collapsed": true,
    "scrolled": true
   },
   "outputs": [],
   "source": [
    "actor_collection = mongodb.actor_collection"
   ]
  },
  {
   "cell_type": "code",
   "execution_count": 8,
   "metadata": {
    "scrolled": true
   },
   "outputs": [
    {
     "name": "stdout",
     "output_type": "stream",
     "text": [
      "마동석\n",
      "진선규\n",
      "윤계상\n",
      "조재윤\n",
      "최귀화\n",
      "허성태\n",
      "임형준\n",
      "조우진\n",
      "홍기준\n",
      "송영창\n",
      "조진웅\n",
      "허동원\n",
      "김윤석\n",
      "이병헌\n",
      "박해일\n",
      "정인기\n",
      "고수\n",
      "예정화\n",
      "박희순\n",
      "박지환\n",
      "이하늬\n",
      "이동휘\n",
      "이다윗\n",
      "나문희\n",
      "김소진\n",
      "이제훈\n",
      "정연주\n",
      "엄지성\n",
      "신하균\n",
      "김법래\n",
      "염혜란\n",
      "이상희\n",
      "민경진\n",
      "손숙\n",
      "박철민\n",
      "유순웅\n",
      "김구택\n",
      "박지일\n",
      "송상은\n",
      "윤병희\n",
      "최민식\n",
      "현빈\n",
      "최종률\n",
      "김래원\n",
      "이지훈\n",
      "도경수\n",
      "박신혜\n",
      "유지태\n",
      "정재진\n",
      "박성웅\n",
      "문창길\n",
      "박해준\n",
      "김해숙\n",
      "하준\n",
      "조한철\n",
      "이선균\n",
      "배성우\n",
      "김혜수\n",
      "김중기\n",
      "성동일\n",
      "김일웅\n",
      "심규혁\n",
      "이수경\n"
     ]
    }
   ],
   "source": [
    "actor_list = actor_collection.find()\n",
    "for actor in actor_list:\n",
    "    print(actor['actor'])"
   ]
  },
  {
   "cell_type": "markdown",
   "metadata": {},
   "source": [
    "### cine21 인물 랭킹 알아내기\n",
    "  - http://www.cine21.com/rank/person/\n",
    "  - 조회를 눌렀을 때, Go to Network -> content 의 Request URL/Method 와 Form 데이터 알아내기\n",
    "    - Request URL: http://www.cine21.com/rank/person/content\n",
    "    - Request Method: POST\n",
    "    - Form Data\n",
    "      - section:actor\n",
    "      - period_start:2017-09\n",
    "      - gender:all\n",
    "      - page:1\n",
    "    - 하단부 페이지를 누를 때마다, Form Data 의 page 값이 바뀜"
   ]
  },
  {
   "cell_type": "code",
   "execution_count": 62,
   "metadata": {
    "collapsed": true,
    "scrolled": true
   },
   "outputs": [],
   "source": [
    "cine21_url = 'http://www.cine21.com/rank/person/content'"
   ]
  },
  {
   "cell_type": "code",
   "execution_count": 63,
   "metadata": {
    "collapsed": true,
    "scrolled": true
   },
   "outputs": [],
   "source": [
    "month = \"2017-10\""
   ]
  },
  {
   "cell_type": "code",
   "execution_count": 64,
   "metadata": {
    "collapsed": true,
    "scrolled": true
   },
   "outputs": [],
   "source": [
    "conditions = dict()\n",
    "conditions['section'] = 'actor'\n",
    "conditions['period_start'] = month\n",
    "conditions['gender'] = 'all'\n",
    "conditions['page'] = 1"
   ]
  },
  {
   "cell_type": "code",
   "execution_count": 65,
   "metadata": {
    "collapsed": true,
    "scrolled": true
   },
   "outputs": [],
   "source": [
    "response = requests.post(cine21_url, data = conditions)"
   ]
  },
  {
   "cell_type": "code",
   "execution_count": 66,
   "metadata": {
    "scrolled": true
   },
   "outputs": [
    {
     "data": {
      "text/plain": [
       "<Response [200]>"
      ]
     },
     "execution_count": 66,
     "metadata": {},
     "output_type": "execute_result"
    }
   ],
   "source": [
    "response"
   ]
  },
  {
   "cell_type": "code",
   "execution_count": null,
   "metadata": {
    "collapsed": true,
    "scrolled": false
   },
   "outputs": [],
   "source": [
    "response.content"
   ]
  },
  {
   "cell_type": "code",
   "execution_count": 68,
   "metadata": {
    "collapsed": true,
    "scrolled": true
   },
   "outputs": [],
   "source": [
    "soup = BeautifulSoup(response.content.decode('utf-8'), 'html.parser')"
   ]
  },
  {
   "cell_type": "code",
   "execution_count": null,
   "metadata": {
    "collapsed": true,
    "scrolled": false
   },
   "outputs": [],
   "source": [
    "soup"
   ]
  },
  {
   "cell_type": "code",
   "execution_count": 70,
   "metadata": {
    "collapsed": true,
    "scrolled": true
   },
   "outputs": [],
   "source": [
    "actors = soup.select('li.people_li div.name')"
   ]
  },
  {
   "cell_type": "code",
   "execution_count": 71,
   "metadata": {
    "scrolled": true
   },
   "outputs": [
    {
     "data": {
      "text/plain": [
       "[<div class=\"name\"><a href=\"/db/person/info/?person_id=64614\">마동석(3편)</a></div>,\n",
       " <div class=\"name\"><a href=\"/db/person/info/?person_id=82350\">진선규(2편)</a></div>,\n",
       " <div class=\"name\"><a href=\"/db/person/info/?person_id=19889\">윤계상(3편)</a></div>,\n",
       " <div class=\"name\"><a href=\"/db/person/info/?person_id=84000\">조재윤(2편)</a></div>,\n",
       " <div class=\"name\"><a href=\"/db/person/info/?person_id=102264\">최귀화(3편)</a></div>,\n",
       " <div class=\"name\"><a href=\"/db/person/info/?person_id=27131\">허성태(3편)</a></div>,\n",
       " <div class=\"name\"><a href=\"/db/person/info/?person_id=34884\">임형준(2편)</a></div>]"
      ]
     },
     "execution_count": 71,
     "metadata": {},
     "output_type": "execute_result"
    }
   ],
   "source": [
    "actors"
   ]
  },
  {
   "cell_type": "markdown",
   "metadata": {
    "scrolled": true
   },
   "source": [
    "<div class=\"alert alert-block alert-success\">\n",
    "<font color=\"blue\" size=\"4em\">실습</font><br>\n",
    "actors 리스트에서 배우 이름만 추출하기 예) 마동석(3편)  --> 마동석\n",
    "</div>"
   ]
  },
  {
   "cell_type": "code",
   "execution_count": 72,
   "metadata": {
    "scrolled": true
   },
   "outputs": [
    {
     "name": "stdout",
     "output_type": "stream",
     "text": [
      "마동석\n",
      "진선규\n",
      "윤계상\n",
      "조재윤\n",
      "최귀화\n",
      "허성태\n",
      "임형준\n"
     ]
    }
   ],
   "source": [
    "import re\n",
    "for actor in actors:\n",
    "    print(re.sub(\"\\(\\w+\\)\", \"\", actor.text))"
   ]
  },
  {
   "cell_type": "markdown",
   "metadata": {},
   "source": [
    "### 각 배우별 상세 정보를 document에 넣고 싶다.\n",
    "* 각 배우별 상세 정보를 별도 컬럼으로 만들려했더니, 각 배우별 상세 정보 항목이 다르다!\n",
    "* 모든 상세 정보 항목을 컬럼으로 만들고, 각 컬럼에 매칭되는 컬럼값을 넣기가 쉽지 않다. 코드도 복잡하고!\n",
    "* Mongodb는 NoSQL -> 통째로 집어넣자.!"
   ]
  },
  {
   "cell_type": "markdown",
   "metadata": {},
   "source": [
    "* embedded document\n",
    "  - document 의 컬럼값으로 document를 넣을 수 있다."
   ]
  },
  {
   "cell_type": "markdown",
   "metadata": {},
   "source": [
    "### 크롤링해서, embedded document 로 각 배우별 상세 정보를 통째로 만들고, document 컬럼에 넣기"
   ]
  },
  {
   "cell_type": "code",
   "execution_count": 79,
   "metadata": {
    "scrolled": true
   },
   "outputs": [
    {
     "name": "stdout",
     "output_type": "stream",
     "text": [
      "[{'직업': '배우', '생년월일': '1971-03-01', '성별': '남', '홈페이지': 'https://www.instagram.com/madongseok_/\\nhttps://twitter.com/madongseok12'}, {'직업': '배우', '생년월일': '1977-09-13', '성별': '남'}, {'다른 이름': '지오디;god', '직업': '배우', '생년월일': '1978-12-20', '성별': '남', '홈페이지': 'https://www.facebook.com/saram.yoonkyesang\\nhttps://www.instagram.com/kyesang78/', '신장/체중': '182cm, 62kg', '학교': '경희대학교 포스트모던학과 휴학', '취미': '컴퓨터게임, 스노우보드', '특기': '표정연기, 춤추기'}, {'직업': '배우', '생년월일': '1974-09-15', '성별': '남', '홈페이지': 'https://www.instagram.com/jojaeyun/'}, {'직업': '배우', '생년월일': '1978-03-03', '성별': '남', '신장/체중': '181cm, 72kg'}, {'직업': '배우', '성별': '남'}, {'직업': '배우', '생년월일': '1974-05-10', '성별': '남', '신장/체중': '177cm, 71kg', '학교': '서울예술대학 연극과', '취미': '스쿼시, 피아노', '특기': '작곡, 노래', '소속사': '나무액터스'}]\n"
     ]
    }
   ],
   "source": [
    "actor_detail_info = list()\n",
    "\n",
    "for actor in actors:\n",
    "\n",
    "    actor_info_dict = dict()\n",
    "    \n",
    "    actor_info = 'http://www.cine21.com' + actor.select_one('a').attrs['href']\n",
    "    \n",
    "    response_actor = requests.get(actor_info)\n",
    "    \n",
    "    soup_actor = BeautifulSoup(response_actor.content.decode('utf-8'), 'html.parser')\n",
    "    \n",
    "    actor_datas = soup_actor.select('ul.default_info')\n",
    "    for actor_data in soup_actor.select('ul.default_info'):\n",
    "        for actor_item in actor_data.select('li'):\n",
    "            actor_item_text = re.sub('<span.*?>.*?</span>', '', str(actor_item))\n",
    "            actor_item_text = re.sub('<.+?>', '', actor_item_text)\n",
    "            actor_info_dict[actor_item.select_one('span.tit').text] = actor_item_text.strip()\n",
    "    actor_detail_info.append(actor_info_dict)\n",
    "print(actor_detail_info)"
   ]
  },
  {
   "cell_type": "code",
   "execution_count": 66,
   "metadata": {
    "scrolled": true
   },
   "outputs": [
    {
     "name": "stdout",
     "output_type": "stream",
     "text": [
      "{'다른 이름': '지오디;god', '직업': '배우', '생년월일': '1978-12-20', '성별': '남', '홈페이지': 'https://www.facebook.com/saram.yoonkyesang\\nhttps://www.instagram.com/kyesang78/', '신장/체중': '182cm, 62kg', '학교': '경희대학교 포스트모던학과 휴학', '취미': '컴퓨터게임, 스노우보드', '특기': '표정연기, 춤추기'}\n"
     ]
    }
   ],
   "source": [
    "actor_info_dict = dict()\n",
    "\n",
    "actor_info = 'http://www.cine21.com/db/person/info/?person_id=19889'\n",
    "\n",
    "response_actor = requests.get(actor_info)\n",
    "\n",
    "soup_actor = BeautifulSoup(response_actor.content.decode('utf-8'), 'html.parser')\n",
    "\n",
    "actor_datas = soup_actor.select('ul.default_info')\n",
    "for actor_data in soup_actor.select('ul.default_info'):\n",
    "    for actor_item in actor_data.select('li'):\n",
    "        actor_item_text = re.sub('<span.*?>.*?</span>', '', str(actor_item))\n",
    "        actor_item_text = re.sub('<.+?>', '', actor_item_text)\n",
    "        actor_info_dict[actor_item.select_one('span.tit').text] = actor_item_text.strip()\n",
    "print(actor_info_dict)"
   ]
  },
  {
   "cell_type": "code",
   "execution_count": 73,
   "metadata": {
    "collapsed": true,
    "scrolled": true
   },
   "outputs": [],
   "source": [
    "actor_info_dict = dict()\n",
    "\n",
    "actor_info = 'http://www.cine21.com/db/person/info/?person_id=19889'\n",
    "\n",
    "response_actor = requests.get(actor_info)\n",
    "\n",
    "soup_actor = BeautifulSoup(response_actor.content.decode('utf-8'), 'html.parser')"
   ]
  },
  {
   "cell_type": "code",
   "execution_count": null,
   "metadata": {
    "collapsed": true,
    "scrolled": false
   },
   "outputs": [],
   "source": [
    "soup_actor"
   ]
  },
  {
   "cell_type": "code",
   "execution_count": 75,
   "metadata": {
    "collapsed": true,
    "scrolled": true
   },
   "outputs": [],
   "source": [
    "actor_datas = soup_actor.select('ul.default_info')"
   ]
  },
  {
   "cell_type": "code",
   "execution_count": 76,
   "metadata": {
    "scrolled": true
   },
   "outputs": [
    {
     "data": {
      "text/plain": [
       "[<ul class=\"default_info\">\n",
       " <li><span class=\"tit\">다른 이름</span>지오디;god</li>\n",
       " <li><span class=\"tit\">직업</span>배우</li>\n",
       " <li><span class=\"tit\">생년월일</span>1978-12-20</li>\n",
       " <li><span class=\"tit\">성별</span>남</li>\n",
       " <li><span class=\"tit\">홈페이지</span>\n",
       " <a href=\"https://www.facebook.com/saram.yoonkyesang\" target=\"_blank\">https://www.facebook.com/saram.yoonkyesang</a><br/>\n",
       " <a href=\"https://www.instagram.com/kyesang78/\" target=\"_blank\">https://www.instagram.com/kyesang78/</a><br/>\n",
       " </li>\n",
       " <li><span class=\"tit\">신장/체중</span>182cm, 62kg</li>\n",
       " <li><span class=\"tit\">학교</span>경희대학교 포스트모던학과 휴학</li>\n",
       " <li><span class=\"tit\">취미</span>컴퓨터게임, 스노우보드</li>\n",
       " <li><span class=\"tit\">특기</span>표정연기, 춤추기</li>\n",
       " </ul>]"
      ]
     },
     "execution_count": 76,
     "metadata": {},
     "output_type": "execute_result"
    }
   ],
   "source": [
    "actor_datas"
   ]
  },
  {
   "cell_type": "code",
   "execution_count": 77,
   "metadata": {
    "collapsed": true,
    "scrolled": true
   },
   "outputs": [],
   "source": [
    "for actor_data in soup_actor.select('ul.default_info'):\n",
    "    for actor_item in actor_data.select('li'):\n",
    "        actor_item_text = re.sub('<span.*?>.*?</span>', '', str(actor_item))\n",
    "        actor_item_text = re.sub('<.+?>', '', actor_item_text)\n",
    "        actor_info_dict[actor_item.select_one('span.tit').text] = actor_item_text.strip()"
   ]
  },
  {
   "cell_type": "code",
   "execution_count": 78,
   "metadata": {
    "scrolled": true
   },
   "outputs": [
    {
     "name": "stdout",
     "output_type": "stream",
     "text": [
      "{'다른 이름': '지오디;god', '직업': '배우', '생년월일': '1978-12-20', '성별': '남', '홈페이지': 'https://www.facebook.com/saram.yoonkyesang\\nhttps://www.instagram.com/kyesang78/', '신장/체중': '182cm, 62kg', '학교': '경희대학교 포스트모던학과 휴학', '취미': '컴퓨터게임, 스노우보드', '특기': '표정연기, 춤추기'}\n"
     ]
    }
   ],
   "source": [
    "print(actor_info_dict)"
   ]
  },
  {
   "cell_type": "markdown",
   "metadata": {},
   "source": [
    "### 흥행지수 뽑기"
   ]
  },
  {
   "cell_type": "code",
   "execution_count": 80,
   "metadata": {
    "collapsed": true,
    "scrolled": true
   },
   "outputs": [],
   "source": [
    "actor_rates = soup.select('li.people_li ul.num_info strong')"
   ]
  },
  {
   "cell_type": "code",
   "execution_count": 81,
   "metadata": {
    "scrolled": true
   },
   "outputs": [
    {
     "name": "stdout",
     "output_type": "stream",
     "text": [
      "59,361\n",
      "42,733\n",
      "40,181\n",
      "37,957\n",
      "35,754\n",
      "33,659\n",
      "33,487\n"
     ]
    }
   ],
   "source": [
    "for actor_rate in actor_rates:\n",
    "    print(actor_rate.text)"
   ]
  },
  {
   "cell_type": "markdown",
   "metadata": {},
   "source": [
    "### 흥행지수 숫자로 만들어주기"
   ]
  },
  {
   "cell_type": "code",
   "execution_count": 82,
   "metadata": {
    "collapsed": true,
    "scrolled": true
   },
   "outputs": [],
   "source": [
    "actor_rate_list = list()"
   ]
  },
  {
   "cell_type": "code",
   "execution_count": 83,
   "metadata": {
    "collapsed": true,
    "scrolled": true
   },
   "outputs": [],
   "source": [
    "for actor_rate in actor_rates:\n",
    "    actor_rate_list.append(int(actor_rate.text.replace(\",\",\"\")))  # int() 로 해주지 않으면, 문자열로 됩니다."
   ]
  },
  {
   "cell_type": "code",
   "execution_count": 84,
   "metadata": {
    "scrolled": true
   },
   "outputs": [
    {
     "data": {
      "text/plain": [
       "[59361, 42733, 40181, 37957, 35754, 33659, 33487]"
      ]
     },
     "execution_count": 84,
     "metadata": {},
     "output_type": "execute_result"
    }
   ],
   "source": [
    "actor_rate_list"
   ]
  },
  {
   "cell_type": "code",
   "execution_count": 85,
   "metadata": {
    "collapsed": true,
    "scrolled": true
   },
   "outputs": [],
   "source": [
    "actor_list = list()"
   ]
  },
  {
   "cell_type": "code",
   "execution_count": 86,
   "metadata": {
    "collapsed": true,
    "scrolled": true
   },
   "outputs": [],
   "source": [
    "for actor in actors:\n",
    "    actor_list.append(re.sub(\"\\(\\w+\\)\", \"\", actor.text))"
   ]
  },
  {
   "cell_type": "code",
   "execution_count": 87,
   "metadata": {
    "scrolled": true
   },
   "outputs": [
    {
     "data": {
      "text/plain": [
       "['마동석', '진선규', '윤계상', '조재윤', '최귀화', '허성태', '임형준']"
      ]
     },
     "execution_count": 87,
     "metadata": {},
     "output_type": "execute_result"
    }
   ],
   "source": [
    "actor_list"
   ]
  },
  {
   "cell_type": "markdown",
   "metadata": {},
   "source": [
    "### 각 배우별 출연 영화를 document에 저장하고 싶다.\n",
    "  - 출연 영화는 한 개가 될 수도 있고, 여러 개가 될 수도 있음\n",
    "  - 파이썬은 리스트, mongodb document는 컬럼에 배열(array)로 넣으면 됨 "
   ]
  },
  {
   "cell_type": "markdown",
   "metadata": {},
   "source": [
    "* 어떻게? 다음과 같이 합니다."
   ]
  },
  {
   "cell_type": "code",
   "execution_count": 88,
   "metadata": {
    "collapsed": true,
    "scrolled": true
   },
   "outputs": [],
   "source": [
    "movie_list = list()"
   ]
  },
  {
   "cell_type": "code",
   "execution_count": 89,
   "metadata": {
    "collapsed": true,
    "scrolled": true
   },
   "outputs": [],
   "source": [
    "movies = soup.select('li.people_li ul.mov_list')"
   ]
  },
  {
   "cell_type": "code",
   "execution_count": 90,
   "metadata": {
    "collapsed": true,
    "scrolled": false
   },
   "outputs": [],
   "source": [
    "for movie in movies:\n",
    "    actor_movie = list()\n",
    "    movie_titles = movie.select('li a span')\n",
    "    for movie_title in movie_titles:\n",
    "        actor_movie.append(movie_title.text)\n",
    "    movie_list.append(actor_movie)"
   ]
  },
  {
   "cell_type": "code",
   "execution_count": 91,
   "metadata": {
    "scrolled": true
   },
   "outputs": [
    {
     "data": {
      "text/plain": [
       "[['범죄도시', '부라더', '부산행'],\n",
       " ['범죄도시', '남한산성'],\n",
       " ['범죄도시', '발레 교습소', '죽여주는 여자'],\n",
       " ['범죄도시', '역모 - 반란의 시대'],\n",
       " ['범죄도시', '택시운전사', '조작된 도시'],\n",
       " ['남한산성', '범죄도시', '부라더'],\n",
       " ['범죄도시', '이웃집 스타']]"
      ]
     },
     "execution_count": 91,
     "metadata": {},
     "output_type": "execute_result"
    }
   ],
   "source": [
    "movie_list"
   ]
  },
  {
   "cell_type": "markdown",
   "metadata": {},
   "source": [
    "* 이렇게 만든 리스트를 넣으면 됩니다."
   ]
  },
  {
   "cell_type": "markdown",
   "metadata": {},
   "source": [
    "### insert_one() 로 하나씩 데이터 입력하기 (반복문과 함께 사용하면, 여러 데이터를 넣을 수 있음)"
   ]
  },
  {
   "cell_type": "markdown",
   "metadata": {},
   "source": [
    "- actor_list: 배우 이름\n",
    "- actor_details: 배우 상세 정보\n",
    "- actor_rate: 흥행 지수\n",
    "- date: 기준월\n",
    "- movie_list: 출연 영화 리스트!"
   ]
  },
  {
   "cell_type": "code",
   "execution_count": 92,
   "metadata": {
    "collapsed": true,
    "scrolled": true
   },
   "outputs": [],
   "source": [
    "for num, actor in enumerate(actor_list):\n",
    "    actor_collection.insert_one(\n",
    "        {\"actor\":actor_list[num], \n",
    "         \"actor_details\": actor_detail_info[num], \n",
    "         \"actor_rate\":actor_rate_list[num], \n",
    "         \"date\":month, \n",
    "         \"movie_list\":movie_list[num]})"
   ]
  },
  {
   "cell_type": "code",
   "execution_count": 93,
   "metadata": {
    "collapsed": true,
    "scrolled": true
   },
   "outputs": [],
   "source": [
    "docs = actor_collection.find()"
   ]
  },
  {
   "cell_type": "code",
   "execution_count": null,
   "metadata": {
    "collapsed": true,
    "scrolled": true
   },
   "outputs": [],
   "source": [
    "for doc in docs:\n",
    "    print(doc)"
   ]
  },
  {
   "cell_type": "markdown",
   "metadata": {},
   "source": [
    "### collection 삭제하기"
   ]
  },
  {
   "cell_type": "code",
   "execution_count": 95,
   "metadata": {
    "collapsed": true,
    "scrolled": true
   },
   "outputs": [],
   "source": [
    "actor_collection.drop()"
   ]
  },
  {
   "cell_type": "code",
   "execution_count": 96,
   "metadata": {
    "collapsed": true,
    "scrolled": true
   },
   "outputs": [],
   "source": [
    "docs = actor_collection.find()"
   ]
  },
  {
   "cell_type": "code",
   "execution_count": 97,
   "metadata": {
    "collapsed": true,
    "scrolled": true
   },
   "outputs": [],
   "source": [
    "for doc in docs:\n",
    "    print(doc)"
   ]
  },
  {
   "cell_type": "markdown",
   "metadata": {},
   "source": [
    "### Dictionary 타입으로 만들어서 한번에 insert_many() 로 데이터 입력하기"
   ]
  },
  {
   "cell_type": "code",
   "execution_count": 98,
   "metadata": {
    "collapsed": true,
    "scrolled": true
   },
   "outputs": [],
   "source": [
    "actor_info = list()"
   ]
  },
  {
   "cell_type": "code",
   "execution_count": 99,
   "metadata": {
    "collapsed": true,
    "scrolled": true
   },
   "outputs": [],
   "source": [
    "for num, actor in enumerate(actor_list):\n",
    "    actor_info.append(\n",
    "        {\"actor\":actor_list[num], \n",
    "         \"actor_details\": actor_detail_info[num], \n",
    "         \"actor_rate\":actor_rate_list[num], \n",
    "         \"date\":month, \n",
    "         \"movie_list\":movie_list[num]}\n",
    "    )"
   ]
  },
  {
   "cell_type": "code",
   "execution_count": null,
   "metadata": {
    "collapsed": true,
    "scrolled": true
   },
   "outputs": [],
   "source": [
    "actor_info"
   ]
  },
  {
   "cell_type": "code",
   "execution_count": 101,
   "metadata": {
    "scrolled": true
   },
   "outputs": [
    {
     "data": {
      "text/plain": [
       "<pymongo.results.InsertManyResult at 0x106acbdc8>"
      ]
     },
     "execution_count": 101,
     "metadata": {},
     "output_type": "execute_result"
    }
   ],
   "source": [
    "actor_collection.insert_many(actor_info)"
   ]
  },
  {
   "cell_type": "code",
   "execution_count": 102,
   "metadata": {
    "collapsed": true,
    "scrolled": true
   },
   "outputs": [],
   "source": [
    "docs = actor_collection.find()"
   ]
  },
  {
   "cell_type": "code",
   "execution_count": 103,
   "metadata": {
    "scrolled": true
   },
   "outputs": [
    {
     "name": "stdout",
     "output_type": "stream",
     "text": [
      "{'_id': ObjectId('5a0ae08481f6402f8ff056bc'), 'actor': '마동석', 'actor_details': {'직업': '배우', '생년월일': '1971-03-01', '성별': '남', '홈페이지': 'https://www.instagram.com/madongseok_/\\nhttps://twitter.com/madongseok12'}, 'actor_rate': 59361, 'date': '2017-10', 'movie_list': ['범죄도시', '부라더', '부산행']}\n",
      "{'_id': ObjectId('5a0ae08481f6402f8ff056bd'), 'actor': '진선규', 'actor_details': {'직업': '배우', '생년월일': '1977-09-13', '성별': '남'}, 'actor_rate': 42733, 'date': '2017-10', 'movie_list': ['범죄도시', '남한산성']}\n",
      "{'_id': ObjectId('5a0ae08481f6402f8ff056be'), 'actor': '윤계상', 'actor_details': {'다른 이름': '지오디;god', '직업': '배우', '생년월일': '1978-12-20', '성별': '남', '홈페이지': 'https://www.facebook.com/saram.yoonkyesang\\nhttps://www.instagram.com/kyesang78/', '신장/체중': '182cm, 62kg', '학교': '경희대학교 포스트모던학과 휴학', '취미': '컴퓨터게임, 스노우보드', '특기': '표정연기, 춤추기'}, 'actor_rate': 40181, 'date': '2017-10', 'movie_list': ['범죄도시', '발레 교습소', '죽여주는 여자']}\n",
      "{'_id': ObjectId('5a0ae08481f6402f8ff056bf'), 'actor': '조재윤', 'actor_details': {'직업': '배우', '생년월일': '1974-09-15', '성별': '남', '홈페이지': 'https://www.instagram.com/jojaeyun/'}, 'actor_rate': 37957, 'date': '2017-10', 'movie_list': ['범죄도시', '역모 - 반란의 시대']}\n",
      "{'_id': ObjectId('5a0ae08481f6402f8ff056c0'), 'actor': '최귀화', 'actor_details': {'직업': '배우', '생년월일': '1978-03-03', '성별': '남', '신장/체중': '181cm, 72kg'}, 'actor_rate': 35754, 'date': '2017-10', 'movie_list': ['범죄도시', '택시운전사', '조작된 도시']}\n",
      "{'_id': ObjectId('5a0ae08481f6402f8ff056c1'), 'actor': '허성태', 'actor_details': {'직업': '배우', '성별': '남'}, 'actor_rate': 33659, 'date': '2017-10', 'movie_list': ['남한산성', '범죄도시', '부라더']}\n",
      "{'_id': ObjectId('5a0ae08481f6402f8ff056c2'), 'actor': '임형준', 'actor_details': {'직업': '배우', '생년월일': '1974-05-10', '성별': '남', '신장/체중': '177cm, 71kg', '학교': '서울예술대학 연극과', '취미': '스쿼시, 피아노', '특기': '작곡, 노래', '소속사': '나무액터스'}, 'actor_rate': 33487, 'date': '2017-10', 'movie_list': ['범죄도시', '이웃집 스타']}\n"
     ]
    }
   ],
   "source": [
    "for doc in docs:\n",
    "    print(doc)"
   ]
  },
  {
   "cell_type": "markdown",
   "metadata": {},
   "source": [
    "### Update (컬럼명 변경 예제)"
   ]
  },
  {
   "cell_type": "code",
   "execution_count": 104,
   "metadata": {
    "scrolled": true
   },
   "outputs": [
    {
     "data": {
      "text/plain": [
       "<pymongo.results.UpdateResult at 0x106c07088>"
      ]
     },
     "execution_count": 104,
     "metadata": {},
     "output_type": "execute_result"
    }
   ],
   "source": [
    "actor_collection.update_many( {}, { \"$rename\": { \"actor\": \"actor_name\" } } )"
   ]
  },
  {
   "cell_type": "code",
   "execution_count": 105,
   "metadata": {
    "scrolled": true
   },
   "outputs": [
    {
     "name": "stdout",
     "output_type": "stream",
     "text": [
      "{'_id': ObjectId('5a0ae08481f6402f8ff056bc'), 'actor_details': {'직업': '배우', '생년월일': '1971-03-01', '성별': '남', '홈페이지': 'https://www.instagram.com/madongseok_/\\nhttps://twitter.com/madongseok12'}, 'actor_rate': 59361, 'date': '2017-10', 'movie_list': ['범죄도시', '부라더', '부산행'], 'actor_name': '마동석'}\n",
      "{'_id': ObjectId('5a0ae08481f6402f8ff056bd'), 'actor_details': {'직업': '배우', '생년월일': '1977-09-13', '성별': '남'}, 'actor_rate': 42733, 'date': '2017-10', 'movie_list': ['범죄도시', '남한산성'], 'actor_name': '진선규'}\n",
      "{'_id': ObjectId('5a0ae08481f6402f8ff056be'), 'actor_details': {'다른 이름': '지오디;god', '직업': '배우', '생년월일': '1978-12-20', '성별': '남', '홈페이지': 'https://www.facebook.com/saram.yoonkyesang\\nhttps://www.instagram.com/kyesang78/', '신장/체중': '182cm, 62kg', '학교': '경희대학교 포스트모던학과 휴학', '취미': '컴퓨터게임, 스노우보드', '특기': '표정연기, 춤추기'}, 'actor_rate': 40181, 'date': '2017-10', 'movie_list': ['범죄도시', '발레 교습소', '죽여주는 여자'], 'actor_name': '윤계상'}\n",
      "{'_id': ObjectId('5a0ae08481f6402f8ff056bf'), 'actor_details': {'직업': '배우', '생년월일': '1974-09-15', '성별': '남', '홈페이지': 'https://www.instagram.com/jojaeyun/'}, 'actor_rate': 37957, 'date': '2017-10', 'movie_list': ['범죄도시', '역모 - 반란의 시대'], 'actor_name': '조재윤'}\n",
      "{'_id': ObjectId('5a0ae08481f6402f8ff056c0'), 'actor_details': {'직업': '배우', '생년월일': '1978-03-03', '성별': '남', '신장/체중': '181cm, 72kg'}, 'actor_rate': 35754, 'date': '2017-10', 'movie_list': ['범죄도시', '택시운전사', '조작된 도시'], 'actor_name': '최귀화'}\n",
      "{'_id': ObjectId('5a0ae08481f6402f8ff056c1'), 'actor_details': {'직업': '배우', '성별': '남'}, 'actor_rate': 33659, 'date': '2017-10', 'movie_list': ['남한산성', '범죄도시', '부라더'], 'actor_name': '허성태'}\n",
      "{'_id': ObjectId('5a0ae08481f6402f8ff056c2'), 'actor_details': {'직업': '배우', '생년월일': '1974-05-10', '성별': '남', '신장/체중': '177cm, 71kg', '학교': '서울예술대학 연극과', '취미': '스쿼시, 피아노', '특기': '작곡, 노래', '소속사': '나무액터스'}, 'actor_rate': 33487, 'date': '2017-10', 'movie_list': ['범죄도시', '이웃집 스타'], 'actor_name': '임형준'}\n"
     ]
    }
   ],
   "source": [
    "docs = actor_collection.find()\n",
    "for doc in docs:\n",
    "    print(doc)"
   ]
  },
  {
   "cell_type": "markdown",
   "metadata": {
    "collapsed": true
   },
   "source": [
    "<div class=\"alert alert-block alert-success\">\n",
    "<font color=\"blue\" size=\"4em\">실습</font><br>\n",
    "actor_details 필드 이름을 actor_info 로 변경하기\n",
    "</div>"
   ]
  },
  {
   "cell_type": "code",
   "execution_count": 106,
   "metadata": {
    "scrolled": true
   },
   "outputs": [
    {
     "data": {
      "text/plain": [
       "<pymongo.results.UpdateResult at 0x106c07188>"
      ]
     },
     "execution_count": 106,
     "metadata": {},
     "output_type": "execute_result"
    }
   ],
   "source": [
    "actor_collection.update_many( {}, { \"$rename\": { \"actor_details\": \"actor_info\" } } )"
   ]
  },
  {
   "cell_type": "code",
   "execution_count": 107,
   "metadata": {
    "scrolled": true
   },
   "outputs": [
    {
     "name": "stdout",
     "output_type": "stream",
     "text": [
      "{'_id': ObjectId('5a0ae08481f6402f8ff056bc'), 'actor_rate': 59361, 'date': '2017-10', 'movie_list': ['범죄도시', '부라더', '부산행'], 'actor_name': '마동석', 'actor_info': {'직업': '배우', '생년월일': '1971-03-01', '성별': '남', '홈페이지': 'https://www.instagram.com/madongseok_/\\nhttps://twitter.com/madongseok12'}}\n",
      "{'_id': ObjectId('5a0ae08481f6402f8ff056bd'), 'actor_rate': 42733, 'date': '2017-10', 'movie_list': ['범죄도시', '남한산성'], 'actor_name': '진선규', 'actor_info': {'직업': '배우', '생년월일': '1977-09-13', '성별': '남'}}\n",
      "{'_id': ObjectId('5a0ae08481f6402f8ff056be'), 'actor_rate': 40181, 'date': '2017-10', 'movie_list': ['범죄도시', '발레 교습소', '죽여주는 여자'], 'actor_name': '윤계상', 'actor_info': {'다른 이름': '지오디;god', '직업': '배우', '생년월일': '1978-12-20', '성별': '남', '홈페이지': 'https://www.facebook.com/saram.yoonkyesang\\nhttps://www.instagram.com/kyesang78/', '신장/체중': '182cm, 62kg', '학교': '경희대학교 포스트모던학과 휴학', '취미': '컴퓨터게임, 스노우보드', '특기': '표정연기, 춤추기'}}\n",
      "{'_id': ObjectId('5a0ae08481f6402f8ff056bf'), 'actor_rate': 37957, 'date': '2017-10', 'movie_list': ['범죄도시', '역모 - 반란의 시대'], 'actor_name': '조재윤', 'actor_info': {'직업': '배우', '생년월일': '1974-09-15', '성별': '남', '홈페이지': 'https://www.instagram.com/jojaeyun/'}}\n",
      "{'_id': ObjectId('5a0ae08481f6402f8ff056c0'), 'actor_rate': 35754, 'date': '2017-10', 'movie_list': ['범죄도시', '택시운전사', '조작된 도시'], 'actor_name': '최귀화', 'actor_info': {'직업': '배우', '생년월일': '1978-03-03', '성별': '남', '신장/체중': '181cm, 72kg'}}\n",
      "{'_id': ObjectId('5a0ae08481f6402f8ff056c1'), 'actor_rate': 33659, 'date': '2017-10', 'movie_list': ['남한산성', '범죄도시', '부라더'], 'actor_name': '허성태', 'actor_info': {'직업': '배우', '성별': '남'}}\n",
      "{'_id': ObjectId('5a0ae08481f6402f8ff056c2'), 'actor_rate': 33487, 'date': '2017-10', 'movie_list': ['범죄도시', '이웃집 스타'], 'actor_name': '임형준', 'actor_info': {'직업': '배우', '생년월일': '1974-05-10', '성별': '남', '신장/체중': '177cm, 71kg', '학교': '서울예술대학 연극과', '취미': '스쿼시, 피아노', '특기': '작곡, 노래', '소속사': '나무액터스'}}\n"
     ]
    }
   ],
   "source": [
    "docs = actor_collection.find()\n",
    "for doc in docs:\n",
    "    print(doc)"
   ]
  },
  {
   "cell_type": "markdown",
   "metadata": {},
   "source": [
    "* 컬렉션 객체 이름도 바꿀 수 있겠지요"
   ]
  },
  {
   "cell_type": "code",
   "execution_count": null,
   "metadata": {
    "collapsed": true,
    "scrolled": true
   },
   "outputs": [],
   "source": [
    "actor = actor_collection  "
   ]
  },
  {
   "cell_type": "markdown",
   "metadata": {},
   "source": [
    "## 7. 예제로 이해하는 find 의 다양한 문법"
   ]
  },
  {
   "cell_type": "markdown",
   "metadata": {},
   "source": [
    "### 7.1. sort\n",
    " - mysql의 order by에 해당\n",
    " - find로 데이터 열람 시, 정렬 조건 명시 가능"
   ]
  },
  {
   "cell_type": "code",
   "execution_count": 108,
   "metadata": {
    "scrolled": true
   },
   "outputs": [
    {
     "name": "stdout",
     "output_type": "stream",
     "text": [
      "{'_id': ObjectId('5a0ae08481f6402f8ff056bc'), 'actor_rate': 59361, 'date': '2017-10', 'movie_list': ['범죄도시', '부라더', '부산행'], 'actor_name': '마동석', 'actor_info': {'직업': '배우', '생년월일': '1971-03-01', '성별': '남', '홈페이지': 'https://www.instagram.com/madongseok_/\\nhttps://twitter.com/madongseok12'}}\n",
      "{'_id': ObjectId('5a0ae08481f6402f8ff056be'), 'actor_rate': 40181, 'date': '2017-10', 'movie_list': ['범죄도시', '발레 교습소', '죽여주는 여자'], 'actor_name': '윤계상', 'actor_info': {'다른 이름': '지오디;god', '직업': '배우', '생년월일': '1978-12-20', '성별': '남', '홈페이지': 'https://www.facebook.com/saram.yoonkyesang\\nhttps://www.instagram.com/kyesang78/', '신장/체중': '182cm, 62kg', '학교': '경희대학교 포스트모던학과 휴학', '취미': '컴퓨터게임, 스노우보드', '특기': '표정연기, 춤추기'}}\n",
      "{'_id': ObjectId('5a0ae08481f6402f8ff056c2'), 'actor_rate': 33487, 'date': '2017-10', 'movie_list': ['범죄도시', '이웃집 스타'], 'actor_name': '임형준', 'actor_info': {'직업': '배우', '생년월일': '1974-05-10', '성별': '남', '신장/체중': '177cm, 71kg', '학교': '서울예술대학 연극과', '취미': '스쿼시, 피아노', '특기': '작곡, 노래', '소속사': '나무액터스'}}\n",
      "{'_id': ObjectId('5a0ae08481f6402f8ff056bf'), 'actor_rate': 37957, 'date': '2017-10', 'movie_list': ['범죄도시', '역모 - 반란의 시대'], 'actor_name': '조재윤', 'actor_info': {'직업': '배우', '생년월일': '1974-09-15', '성별': '남', '홈페이지': 'https://www.instagram.com/jojaeyun/'}}\n",
      "{'_id': ObjectId('5a0ae08481f6402f8ff056bd'), 'actor_rate': 42733, 'date': '2017-10', 'movie_list': ['범죄도시', '남한산성'], 'actor_name': '진선규', 'actor_info': {'직업': '배우', '생년월일': '1977-09-13', '성별': '남'}}\n",
      "{'_id': ObjectId('5a0ae08481f6402f8ff056c0'), 'actor_rate': 35754, 'date': '2017-10', 'movie_list': ['범죄도시', '택시운전사', '조작된 도시'], 'actor_name': '최귀화', 'actor_info': {'직업': '배우', '생년월일': '1978-03-03', '성별': '남', '신장/체중': '181cm, 72kg'}}\n",
      "{'_id': ObjectId('5a0ae08481f6402f8ff056c1'), 'actor_rate': 33659, 'date': '2017-10', 'movie_list': ['남한산성', '범죄도시', '부라더'], 'actor_name': '허성태', 'actor_info': {'직업': '배우', '성별': '남'}}\n"
     ]
    }
   ],
   "source": [
    "# 기본적으로 오름차순\n",
    "result = actor_collection.find().sort('actor_name')\n",
    "for record in result:\n",
    "    print(record)"
   ]
  },
  {
   "cell_type": "code",
   "execution_count": 109,
   "metadata": {
    "scrolled": true
   },
   "outputs": [
    {
     "name": "stdout",
     "output_type": "stream",
     "text": [
      "{'_id': ObjectId('5a0ae08481f6402f8ff056bc'), 'actor_rate': 59361, 'date': '2017-10', 'movie_list': ['범죄도시', '부라더', '부산행'], 'actor_name': '마동석', 'actor_info': {'직업': '배우', '생년월일': '1971-03-01', '성별': '남', '홈페이지': 'https://www.instagram.com/madongseok_/\\nhttps://twitter.com/madongseok12'}}\n",
      "{'_id': ObjectId('5a0ae08481f6402f8ff056be'), 'actor_rate': 40181, 'date': '2017-10', 'movie_list': ['범죄도시', '발레 교습소', '죽여주는 여자'], 'actor_name': '윤계상', 'actor_info': {'다른 이름': '지오디;god', '직업': '배우', '생년월일': '1978-12-20', '성별': '남', '홈페이지': 'https://www.facebook.com/saram.yoonkyesang\\nhttps://www.instagram.com/kyesang78/', '신장/체중': '182cm, 62kg', '학교': '경희대학교 포스트모던학과 휴학', '취미': '컴퓨터게임, 스노우보드', '특기': '표정연기, 춤추기'}}\n",
      "{'_id': ObjectId('5a0ae08481f6402f8ff056c2'), 'actor_rate': 33487, 'date': '2017-10', 'movie_list': ['범죄도시', '이웃집 스타'], 'actor_name': '임형준', 'actor_info': {'직업': '배우', '생년월일': '1974-05-10', '성별': '남', '신장/체중': '177cm, 71kg', '학교': '서울예술대학 연극과', '취미': '스쿼시, 피아노', '특기': '작곡, 노래', '소속사': '나무액터스'}}\n",
      "{'_id': ObjectId('5a0ae08481f6402f8ff056bf'), 'actor_rate': 37957, 'date': '2017-10', 'movie_list': ['범죄도시', '역모 - 반란의 시대'], 'actor_name': '조재윤', 'actor_info': {'직업': '배우', '생년월일': '1974-09-15', '성별': '남', '홈페이지': 'https://www.instagram.com/jojaeyun/'}}\n",
      "{'_id': ObjectId('5a0ae08481f6402f8ff056bd'), 'actor_rate': 42733, 'date': '2017-10', 'movie_list': ['범죄도시', '남한산성'], 'actor_name': '진선규', 'actor_info': {'직업': '배우', '생년월일': '1977-09-13', '성별': '남'}}\n",
      "{'_id': ObjectId('5a0ae08481f6402f8ff056c0'), 'actor_rate': 35754, 'date': '2017-10', 'movie_list': ['범죄도시', '택시운전사', '조작된 도시'], 'actor_name': '최귀화', 'actor_info': {'직업': '배우', '생년월일': '1978-03-03', '성별': '남', '신장/체중': '181cm, 72kg'}}\n",
      "{'_id': ObjectId('5a0ae08481f6402f8ff056c1'), 'actor_rate': 33659, 'date': '2017-10', 'movie_list': ['남한산성', '범죄도시', '부라더'], 'actor_name': '허성태', 'actor_info': {'직업': '배우', '성별': '남'}}\n"
     ]
    }
   ],
   "source": [
    "result = actor_collection.find().sort('actor_name', pymongo.ASCENDING)\n",
    "for record in result:\n",
    "    print(record)"
   ]
  },
  {
   "cell_type": "code",
   "execution_count": 110,
   "metadata": {
    "scrolled": true
   },
   "outputs": [
    {
     "name": "stdout",
     "output_type": "stream",
     "text": [
      "{'_id': ObjectId('5a0ae08481f6402f8ff056c1'), 'actor_rate': 33659, 'date': '2017-10', 'movie_list': ['남한산성', '범죄도시', '부라더'], 'actor_name': '허성태', 'actor_info': {'직업': '배우', '성별': '남'}}\n",
      "{'_id': ObjectId('5a0ae08481f6402f8ff056c0'), 'actor_rate': 35754, 'date': '2017-10', 'movie_list': ['범죄도시', '택시운전사', '조작된 도시'], 'actor_name': '최귀화', 'actor_info': {'직업': '배우', '생년월일': '1978-03-03', '성별': '남', '신장/체중': '181cm, 72kg'}}\n",
      "{'_id': ObjectId('5a0ae08481f6402f8ff056bd'), 'actor_rate': 42733, 'date': '2017-10', 'movie_list': ['범죄도시', '남한산성'], 'actor_name': '진선규', 'actor_info': {'직업': '배우', '생년월일': '1977-09-13', '성별': '남'}}\n",
      "{'_id': ObjectId('5a0ae08481f6402f8ff056bf'), 'actor_rate': 37957, 'date': '2017-10', 'movie_list': ['범죄도시', '역모 - 반란의 시대'], 'actor_name': '조재윤', 'actor_info': {'직업': '배우', '생년월일': '1974-09-15', '성별': '남', '홈페이지': 'https://www.instagram.com/jojaeyun/'}}\n",
      "{'_id': ObjectId('5a0ae08481f6402f8ff056c2'), 'actor_rate': 33487, 'date': '2017-10', 'movie_list': ['범죄도시', '이웃집 스타'], 'actor_name': '임형준', 'actor_info': {'직업': '배우', '생년월일': '1974-05-10', '성별': '남', '신장/체중': '177cm, 71kg', '학교': '서울예술대학 연극과', '취미': '스쿼시, 피아노', '특기': '작곡, 노래', '소속사': '나무액터스'}}\n",
      "{'_id': ObjectId('5a0ae08481f6402f8ff056be'), 'actor_rate': 40181, 'date': '2017-10', 'movie_list': ['범죄도시', '발레 교습소', '죽여주는 여자'], 'actor_name': '윤계상', 'actor_info': {'다른 이름': '지오디;god', '직업': '배우', '생년월일': '1978-12-20', '성별': '남', '홈페이지': 'https://www.facebook.com/saram.yoonkyesang\\nhttps://www.instagram.com/kyesang78/', '신장/체중': '182cm, 62kg', '학교': '경희대학교 포스트모던학과 휴학', '취미': '컴퓨터게임, 스노우보드', '특기': '표정연기, 춤추기'}}\n",
      "{'_id': ObjectId('5a0ae08481f6402f8ff056bc'), 'actor_rate': 59361, 'date': '2017-10', 'movie_list': ['범죄도시', '부라더', '부산행'], 'actor_name': '마동석', 'actor_info': {'직업': '배우', '생년월일': '1971-03-01', '성별': '남', '홈페이지': 'https://www.instagram.com/madongseok_/\\nhttps://twitter.com/madongseok12'}}\n"
     ]
    }
   ],
   "source": [
    "# 내림차순 명시\n",
    "result = actor_collection.find().sort('actor_name', pymongo.DESCENDING)\n",
    "for record in result:\n",
    "    print(record)"
   ]
  },
  {
   "cell_type": "code",
   "execution_count": 111,
   "metadata": {
    "scrolled": true
   },
   "outputs": [
    {
     "name": "stdout",
     "output_type": "stream",
     "text": [
      "{'_id': ObjectId('5a0ae08481f6402f8ff056bc'), 'actor_rate': 59361, 'date': '2017-10', 'movie_list': ['범죄도시', '부라더', '부산행'], 'actor_name': '마동석', 'actor_info': {'직업': '배우', '생년월일': '1971-03-01', '성별': '남', '홈페이지': 'https://www.instagram.com/madongseok_/\\nhttps://twitter.com/madongseok12'}}\n",
      "{'_id': ObjectId('5a0ae08481f6402f8ff056be'), 'actor_rate': 40181, 'date': '2017-10', 'movie_list': ['범죄도시', '발레 교습소', '죽여주는 여자'], 'actor_name': '윤계상', 'actor_info': {'다른 이름': '지오디;god', '직업': '배우', '생년월일': '1978-12-20', '성별': '남', '홈페이지': 'https://www.facebook.com/saram.yoonkyesang\\nhttps://www.instagram.com/kyesang78/', '신장/체중': '182cm, 62kg', '학교': '경희대학교 포스트모던학과 휴학', '취미': '컴퓨터게임, 스노우보드', '특기': '표정연기, 춤추기'}}\n",
      "{'_id': ObjectId('5a0ae08481f6402f8ff056c2'), 'actor_rate': 33487, 'date': '2017-10', 'movie_list': ['범죄도시', '이웃집 스타'], 'actor_name': '임형준', 'actor_info': {'직업': '배우', '생년월일': '1974-05-10', '성별': '남', '신장/체중': '177cm, 71kg', '학교': '서울예술대학 연극과', '취미': '스쿼시, 피아노', '특기': '작곡, 노래', '소속사': '나무액터스'}}\n",
      "{'_id': ObjectId('5a0ae08481f6402f8ff056bf'), 'actor_rate': 37957, 'date': '2017-10', 'movie_list': ['범죄도시', '역모 - 반란의 시대'], 'actor_name': '조재윤', 'actor_info': {'직업': '배우', '생년월일': '1974-09-15', '성별': '남', '홈페이지': 'https://www.instagram.com/jojaeyun/'}}\n",
      "{'_id': ObjectId('5a0ae08481f6402f8ff056bd'), 'actor_rate': 42733, 'date': '2017-10', 'movie_list': ['범죄도시', '남한산성'], 'actor_name': '진선규', 'actor_info': {'직업': '배우', '생년월일': '1977-09-13', '성별': '남'}}\n",
      "{'_id': ObjectId('5a0ae08481f6402f8ff056c0'), 'actor_rate': 35754, 'date': '2017-10', 'movie_list': ['범죄도시', '택시운전사', '조작된 도시'], 'actor_name': '최귀화', 'actor_info': {'직업': '배우', '생년월일': '1978-03-03', '성별': '남', '신장/체중': '181cm, 72kg'}}\n",
      "{'_id': ObjectId('5a0ae08481f6402f8ff056c1'), 'actor_rate': 33659, 'date': '2017-10', 'movie_list': ['남한산성', '범죄도시', '부라더'], 'actor_name': '허성태', 'actor_info': {'직업': '배우', '성별': '남'}}\n"
     ]
    }
   ],
   "source": [
    "# sort by multiple fields\n",
    "result = actor_collection.find().sort([('actor_name', pymongo.ASCENDING),\n",
    "                            ('actor_rate', pymongo.DESCENDING)])\n",
    "\n",
    "for record in result:\n",
    "    print(record)"
   ]
  },
  {
   "cell_type": "markdown",
   "metadata": {},
   "source": [
    "### 7.2. 필드값이 존재하는 경우 검색 예제 (exists)\n",
    "  - embedded document 의 경우 검색 예제 포함"
   ]
  },
  {
   "cell_type": "code",
   "execution_count": 111,
   "metadata": {
    "scrolled": true
   },
   "outputs": [
    {
     "name": "stdout",
     "output_type": "stream",
     "text": [
      "{'_id': ObjectId('5a0995cd81f64002aac0bf1c'), 'actor_rate': 59190, 'date': '2017-10', 'movie_list': ['범죄도시', '부라더', '부산행'], 'actor_name': '마동석', 'actor_info': {'직업': '배우', '생년월일': '1971-03-01', '성별': '남', '홈페이지': 'https://www.instagram.com/madongseok_/\\nhttps://twitter.com/madongseok12'}}\n",
      "{'_id': ObjectId('5a0995cd81f64002aac0bf1d'), 'actor_rate': 42900, 'date': '2017-10', 'movie_list': ['범죄도시', '남한산성'], 'actor_name': '진선규', 'actor_info': {'직업': '배우', '생년월일': '1977-09-13', '성별': '남'}}\n",
      "{'_id': ObjectId('5a0995cd81f64002aac0bf1f'), 'actor_rate': 38068, 'date': '2017-10', 'movie_list': ['범죄도시', '역모 - 반란의 시대'], 'actor_name': '조재윤', 'actor_info': {'직업': '배우', '생년월일': '1974-09-15', '성별': '남', '홈페이지': 'https://www.instagram.com/jojaeyun/'}}\n",
      "{'_id': ObjectId('5a0995cd81f64002aac0bf20'), 'actor_rate': 35859, 'date': '2017-10', 'movie_list': ['범죄도시', '택시운전사', '조작된 도시'], 'actor_name': '최귀화', 'actor_info': {'직업': '배우', '생년월일': '1978-03-03', '성별': '남', '신장/체중': '181cm, 72kg'}}\n",
      "{'_id': ObjectId('5a0995cd81f64002aac0bf21'), 'actor_rate': 33732, 'date': '2017-10', 'movie_list': ['남한산성', '범죄도시', '부라더'], 'actor_name': '허성태', 'actor_info': {'직업': '배우', '성별': '남'}}\n"
     ]
    }
   ],
   "source": [
    "for doc in actor_collection.find({'actor_info.특기' : {'$exists' : False}}):\n",
    "    print(doc)"
   ]
  },
  {
   "cell_type": "code",
   "execution_count": 112,
   "metadata": {
    "scrolled": true
   },
   "outputs": [
    {
     "name": "stdout",
     "output_type": "stream",
     "text": [
      "{'_id': ObjectId('5a0ae08481f6402f8ff056c1'), 'actor_rate': 33659, 'date': '2017-10', 'movie_list': ['남한산성', '범죄도시', '부라더'], 'actor_name': '허성태', 'actor_info': {'직업': '배우', '성별': '남'}}\n"
     ]
    }
   ],
   "source": [
    "for doc in actor_collection.find({'actor_info.생년월일' : {'$exists' : False}}):\n",
    "    print(doc)"
   ]
  },
  {
   "cell_type": "code",
   "execution_count": 113,
   "metadata": {
    "scrolled": true
   },
   "outputs": [
    {
     "name": "stdout",
     "output_type": "stream",
     "text": [
      "{'_id': ObjectId('5a0ae08481f6402f8ff056bc'), 'actor_rate': 59361, 'date': '2017-10', 'movie_list': ['범죄도시', '부라더', '부산행'], 'actor_name': '마동석', 'actor_info': {'직업': '배우', '생년월일': '1971-03-01', '성별': '남', '홈페이지': 'https://www.instagram.com/madongseok_/\\nhttps://twitter.com/madongseok12'}}\n",
      "{'_id': ObjectId('5a0ae08481f6402f8ff056be'), 'actor_rate': 40181, 'date': '2017-10', 'movie_list': ['범죄도시', '발레 교습소', '죽여주는 여자'], 'actor_name': '윤계상', 'actor_info': {'다른 이름': '지오디;god', '직업': '배우', '생년월일': '1978-12-20', '성별': '남', '홈페이지': 'https://www.facebook.com/saram.yoonkyesang\\nhttps://www.instagram.com/kyesang78/', '신장/체중': '182cm, 62kg', '학교': '경희대학교 포스트모던학과 휴학', '취미': '컴퓨터게임, 스노우보드', '특기': '표정연기, 춤추기'}}\n",
      "{'_id': ObjectId('5a0ae08481f6402f8ff056bf'), 'actor_rate': 37957, 'date': '2017-10', 'movie_list': ['범죄도시', '역모 - 반란의 시대'], 'actor_name': '조재윤', 'actor_info': {'직업': '배우', '생년월일': '1974-09-15', '성별': '남', '홈페이지': 'https://www.instagram.com/jojaeyun/'}}\n"
     ]
    }
   ],
   "source": [
    "for doc in actor_collection.find({'actor_info.홈페이지' : {'$exists' : True}}):\n",
    "    print(doc)"
   ]
  },
  {
   "cell_type": "markdown",
   "metadata": {},
   "source": [
    "<div class=\"alert alert-block alert-success\">\n",
    "<font color=\"blue\" size=\"4em\">실습</font><br>\n",
    "생년월일이 없는 doc의 actor_name 만 출력하기\n",
    "</div>"
   ]
  },
  {
   "cell_type": "code",
   "execution_count": 114,
   "metadata": {
    "scrolled": true
   },
   "outputs": [
    {
     "name": "stdout",
     "output_type": "stream",
     "text": [
      "{'_id': ObjectId('5a0995cd81f64002aac0bf1c'), 'actor_rate': 59190, 'date': '2017-10', 'movie_list': ['범죄도시', '부라더', '부산행'], 'actor_name': '마동석', 'actor_info': {'직업': '배우', '생년월일': '1971-03-01', '성별': '남', '홈페이지': 'https://www.instagram.com/madongseok_/\\nhttps://twitter.com/madongseok12'}}\n",
      "{'_id': ObjectId('5a0995cd81f64002aac0bf1d'), 'actor_rate': 42900, 'date': '2017-10', 'movie_list': ['범죄도시', '남한산성'], 'actor_name': '진선규', 'actor_info': {'직업': '배우', '생년월일': '1977-09-13', '성별': '남'}}\n",
      "{'_id': ObjectId('5a0995cd81f64002aac0bf1e'), 'actor_rate': 40298, 'date': '2017-10', 'movie_list': ['범죄도시', '발레 교습소', '죽여주는 여자'], 'actor_name': '윤계상', 'actor_info': {'다른 이름': '지오디;god', '직업': '배우', '생년월일': '1978-12-20', '성별': '남', '홈페이지': 'https://www.facebook.com/saram.yoonkyesang\\nhttps://www.instagram.com/kyesang78/', '신장/체중': '182cm, 62kg', '학교': '경희대학교 포스트모던학과 휴학', '취미': '컴퓨터게임, 스노우보드', '특기': '표정연기, 춤추기'}}\n",
      "{'_id': ObjectId('5a0995cd81f64002aac0bf1f'), 'actor_rate': 38068, 'date': '2017-10', 'movie_list': ['범죄도시', '역모 - 반란의 시대'], 'actor_name': '조재윤', 'actor_info': {'직업': '배우', '생년월일': '1974-09-15', '성별': '남', '홈페이지': 'https://www.instagram.com/jojaeyun/'}}\n",
      "{'_id': ObjectId('5a0995cd81f64002aac0bf20'), 'actor_rate': 35859, 'date': '2017-10', 'movie_list': ['범죄도시', '택시운전사', '조작된 도시'], 'actor_name': '최귀화', 'actor_info': {'직업': '배우', '생년월일': '1978-03-03', '성별': '남', '신장/체중': '181cm, 72kg'}}\n",
      "{'_id': ObjectId('5a0995cd81f64002aac0bf21'), 'actor_rate': 33732, 'date': '2017-10', 'movie_list': ['남한산성', '범죄도시', '부라더'], 'actor_name': '허성태', 'actor_info': {'직업': '배우', '성별': '남'}}\n",
      "{'_id': ObjectId('5a0995cd81f64002aac0bf22'), 'actor_rate': 33585, 'date': '2017-10', 'movie_list': ['범죄도시', '이웃집 스타'], 'actor_name': '임형준', 'actor_info': {'직업': '배우', '생년월일': '1974-05-10', '성별': '남', '신장/체중': '177cm, 71kg', '학교': '서울예술대학 연극과', '취미': '스쿼시, 피아노', '특기': '작곡, 노래', '소속사': '나무액터스'}}\n"
     ]
    }
   ],
   "source": [
    "for doc in actor_collection.find({'actor_info' : {'$exists' : True}}):\n",
    "    print(doc)"
   ]
  },
  {
   "cell_type": "markdown",
   "metadata": {},
   "source": [
    "### 7.3. 필드의 범위로 검색 예제\n",
    "* gt, gte\n",
    " - gt : 크다, gte : 크거나 같다\n",
    "* lt, lte\n",
    " - lt : 작다, lte : 작거나 같다"
   ]
  },
  {
   "cell_type": "code",
   "execution_count": 114,
   "metadata": {
    "scrolled": true
   },
   "outputs": [
    {
     "name": "stdout",
     "output_type": "stream",
     "text": [
      "{'_id': ObjectId('5a0ae08481f6402f8ff056bc'), 'actor_rate': 59361, 'date': '2017-10', 'movie_list': ['범죄도시', '부라더', '부산행'], 'actor_name': '마동석', 'actor_info': {'직업': '배우', '생년월일': '1971-03-01', '성별': '남', '홈페이지': 'https://www.instagram.com/madongseok_/\\nhttps://twitter.com/madongseok12'}}\n",
      "{'_id': ObjectId('5a0ae08481f6402f8ff056bd'), 'actor_rate': 42733, 'date': '2017-10', 'movie_list': ['범죄도시', '남한산성'], 'actor_name': '진선규', 'actor_info': {'직업': '배우', '생년월일': '1977-09-13', '성별': '남'}}\n",
      "{'_id': ObjectId('5a0ae08481f6402f8ff056be'), 'actor_rate': 40181, 'date': '2017-10', 'movie_list': ['범죄도시', '발레 교습소', '죽여주는 여자'], 'actor_name': '윤계상', 'actor_info': {'다른 이름': '지오디;god', '직업': '배우', '생년월일': '1978-12-20', '성별': '남', '홈페이지': 'https://www.facebook.com/saram.yoonkyesang\\nhttps://www.instagram.com/kyesang78/', '신장/체중': '182cm, 62kg', '학교': '경희대학교 포스트모던학과 휴학', '취미': '컴퓨터게임, 스노우보드', '특기': '표정연기, 춤추기'}}\n"
     ]
    }
   ],
   "source": [
    "for doc in actor_collection.find({'actor_rate' : {'$gte' : 40000}}):\n",
    "    print(doc)"
   ]
  },
  {
   "cell_type": "code",
   "execution_count": 115,
   "metadata": {
    "collapsed": true,
    "scrolled": true
   },
   "outputs": [],
   "source": [
    "for doc in actor_collection.find(\n",
    "                    {'actor_rate' : {'$lte' : 70000}, \n",
    "                     'actor_name' : '설경구' }\n",
    "                    ):\n",
    "    print(doc)"
   ]
  },
  {
   "cell_type": "markdown",
   "metadata": {},
   "source": [
    "<div class=\"alert alert-block alert-success\">\n",
    "<font color=\"blue\" size=\"4em\">실습</font><br>\n",
    "actor_rate 가 <= 35000 인 doc의 배우 이름과 배우가 출연한 영화 리스트 출력하기\n",
    "</div>"
   ]
  },
  {
   "cell_type": "code",
   "execution_count": 121,
   "metadata": {
    "scrolled": true
   },
   "outputs": [
    {
     "name": "stdout",
     "output_type": "stream",
     "text": [
      "{'movie_list': ['남한산성', '범죄도시', '부라더'], 'actor_name': '허성태'}\n",
      "{'movie_list': ['범죄도시', '이웃집 스타'], 'actor_name': '임형준'}\n"
     ]
    }
   ],
   "source": [
    "for doc in actor_collection.find( { 'actor_rate' : {'$lte' : 35000} }, { 'actor_name': 1, 'movie_list': 1, '_id':0 } ):\n",
    "    print(doc)"
   ]
  },
  {
   "cell_type": "markdown",
   "metadata": {},
   "source": [
    "### 7.4. or"
   ]
  },
  {
   "cell_type": "markdown",
   "metadata": {},
   "source": [
    "#### test_insert 컬렉션으로 테스트를 해보겠습니다. (age 컬럼 활용)"
   ]
  },
  {
   "cell_type": "code",
   "execution_count": 122,
   "metadata": {
    "collapsed": true,
    "scrolled": true
   },
   "outputs": [],
   "source": [
    "username = 'davelee'\n",
    "password = 'korea123'\n",
    "connection = pymongo.MongoClient('mongodb://%s:%s@www.funcoding.xyz' % (username, password))\n",
    "db = connection.test\n",
    "test_collection = db.test_collection"
   ]
  },
  {
   "cell_type": "code",
   "execution_count": 123,
   "metadata": {
    "scrolled": true
   },
   "outputs": [
    {
     "name": "stdout",
     "output_type": "stream",
     "text": [
      "{'_id': ObjectId('5a01b4ba81f6400b2d7c677a'), 'author': 'Dave', 'text': 'My second blog post!', 'tags': ['mongodb', 'python', 'pymongo']}\n",
      "{'_id': ObjectId('5a01b50ec607715c40efc075'), 'author': 'Dave', 'text': 'My second blog post!', 'tags': ['mongodb', 'python', 'pymongo']}\n",
      "{'_id': ObjectId('5a01b539c607715c40efc076'), 'number': 0}\n",
      "{'_id': ObjectId('5a01b539c607715c40efc077'), 'number': 1}\n",
      "{'_id': ObjectId('5a01b539c607715c40efc078'), 'number': 2}\n",
      "{'_id': ObjectId('5a01b539c607715c40efc079'), 'number': 3}\n",
      "{'_id': ObjectId('5a01b539c607715c40efc07a'), 'number': 4}\n",
      "{'_id': ObjectId('5a01b539c607715c40efc07b'), 'number': 5}\n",
      "{'_id': ObjectId('5a01b54081f6400b2d7c677b'), 'number': 0}\n",
      "{'_id': ObjectId('5a01b54081f6400b2d7c677c'), 'number': 1}\n",
      "{'_id': ObjectId('5a01b54081f6400b2d7c677d'), 'number': 2}\n",
      "{'_id': ObjectId('5a01b54081f6400b2d7c677e'), 'number': 3}\n",
      "{'_id': ObjectId('5a01b54081f6400b2d7c677f'), 'number': 4}\n",
      "{'_id': ObjectId('5a01b54081f6400b2d7c6780'), 'number': 5}\n",
      "{'_id': ObjectId('5a09885481f64002aac0bf00'), 'author': 'Dave', 'text': 'My second blog post!', 'tags': ['mongodb', 'python', 'pymongo']}\n",
      "{'_id': ObjectId('5a0988a881f64002aac0bf01'), 'number': 0}\n",
      "{'_id': ObjectId('5a0988a881f64002aac0bf02'), 'number': 1}\n",
      "{'_id': ObjectId('5a0988a881f64002aac0bf03'), 'number': 2}\n",
      "{'_id': ObjectId('5a0988a881f64002aac0bf04'), 'number': 3}\n",
      "{'_id': ObjectId('5a0988a881f64002aac0bf05'), 'number': 4}\n",
      "{'_id': ObjectId('5a0988a881f64002aac0bf06'), 'number': 5}\n",
      "{'_id': ObjectId('5a0ac8dd81f6402f8ff0569f'), 'author': 'Dave', 'text': 'My second blog post!', 'tags': ['mongodb', 'python', 'pymongo']}\n",
      "{'_id': ObjectId('5a0ac93a81f6402f8ff056a0'), 'number': 0}\n",
      "{'_id': ObjectId('5a0ac93a81f6402f8ff056a1'), 'number': 1}\n",
      "{'_id': ObjectId('5a0ac93a81f6402f8ff056a2'), 'number': 2}\n",
      "{'_id': ObjectId('5a0ac93a81f6402f8ff056a3'), 'number': 3}\n",
      "{'_id': ObjectId('5a0ac93a81f6402f8ff056a4'), 'number': 4}\n",
      "{'_id': ObjectId('5a0ac93a81f6402f8ff056a5'), 'number': 5}\n"
     ]
    }
   ],
   "source": [
    "for result in test_collection.find():\n",
    "    print(result)"
   ]
  },
  {
   "cell_type": "code",
   "execution_count": 124,
   "metadata": {
    "scrolled": true
   },
   "outputs": [
    {
     "name": "stdout",
     "output_type": "stream",
     "text": [
      "{'_id': ObjectId('5a01b540c607715c40efc080'), 'title': '암살', 'castings': ['이정재', '전지현', '하정우']}\n",
      "{'_id': ObjectId('5a01b540c607715c40efc081'), 'title': '실미도', 'castings': ['설경구', '안성기'], 'datetime': {'year': '2003', 'month': 3, 'val': {'a': {'b': 1}}}}\n",
      "{'_id': ObjectId('5a01b541c607715c40efc082'), 'name': 'aaron', 'age': 20}\n",
      "{'_id': ObjectId('5a01b541c607715c40efc083'), 'name': 'bob', 'age': 30}\n",
      "{'_id': ObjectId('5a01b541c607715c40efc084'), 'name': 'cathy', 'age': 25}\n",
      "{'_id': ObjectId('5a01b541c607715c40efc085'), 'name': 'david', 'age': 27}\n",
      "{'_id': ObjectId('5a01b541c607715c40efc086'), 'name': 'erick', 'age': 28}\n",
      "{'_id': ObjectId('5a01b541c607715c40efc087'), 'name': 'fox', 'age': 32}\n",
      "{'_id': ObjectId('5a01b541c607715c40efc088'), 'name': 'hmm'}\n",
      "{'_id': ObjectId('5a09890f81f64002aac0bf0b'), 'title': '암살', 'castings': ['이정재', '전지현', '하정우']}\n",
      "{'_id': ObjectId('5a09890f81f64002aac0bf0c'), 'title': '실미도', 'castings': ['설경구', '안성기'], 'datetime': {'year': '2003', 'month': 3, 'val': {'a': {'b': 1}}}}\n",
      "{'_id': ObjectId('5a09893f81f64002aac0bf0d'), 'name': 'aaron', 'age': 20}\n",
      "{'_id': ObjectId('5a09893f81f64002aac0bf0e'), 'name': 'bob', 'age': 30}\n",
      "{'_id': ObjectId('5a09893f81f64002aac0bf0f'), 'name': 'cathy', 'age': 25}\n",
      "{'_id': ObjectId('5a09893f81f64002aac0bf10'), 'name': 'david', 'age': 27}\n",
      "{'_id': ObjectId('5a09893f81f64002aac0bf11'), 'name': 'erick', 'age': 28}\n",
      "{'_id': ObjectId('5a09893f81f64002aac0bf12'), 'name': 'fox', 'age': 32}\n",
      "{'_id': ObjectId('5a09893f81f64002aac0bf13'), 'name': 'hmm'}\n",
      "{'_id': ObjectId('5a0ac98881f6402f8ff056aa'), 'title': '암살', 'castings': ['이정재', '전지현', '하정우']}\n",
      "{'_id': ObjectId('5a0ac98881f6402f8ff056ab'), 'title': '실미도', 'castings': ['설경구', '안성기'], 'datetime': {'year': '2003', 'month': 3, 'val': {'a': {'b': 1}}}}\n",
      "{'_id': ObjectId('5a0ac9b681f6402f8ff056ac'), 'name': 'aaron', 'age': 20}\n",
      "{'_id': ObjectId('5a0ac9b681f6402f8ff056ad'), 'name': 'bob', 'age': 30}\n",
      "{'_id': ObjectId('5a0ac9b681f6402f8ff056ae'), 'name': 'cathy', 'age': 25}\n",
      "{'_id': ObjectId('5a0ac9b681f6402f8ff056af'), 'name': 'david', 'age': 27}\n",
      "{'_id': ObjectId('5a0ac9b681f6402f8ff056b0'), 'name': 'erick', 'age': 28}\n",
      "{'_id': ObjectId('5a0ac9b681f6402f8ff056b1'), 'name': 'fox', 'age': 32}\n",
      "{'_id': ObjectId('5a0ac9b681f6402f8ff056b2'), 'name': 'hmm'}\n"
     ]
    }
   ],
   "source": [
    "for doc in test_insert_collection.find():\n",
    "    print(doc)"
   ]
  },
  {
   "cell_type": "code",
   "execution_count": 125,
   "metadata": {
    "scrolled": true
   },
   "outputs": [
    {
     "name": "stdout",
     "output_type": "stream",
     "text": [
      "{'_id': ObjectId('5a01b541c607715c40efc083'), 'name': 'bob', 'age': 30}\n",
      "{'_id': ObjectId('5a01b541c607715c40efc085'), 'name': 'david', 'age': 27}\n",
      "{'_id': ObjectId('5a09893f81f64002aac0bf0e'), 'name': 'bob', 'age': 30}\n",
      "{'_id': ObjectId('5a09893f81f64002aac0bf10'), 'name': 'david', 'age': 27}\n",
      "{'_id': ObjectId('5a0ac9b681f6402f8ff056ad'), 'name': 'bob', 'age': 30}\n",
      "{'_id': ObjectId('5a0ac9b681f6402f8ff056af'), 'name': 'david', 'age': 27}\n"
     ]
    }
   ],
   "source": [
    "for doc in test_insert_collection.find({'$or' : [ {'age' : 27}, {'age' : 30} ] }):\n",
    "    print(doc)"
   ]
  },
  {
   "cell_type": "code",
   "execution_count": 126,
   "metadata": {
    "scrolled": true
   },
   "outputs": [
    {
     "name": "stdout",
     "output_type": "stream",
     "text": [
      "{'_id': ObjectId('5a01b541c607715c40efc082'), 'name': 'aaron', 'age': 20}\n",
      "{'_id': ObjectId('5a09893f81f64002aac0bf0d'), 'name': 'aaron', 'age': 20}\n",
      "{'_id': ObjectId('5a0ac9b681f6402f8ff056ac'), 'name': 'aaron', 'age': 20}\n"
     ]
    }
   ],
   "source": [
    "# name이 aaron이고, age가 20이거나 30인 doc\n",
    "for doc in test_insert_collection.find({ 'name' : 'aaron', '$or' : [ { 'age' : {'$lte' : 20 } }, { 'age' : 30 } ] }):\n",
    "    print(doc)"
   ]
  },
  {
   "cell_type": "code",
   "execution_count": 127,
   "metadata": {
    "scrolled": true
   },
   "outputs": [
    {
     "name": "stdout",
     "output_type": "stream",
     "text": [
      "{'_id': ObjectId('5a01b541c607715c40efc082'), 'name': 'aaron', 'age': 20}\n",
      "{'_id': ObjectId('5a01b541c607715c40efc083'), 'name': 'bob', 'age': 30}\n",
      "{'_id': ObjectId('5a01b541c607715c40efc084'), 'name': 'cathy', 'age': 25}\n",
      "{'_id': ObjectId('5a01b541c607715c40efc087'), 'name': 'fox', 'age': 32}\n",
      "{'_id': ObjectId('5a09893f81f64002aac0bf0d'), 'name': 'aaron', 'age': 20}\n",
      "{'_id': ObjectId('5a09893f81f64002aac0bf0e'), 'name': 'bob', 'age': 30}\n",
      "{'_id': ObjectId('5a09893f81f64002aac0bf0f'), 'name': 'cathy', 'age': 25}\n",
      "{'_id': ObjectId('5a09893f81f64002aac0bf12'), 'name': 'fox', 'age': 32}\n",
      "{'_id': ObjectId('5a0ac9b681f6402f8ff056ac'), 'name': 'aaron', 'age': 20}\n",
      "{'_id': ObjectId('5a0ac9b681f6402f8ff056ad'), 'name': 'bob', 'age': 30}\n",
      "{'_id': ObjectId('5a0ac9b681f6402f8ff056ae'), 'name': 'cathy', 'age': 25}\n",
      "{'_id': ObjectId('5a0ac9b681f6402f8ff056b1'), 'name': 'fox', 'age': 32}\n"
     ]
    }
   ],
   "source": [
    "for doc in test_insert_collection.find({'$or' : [ {'age' : { '$gte' : 29 } }, { 'age' : { '$lte' : 25 } } ] }):\n",
    "    print(doc)"
   ]
  },
  {
   "cell_type": "code",
   "execution_count": 128,
   "metadata": {
    "scrolled": true
   },
   "outputs": [
    {
     "name": "stdout",
     "output_type": "stream",
     "text": [
      "{'_id': ObjectId('5a01b541c607715c40efc083'), 'name': 'bob', 'age': 30}\n",
      "{'_id': ObjectId('5a01b541c607715c40efc084'), 'name': 'cathy', 'age': 25}\n",
      "{'_id': ObjectId('5a01b541c607715c40efc087'), 'name': 'fox', 'age': 32}\n",
      "{'_id': ObjectId('5a09893f81f64002aac0bf0e'), 'name': 'bob', 'age': 30}\n",
      "{'_id': ObjectId('5a09893f81f64002aac0bf0f'), 'name': 'cathy', 'age': 25}\n",
      "{'_id': ObjectId('5a09893f81f64002aac0bf12'), 'name': 'fox', 'age': 32}\n",
      "{'_id': ObjectId('5a0ac9b681f6402f8ff056ad'), 'name': 'bob', 'age': 30}\n",
      "{'_id': ObjectId('5a0ac9b681f6402f8ff056ae'), 'name': 'cathy', 'age': 25}\n",
      "{'_id': ObjectId('5a0ac9b681f6402f8ff056b1'), 'name': 'fox', 'age': 32}\n"
     ]
    }
   ],
   "source": [
    "# age가 29 이상이거나 25인 doc\n",
    "for doc in test_insert_collection.find( {'$or' : [ {'age' : {'$gte' : 29 } }, { 'age' : 25 } ] } ):\n",
    "    print(doc)"
   ]
  },
  {
   "cell_type": "markdown",
   "metadata": {
    "collapsed": true,
    "scrolled": true
   },
   "source": [
    "* 조건: age >= 27 or name = 'fox'\n",
    "* 출력: name, age"
   ]
  },
  {
   "cell_type": "code",
   "execution_count": 130,
   "metadata": {
    "scrolled": true
   },
   "outputs": [
    {
     "name": "stdout",
     "output_type": "stream",
     "text": [
      "{'name': 'bob', 'age': 30}\n",
      "{'name': 'david', 'age': 27}\n",
      "{'name': 'erick', 'age': 28}\n",
      "{'name': 'fox', 'age': 32}\n",
      "{'name': 'bob', 'age': 30}\n",
      "{'name': 'david', 'age': 27}\n",
      "{'name': 'erick', 'age': 28}\n",
      "{'name': 'fox', 'age': 32}\n",
      "{'name': 'bob', 'age': 30}\n",
      "{'name': 'david', 'age': 27}\n",
      "{'name': 'erick', 'age': 28}\n",
      "{'name': 'fox', 'age': 32}\n"
     ]
    }
   ],
   "source": [
    "for doc in test_insert_collection.find( {'$or' : [ {'age' : {'$gte' : 27 } }, { 'name' : 'fox' } ] }, {'_id':0} ):\n",
    "    print(doc)"
   ]
  },
  {
   "cell_type": "code",
   "execution_count": 126,
   "metadata": {
    "scrolled": true
   },
   "outputs": [
    {
     "name": "stdout",
     "output_type": "stream",
     "text": [
      "{'name': 'bob', 'age': 30}\n",
      "{'name': 'david', 'age': 27}\n",
      "{'name': 'erick', 'age': 28}\n",
      "{'name': 'fox', 'age': 32}\n",
      "{'name': 'bob', 'age': 30}\n",
      "{'name': 'david', 'age': 27}\n",
      "{'name': 'erick', 'age': 28}\n",
      "{'name': 'fox', 'age': 32}\n"
     ]
    }
   ],
   "source": [
    "# age가 29 이상이거나 25인 doc\n",
    "for doc in test_insert_collection.find({'$or' : [ {'age' : {'$gte' : 27}}, {'name' : 'fox'}]}, {'name':1, 'age':1, '_id':0}):\n",
    "    print(doc)"
   ]
  },
  {
   "cell_type": "markdown",
   "metadata": {},
   "source": [
    "### 7.5. nor\n",
    " - not or"
   ]
  },
  {
   "cell_type": "code",
   "execution_count": 18,
   "metadata": {
    "scrolled": true
   },
   "outputs": [
    {
     "name": "stdout",
     "output_type": "stream",
     "text": [
      "{'_id': ObjectId('59ea1a0471f3ec3a5a4f7a47'), 'title': '암살', 'castings': ['이정재', '전지현', '하정우']}\n",
      "{'_id': ObjectId('59ea1a0471f3ec3a5a4f7a48'), 'title': '실미도', 'castings': ['설경구', '안성기'], 'datetime': {'year': '2003', 'month': 3, 'val': {'a': {'b': 1}}}}\n",
      "{'_id': ObjectId('59ea1a0571f3ec3a5a4f7a49'), 'name': 'aaron', 'age': 20}\n",
      "{'_id': ObjectId('59ea1a0571f3ec3a5a4f7a4c'), 'name': 'david', 'age': 27}\n",
      "{'_id': ObjectId('59ea1a0571f3ec3a5a4f7a4d'), 'name': 'erick', 'age': 28}\n",
      "{'_id': ObjectId('59ea1a0571f3ec3a5a4f7a4f'), 'name': 'hmm'}\n",
      "{'_id': ObjectId('59eaaf3a71f3ec3a5a4f7a58'), 'title': '암살', 'castings': ['이정재', '전지현', '하정우']}\n",
      "{'_id': ObjectId('59eaaf3a71f3ec3a5a4f7a59'), 'title': '실미도', 'castings': ['설경구', '안성기'], 'datetime': {'year': '2003', 'month': 3, 'val': {'a': {'b': 1}}}}\n",
      "{'_id': ObjectId('59eaaf3a71f3ec3a5a4f7a5a'), 'name': 'aaron', 'age': 20}\n",
      "{'_id': ObjectId('59eaaf3a71f3ec3a5a4f7a5d'), 'name': 'david', 'age': 27}\n",
      "{'_id': ObjectId('59eaaf3a71f3ec3a5a4f7a5e'), 'name': 'erick', 'age': 28}\n",
      "{'_id': ObjectId('59eaaf3a71f3ec3a5a4f7a60'), 'name': 'hmm'}\n"
     ]
    }
   ],
   "source": [
    "for doc in test_insert_collection.find({'$nor' : [{'age' : {'$gte' : 29}}, {'age' : 25}]}):\n",
    "    print(doc)"
   ]
  },
  {
   "cell_type": "markdown",
   "metadata": {},
   "source": [
    "### 7.6. in, nin"
   ]
  },
  {
   "cell_type": "code",
   "execution_count": 19,
   "metadata": {
    "scrolled": true
   },
   "outputs": [
    {
     "name": "stdout",
     "output_type": "stream",
     "text": [
      "{'_id': ObjectId('59ea1a0571f3ec3a5a4f7a49'), 'name': 'aaron', 'age': 20}\n",
      "{'_id': ObjectId('59ea1a0571f3ec3a5a4f7a4b'), 'name': 'cathy', 'age': 25}\n",
      "{'_id': ObjectId('59ea1a0571f3ec3a5a4f7a4c'), 'name': 'david', 'age': 27}\n",
      "{'_id': ObjectId('59eaaf3a71f3ec3a5a4f7a5a'), 'name': 'aaron', 'age': 20}\n",
      "{'_id': ObjectId('59eaaf3a71f3ec3a5a4f7a5c'), 'name': 'cathy', 'age': 25}\n",
      "{'_id': ObjectId('59eaaf3a71f3ec3a5a4f7a5d'), 'name': 'david', 'age': 27}\n"
     ]
    }
   ],
   "source": [
    "# age가 해당 리스트안에 존재하는 원소와 일치할 떄\n",
    "for doc in test_insert_collection.find({'age' : {'$in' : [20, 21, 25, 27]}}):\n",
    "    print(doc)"
   ]
  },
  {
   "cell_type": "code",
   "execution_count": 20,
   "metadata": {
    "scrolled": true
   },
   "outputs": [
    {
     "name": "stdout",
     "output_type": "stream",
     "text": [
      "{'_id': ObjectId('59ea1a0471f3ec3a5a4f7a47'), 'title': '암살', 'castings': ['이정재', '전지현', '하정우']}\n",
      "{'_id': ObjectId('59ea1a0471f3ec3a5a4f7a48'), 'title': '실미도', 'castings': ['설경구', '안성기'], 'datetime': {'year': '2003', 'month': 3, 'val': {'a': {'b': 1}}}}\n",
      "{'_id': ObjectId('59ea1a0571f3ec3a5a4f7a4a'), 'name': 'bob', 'age': 30}\n",
      "{'_id': ObjectId('59ea1a0571f3ec3a5a4f7a4d'), 'name': 'erick', 'age': 28}\n",
      "{'_id': ObjectId('59ea1a0571f3ec3a5a4f7a4e'), 'name': 'fox', 'age': 32}\n",
      "{'_id': ObjectId('59ea1a0571f3ec3a5a4f7a4f'), 'name': 'hmm'}\n",
      "{'_id': ObjectId('59eaaf3a71f3ec3a5a4f7a58'), 'title': '암살', 'castings': ['이정재', '전지현', '하정우']}\n",
      "{'_id': ObjectId('59eaaf3a71f3ec3a5a4f7a59'), 'title': '실미도', 'castings': ['설경구', '안성기'], 'datetime': {'year': '2003', 'month': 3, 'val': {'a': {'b': 1}}}}\n",
      "{'_id': ObjectId('59eaaf3a71f3ec3a5a4f7a5b'), 'name': 'bob', 'age': 30}\n",
      "{'_id': ObjectId('59eaaf3a71f3ec3a5a4f7a5e'), 'name': 'erick', 'age': 28}\n",
      "{'_id': ObjectId('59eaaf3a71f3ec3a5a4f7a5f'), 'name': 'fox', 'age': 32}\n",
      "{'_id': ObjectId('59eaaf3a71f3ec3a5a4f7a60'), 'name': 'hmm'}\n"
     ]
    }
   ],
   "source": [
    "# nin : not in\n",
    "for doc in test_insert_collection.find({'age' : {'$nin' : [20, 21, 25, 27]}}):\n",
    "    print(doc)"
   ]
  },
  {
   "cell_type": "markdown",
   "metadata": {},
   "source": [
    "### 7.7. skip, limit\n",
    " - skip(n) : 검색 결과 n개만큼 건너뜀\n",
    " - limit(n) : 검색 결과 n개로 제한"
   ]
  },
  {
   "cell_type": "code",
   "execution_count": 21,
   "metadata": {
    "scrolled": true
   },
   "outputs": [
    {
     "name": "stdout",
     "output_type": "stream",
     "text": [
      "{'_id': ObjectId('59ea1a0571f3ec3a5a4f7a4d'), 'name': 'erick', 'age': 28}\n",
      "{'_id': ObjectId('59ea1a0571f3ec3a5a4f7a4e'), 'name': 'fox', 'age': 32}\n",
      "{'_id': ObjectId('59ea1a0571f3ec3a5a4f7a4f'), 'name': 'hmm'}\n",
      "{'_id': ObjectId('59eaaf3a71f3ec3a5a4f7a58'), 'title': '암살', 'castings': ['이정재', '전지현', '하정우']}\n",
      "{'_id': ObjectId('59eaaf3a71f3ec3a5a4f7a59'), 'title': '실미도', 'castings': ['설경구', '안성기'], 'datetime': {'year': '2003', 'month': 3, 'val': {'a': {'b': 1}}}}\n",
      "{'_id': ObjectId('59eaaf3a71f3ec3a5a4f7a5b'), 'name': 'bob', 'age': 30}\n",
      "{'_id': ObjectId('59eaaf3a71f3ec3a5a4f7a5e'), 'name': 'erick', 'age': 28}\n",
      "{'_id': ObjectId('59eaaf3a71f3ec3a5a4f7a5f'), 'name': 'fox', 'age': 32}\n",
      "{'_id': ObjectId('59eaaf3a71f3ec3a5a4f7a60'), 'name': 'hmm'}\n"
     ]
    }
   ],
   "source": [
    "for doc in test_insert_collection.find({'age' : {'$nin' : [20, 21, 25, 27]}}).skip(3):\n",
    "    print(doc)"
   ]
  },
  {
   "cell_type": "code",
   "execution_count": 22,
   "metadata": {
    "scrolled": true
   },
   "outputs": [
    {
     "name": "stdout",
     "output_type": "stream",
     "text": [
      "{'_id': ObjectId('59ea1a0471f3ec3a5a4f7a47'), 'title': '암살', 'castings': ['이정재', '전지현', '하정우']}\n",
      "{'_id': ObjectId('59ea1a0471f3ec3a5a4f7a48'), 'title': '실미도', 'castings': ['설경구', '안성기'], 'datetime': {'year': '2003', 'month': 3, 'val': {'a': {'b': 1}}}}\n",
      "{'_id': ObjectId('59ea1a0571f3ec3a5a4f7a4a'), 'name': 'bob', 'age': 30}\n"
     ]
    }
   ],
   "source": [
    "for doc in test_insert_collection.find({'age' : {'$nin' : [20, 21, 25, 27]}}).limit(3):\n",
    "    print(doc)"
   ]
  },
  {
   "cell_type": "code",
   "execution_count": 23,
   "metadata": {
    "scrolled": false
   },
   "outputs": [
    {
     "name": "stdout",
     "output_type": "stream",
     "text": [
      "{'_id': ObjectId('59ea1a0471f3ec3a5a4f7a48'), 'title': '실미도', 'castings': ['설경구', '안성기'], 'datetime': {'year': '2003', 'month': 3, 'val': {'a': {'b': 1}}}}\n",
      "{'_id': ObjectId('59ea1a0571f3ec3a5a4f7a4a'), 'name': 'bob', 'age': 30}\n",
      "{'_id': ObjectId('59ea1a0571f3ec3a5a4f7a4d'), 'name': 'erick', 'age': 28}\n"
     ]
    }
   ],
   "source": [
    "# skip limit 동시 사용 가능\n",
    "for doc in test_insert_collection.find({'age' : {'$nin' : [20, 21, 25, 27]}}).skip(1).limit(3):\n",
    "    print(doc)"
   ]
  },
  {
   "cell_type": "markdown",
   "metadata": {},
   "source": [
    "### 7.7. list 검색"
   ]
  },
  {
   "cell_type": "code",
   "execution_count": 131,
   "metadata": {
    "collapsed": true,
    "scrolled": true
   },
   "outputs": [],
   "source": [
    "import pymongo\n",
    "\n",
    "username = 'davelee'\n",
    "password = 'korea123'\n",
    "connection = pymongo.MongoClient('mongodb://%s:%s@www.funcoding.xyz' % (username, password))\n",
    "mongodb = connection.cine21\n",
    "actor_collection = mongodb.actor_collection"
   ]
  },
  {
   "cell_type": "code",
   "execution_count": 132,
   "metadata": {
    "scrolled": true
   },
   "outputs": [
    {
     "name": "stdout",
     "output_type": "stream",
     "text": [
      "마동석\n",
      "진선규\n",
      "윤계상\n",
      "조재윤\n",
      "최귀화\n",
      "허성태\n",
      "임형준\n"
     ]
    }
   ],
   "source": [
    "# 영화 리스트에 범죄도시를 포함하는 경우\n",
    "for doc in actor_collection.find({'movie_list' : '범죄도시'}):\n",
    "    print(doc['actor_name'])"
   ]
  },
  {
   "cell_type": "code",
   "execution_count": 133,
   "metadata": {
    "scrolled": true
   },
   "outputs": [
    {
     "name": "stdout",
     "output_type": "stream",
     "text": [
      "마동석\n",
      "진선규\n",
      "윤계상\n",
      "조재윤\n",
      "최귀화\n",
      "허성태\n",
      "임형준\n"
     ]
    }
   ],
   "source": [
    "# 영화 리스트에 범죄도시 또는 수상한 그녀를 포함하는 경우\n",
    "for doc in actor_collection.find({'$or' : [{'movie_list' : '범죄도시'}, {'movie_list' : '수상한 그녀'}]}):\n",
    "    print(doc['actor_name'])"
   ]
  },
  {
   "cell_type": "code",
   "execution_count": 134,
   "metadata": {
    "scrolled": true
   },
   "outputs": [
    {
     "name": "stdout",
     "output_type": "stream",
     "text": [
      "최귀화\n"
     ]
    }
   ],
   "source": [
    "# 영화 리스트에 범죄도시와 택시운전사를 포함하는 경우\n",
    "for doc in actor_collection.find({'movie_list' : '범죄도시', 'movie_list' : '택시운전사'}):\n",
    "    print(doc['actor_name'])"
   ]
  },
  {
   "cell_type": "markdown",
   "metadata": {},
   "source": [
    "* 리스트로 비교하기 위해서는 순서와 값이 정확히 일치해야 함"
   ]
  },
  {
   "cell_type": "code",
   "execution_count": 135,
   "metadata": {
    "collapsed": true,
    "scrolled": true
   },
   "outputs": [],
   "source": [
    "# 결과 없음\n",
    "for doc in actor_collection.find({'movie_list' : ['부라더', '범죄도시']}):\n",
    "    print(doc['actor_name'])"
   ]
  },
  {
   "cell_type": "code",
   "execution_count": 136,
   "metadata": {
    "scrolled": true
   },
   "outputs": [
    {
     "name": "stdout",
     "output_type": "stream",
     "text": [
      "진선규\n"
     ]
    }
   ],
   "source": [
    "for doc in actor_collection.find({'movie_list' : ['범죄도시', '남한산성']}):\n",
    "    print(doc['actor_name'])"
   ]
  },
  {
   "cell_type": "markdown",
   "metadata": {},
   "source": [
    "* 순서에 관계 없이 찾고자 하는 경우"
   ]
  },
  {
   "cell_type": "code",
   "execution_count": 137,
   "metadata": {
    "scrolled": true
   },
   "outputs": [
    {
     "name": "stdout",
     "output_type": "stream",
     "text": [
      "마동석\n",
      "허성태\n"
     ]
    }
   ],
   "source": [
    "# 영화 리스트에 부라더와 범죄도시를 순서와 관계없이 포함하는 경우\n",
    "for doc in actor_collection.find({'movie_list' : {'$all' :  ['부라더', '범죄도시'] }} ):\n",
    "    print(doc['actor_name'])"
   ]
  },
  {
   "cell_type": "code",
   "execution_count": 138,
   "metadata": {
    "scrolled": true
   },
   "outputs": [
    {
     "name": "stdout",
     "output_type": "stream",
     "text": [
      "최귀화\n"
     ]
    }
   ],
   "source": [
    "# 영화 리스트에 부라더와 범죄도시를 순서와 관계없이 포함하는 경우\n",
    "for doc in actor_collection.find({'movie_list' : {'$all' :  ['택시운전사', '범죄도시'] }} ):\n",
    "    print(doc['actor_name'])"
   ]
  },
  {
   "cell_type": "code",
   "execution_count": 139,
   "metadata": {
    "collapsed": true,
    "scrolled": true
   },
   "outputs": [],
   "source": [
    "# 영화 리스트에 수상한 그녀를 순서와 관계없이 포함하는 경우\n",
    "for doc in actor_collection.find({'movie_list' : {'$all' :  ['수상한 그녀'] }} ):\n",
    "    print(doc['actor_name'])"
   ]
  },
  {
   "cell_type": "markdown",
   "metadata": {},
   "source": [
    "* elemMatch\n",
    " - 적어도 한개 이상의 원소가 복수개의 조건을 동시에 만족하는 경우\n",
    " - 조건이 한개인 경우는 사용하지 않음"
   ]
  },
  {
   "cell_type": "code",
   "execution_count": 140,
   "metadata": {
    "collapsed": true,
    "scrolled": true
   },
   "outputs": [],
   "source": [
    "score = mongodb.test.score"
   ]
  },
  {
   "cell_type": "code",
   "execution_count": 141,
   "metadata": {
    "scrolled": true
   },
   "outputs": [
    {
     "name": "stdout",
     "output_type": "stream",
     "text": [
      "{'_id': ObjectId('5a099d9f81f64002aac0bf25'), 'results': [82, 85, 88]}\n",
      "{'_id': ObjectId('5a099d9f81f64002aac0bf26'), 'results': [75, 88, 89]}\n",
      "{'_id': ObjectId('5a0a7e6681f6401787fdff7e'), 'results': [82, 85, 88]}\n",
      "{'_id': ObjectId('5a0a7e6681f6401787fdff7f'), 'results': [75, 88, 91]}\n"
     ]
    }
   ],
   "source": [
    "for doc in score.find():\n",
    "    print(doc)"
   ]
  },
  {
   "cell_type": "code",
   "execution_count": 142,
   "metadata": {
    "scrolled": true
   },
   "outputs": [
    {
     "data": {
      "text/plain": [
       "<pymongo.results.InsertManyResult at 0x106c88108>"
      ]
     },
     "execution_count": 142,
     "metadata": {},
     "output_type": "execute_result"
    }
   ],
   "source": [
    "score.insert_many([\n",
    "{ 'results': [ 82, 85, 88 ] },\n",
    "{ 'results': [ 75, 88, 91 ] }])"
   ]
  },
  {
   "cell_type": "code",
   "execution_count": 9,
   "metadata": {
    "scrolled": true
   },
   "outputs": [
    {
     "name": "stdout",
     "output_type": "stream",
     "text": [
      "{'_id': ObjectId('5a0a7e6681f6401787fdff7f'), 'results': [75, 88, 91]}\n"
     ]
    }
   ],
   "source": [
    "# 각 조건별로 하나라도 만족하는 원소가 있을 경우\n",
    "for doc in score.find({'results' : { '$gte': 90, '$lt': 85 }}):\n",
    "    print(doc)"
   ]
  },
  {
   "cell_type": "code",
   "execution_count": 10,
   "metadata": {
    "scrolled": true
   },
   "outputs": [
    {
     "name": "stdout",
     "output_type": "stream",
     "text": [
      "{'_id': ObjectId('5a099d9f81f64002aac0bf25'), 'results': [82, 85, 88]}\n",
      "{'_id': ObjectId('5a0a7e6681f6401787fdff7e'), 'results': [82, 85, 88]}\n"
     ]
    }
   ],
   "source": [
    "# 적어도 한개의 원소(82) 가 모든 조건을 만족하는 경우 (80 <= 82 <= 85)\n",
    "for doc in score.find({'results' :  {'$elemMatch' : { '$gte': 80, '$lt': 85 }}}):\n",
    "    print(doc)"
   ]
  },
  {
   "cell_type": "markdown",
   "metadata": {},
   "source": [
    "* 인덱스를 특정하여 검색하기"
   ]
  },
  {
   "cell_type": "code",
   "execution_count": 143,
   "metadata": {
    "scrolled": true
   },
   "outputs": [
    {
     "name": "stdout",
     "output_type": "stream",
     "text": [
      "마동석\n",
      "진선규\n",
      "윤계상\n",
      "조재윤\n",
      "최귀화\n",
      "임형준\n"
     ]
    }
   ],
   "source": [
    "# movie_list의 1번째 원소가 범죄도시인 것 검색\n",
    "for doc in actor_collection.find({'movie_list.0' : '범죄도시'} ):\n",
    "    print(doc['actor_name'])"
   ]
  },
  {
   "cell_type": "code",
   "execution_count": 144,
   "metadata": {
    "scrolled": true
   },
   "outputs": [
    {
     "name": "stdout",
     "output_type": "stream",
     "text": [
      "허성태\n"
     ]
    }
   ],
   "source": [
    "# movie_list의 2번째 원소가 범죄도시인 것 검색\n",
    "for doc in actor_collection.find({'movie_list.1' : '범죄도시'} ):\n",
    "    print(doc['actor_name'])"
   ]
  },
  {
   "cell_type": "markdown",
   "metadata": {},
   "source": [
    "* 리스트의 원소의 개수를 기준으로 검색 (정확한 개수로만 검색 가능)"
   ]
  },
  {
   "cell_type": "code",
   "execution_count": 145,
   "metadata": {
    "scrolled": true
   },
   "outputs": [
    {
     "name": "stdout",
     "output_type": "stream",
     "text": [
      "마동석\n",
      "윤계상\n",
      "최귀화\n",
      "허성태\n"
     ]
    }
   ],
   "source": [
    "for doc in actor_collection.find({'movie_list' : {'$size' : 3}} ):\n",
    "    print(doc['actor_name'])"
   ]
  },
  {
   "cell_type": "markdown",
   "metadata": {},
   "source": [
    "### 7.8. Update 예제"
   ]
  },
  {
   "cell_type": "code",
   "execution_count": 146,
   "metadata": {
    "collapsed": true,
    "scrolled": true
   },
   "outputs": [],
   "source": [
    "result = actor_collection.update_one(\n",
    "    {'actor_name' : '마동석'}, \n",
    "    {\n",
    "        '$set' : \n",
    "        {\n",
    "            'actor_info.생년월일' : '1971-03-03', \n",
    "            'actor_info.홈페이지' : 'https://www.instagram.com/madongseok'\n",
    "        }\n",
    "    }\n",
    ")"
   ]
  },
  {
   "cell_type": "code",
   "execution_count": 147,
   "metadata": {
    "scrolled": true
   },
   "outputs": [
    {
     "data": {
      "text/plain": [
       "1"
      ]
     },
     "execution_count": 147,
     "metadata": {},
     "output_type": "execute_result"
    }
   ],
   "source": [
    "result.modified_count"
   ]
  },
  {
   "cell_type": "code",
   "execution_count": 148,
   "metadata": {
    "collapsed": true,
    "scrolled": true
   },
   "outputs": [],
   "source": [
    "# update_many로 매칭되는 모든 doc 업데이트\n",
    "result = actor_collection.update_many({'actor_info.성별' : '남'}, {'$set' : {'actor_info.성별' : '남자'}})"
   ]
  },
  {
   "cell_type": "code",
   "execution_count": 149,
   "metadata": {
    "scrolled": true
   },
   "outputs": [
    {
     "data": {
      "text/plain": [
       "7"
      ]
     },
     "execution_count": 149,
     "metadata": {},
     "output_type": "execute_result"
    }
   ],
   "source": [
    "result.modified_count"
   ]
  },
  {
   "cell_type": "code",
   "execution_count": 150,
   "metadata": {
    "collapsed": true,
    "scrolled": true
   },
   "outputs": [],
   "source": [
    "# update_many로 매칭되는 모든 doc 업데이트\n",
    "result = actor_collection.update_many({'actor_info.성별' : '여'}, {'$set' : {'actor_info.성별' : '여자'}})"
   ]
  },
  {
   "cell_type": "code",
   "execution_count": 151,
   "metadata": {
    "scrolled": true
   },
   "outputs": [
    {
     "data": {
      "text/plain": [
       "0"
      ]
     },
     "execution_count": 151,
     "metadata": {},
     "output_type": "execute_result"
    }
   ],
   "source": [
    "result.modified_count"
   ]
  },
  {
   "cell_type": "code",
   "execution_count": 152,
   "metadata": {
    "scrolled": true
   },
   "outputs": [
    {
     "name": "stdout",
     "output_type": "stream",
     "text": [
      "{'_id': ObjectId('5a0ae08481f6402f8ff056bc'), 'actor_rate': 59361, 'date': '2017-10', 'movie_list': ['범죄도시', '부라더', '부산행'], 'actor_name': '마동석', 'actor_info': {'직업': '배우', '생년월일': '1971-03-03', '성별': '남자', '홈페이지': 'https://www.instagram.com/madongseok'}, 'actor_details': {'생년월일': '1971-03-03', '홈페이지': 'https://www.instagram.com/madongseok'}}\n",
      "{'_id': ObjectId('5a0ae08481f6402f8ff056bd'), 'actor_rate': 42733, 'date': '2017-10', 'movie_list': ['범죄도시', '남한산성'], 'actor_name': '진선규', 'actor_info': {'직업': '배우', '생년월일': '1977-09-13', '성별': '남자'}}\n",
      "{'_id': ObjectId('5a0ae08481f6402f8ff056be'), 'actor_rate': 40181, 'date': '2017-10', 'movie_list': ['범죄도시', '발레 교습소', '죽여주는 여자'], 'actor_name': '윤계상', 'actor_info': {'다른 이름': '지오디;god', '직업': '배우', '생년월일': '1978-12-20', '성별': '남자', '홈페이지': 'https://www.facebook.com/saram.yoonkyesang\\nhttps://www.instagram.com/kyesang78/', '신장/체중': '182cm, 62kg', '학교': '경희대학교 포스트모던학과 휴학', '취미': '컴퓨터게임, 스노우보드', '특기': '표정연기, 춤추기'}}\n",
      "{'_id': ObjectId('5a0ae08481f6402f8ff056bf'), 'actor_rate': 37957, 'date': '2017-10', 'movie_list': ['범죄도시', '역모 - 반란의 시대'], 'actor_name': '조재윤', 'actor_info': {'직업': '배우', '생년월일': '1974-09-15', '성별': '남자', '홈페이지': 'https://www.instagram.com/jojaeyun/'}}\n",
      "{'_id': ObjectId('5a0ae08481f6402f8ff056c0'), 'actor_rate': 35754, 'date': '2017-10', 'movie_list': ['범죄도시', '택시운전사', '조작된 도시'], 'actor_name': '최귀화', 'actor_info': {'직업': '배우', '생년월일': '1978-03-03', '성별': '남자', '신장/체중': '181cm, 72kg'}}\n",
      "{'_id': ObjectId('5a0ae08481f6402f8ff056c1'), 'actor_rate': 33659, 'date': '2017-10', 'movie_list': ['남한산성', '범죄도시', '부라더'], 'actor_name': '허성태', 'actor_info': {'직업': '배우', '성별': '남자'}}\n",
      "{'_id': ObjectId('5a0ae08481f6402f8ff056c2'), 'actor_rate': 33487, 'date': '2017-10', 'movie_list': ['범죄도시', '이웃집 스타'], 'actor_name': '임형준', 'actor_info': {'직업': '배우', '생년월일': '1974-05-10', '성별': '남자', '신장/체중': '177cm, 71kg', '학교': '서울예술대학 연극과', '취미': '스쿼시, 피아노', '특기': '작곡, 노래', '소속사': '나무액터스'}}\n"
     ]
    }
   ],
   "source": [
    "for doc in actor_collection.find():\n",
    "    print(doc)"
   ]
  },
  {
   "cell_type": "markdown",
   "metadata": {},
   "source": [
    "* upsert option\n",
    " - update method의 upsert parameter가 True로 전달하면, 매칭되는 document를 찾지 못한 경우, insert 수행"
   ]
  },
  {
   "cell_type": "code",
   "execution_count": 153,
   "metadata": {
    "collapsed": true,
    "scrolled": true
   },
   "outputs": [],
   "source": [
    "result = actor_collection.update_many({'actor_name' : '오달수'}, \n",
    "                           {'$set' : {'actor_name' : '오달수', 'actor_rate' : 42230}}, \n",
    "                           upsert=True)"
   ]
  },
  {
   "cell_type": "code",
   "execution_count": 154,
   "metadata": {
    "scrolled": true
   },
   "outputs": [
    {
     "data": {
      "text/plain": [
       "0"
      ]
     },
     "execution_count": 154,
     "metadata": {},
     "output_type": "execute_result"
    }
   ],
   "source": [
    "result.modified_count"
   ]
  },
  {
   "cell_type": "code",
   "execution_count": 155,
   "metadata": {
    "scrolled": true
   },
   "outputs": [
    {
     "data": {
      "text/plain": [
       "['_UpdateResult__acknowledged',\n",
       " '_UpdateResult__raw_result',\n",
       " '_WriteResult__acknowledged',\n",
       " '__class__',\n",
       " '__delattr__',\n",
       " '__dir__',\n",
       " '__doc__',\n",
       " '__eq__',\n",
       " '__format__',\n",
       " '__ge__',\n",
       " '__getattribute__',\n",
       " '__gt__',\n",
       " '__hash__',\n",
       " '__init__',\n",
       " '__init_subclass__',\n",
       " '__le__',\n",
       " '__lt__',\n",
       " '__module__',\n",
       " '__ne__',\n",
       " '__new__',\n",
       " '__reduce__',\n",
       " '__reduce_ex__',\n",
       " '__repr__',\n",
       " '__setattr__',\n",
       " '__sizeof__',\n",
       " '__slots__',\n",
       " '__str__',\n",
       " '__subclasshook__',\n",
       " '_raise_if_unacknowledged',\n",
       " 'acknowledged',\n",
       " 'matched_count',\n",
       " 'modified_count',\n",
       " 'raw_result',\n",
       " 'upserted_id']"
      ]
     },
     "execution_count": 155,
     "metadata": {},
     "output_type": "execute_result"
    }
   ],
   "source": [
    "dir(result)"
   ]
  },
  {
   "cell_type": "code",
   "execution_count": 156,
   "metadata": {
    "scrolled": true
   },
   "outputs": [
    {
     "data": {
      "text/plain": [
       "ObjectId('5a0ae84ce8393b01d3212e0a')"
      ]
     },
     "execution_count": 156,
     "metadata": {},
     "output_type": "execute_result"
    }
   ],
   "source": [
    "# 새로 삽입된 객체의 아이디\n",
    "result.upserted_id"
   ]
  },
  {
   "cell_type": "code",
   "execution_count": 157,
   "metadata": {
    "collapsed": true,
    "scrolled": true
   },
   "outputs": [],
   "source": [
    "result = actor_collection.update_one({'actor_name' : '류승룡'}, \n",
    "                           {'$set' : {'actor_name' : '류승룡', 'actor_rate' : 42230}}, \n",
    "                           upsert=True)"
   ]
  },
  {
   "cell_type": "code",
   "execution_count": 158,
   "metadata": {
    "scrolled": true
   },
   "outputs": [
    {
     "data": {
      "text/plain": [
       "0"
      ]
     },
     "execution_count": 158,
     "metadata": {},
     "output_type": "execute_result"
    }
   ],
   "source": [
    "result.modified_count"
   ]
  },
  {
   "cell_type": "code",
   "execution_count": 159,
   "metadata": {
    "scrolled": true
   },
   "outputs": [
    {
     "data": {
      "text/plain": [
       "ObjectId('5a0ae85be8393b01d3212e1d')"
      ]
     },
     "execution_count": 159,
     "metadata": {},
     "output_type": "execute_result"
    }
   ],
   "source": [
    "# 새로 삽입된 객체의 아이디\n",
    "result.upserted_id"
   ]
  },
  {
   "cell_type": "code",
   "execution_count": 160,
   "metadata": {
    "collapsed": true,
    "scrolled": true
   },
   "outputs": [],
   "source": [
    "result = actor_collection.update_one({'actor_name' : '유해진'}, \n",
    "                           {'$set' : {'actor_name' : '유해진', 'actor_rate' : 42230}}, \n",
    "                           upsert=True)"
   ]
  },
  {
   "cell_type": "code",
   "execution_count": 161,
   "metadata": {
    "scrolled": true
   },
   "outputs": [
    {
     "data": {
      "text/plain": [
       "ObjectId('5a0ae861e8393b01d3212e23')"
      ]
     },
     "execution_count": 161,
     "metadata": {},
     "output_type": "execute_result"
    }
   ],
   "source": [
    "# 새로 삽입된 객체의 아이디\n",
    "result.upserted_id"
   ]
  },
  {
   "cell_type": "code",
   "execution_count": 162,
   "metadata": {
    "scrolled": true
   },
   "outputs": [
    {
     "name": "stdout",
     "output_type": "stream",
     "text": [
      "{'_id': ObjectId('5a0ae08481f6402f8ff056bc'), 'actor_rate': 59361, 'date': '2017-10', 'movie_list': ['범죄도시', '부라더', '부산행'], 'actor_name': '마동석', 'actor_info': {'직업': '배우', '생년월일': '1971-03-03', '성별': '남자', '홈페이지': 'https://www.instagram.com/madongseok'}, 'actor_details': {'생년월일': '1971-03-03', '홈페이지': 'https://www.instagram.com/madongseok'}}\n",
      "{'_id': ObjectId('5a0ae08481f6402f8ff056bd'), 'actor_rate': 42733, 'date': '2017-10', 'movie_list': ['범죄도시', '남한산성'], 'actor_name': '진선규', 'actor_info': {'직업': '배우', '생년월일': '1977-09-13', '성별': '남자'}}\n",
      "{'_id': ObjectId('5a0ae08481f6402f8ff056be'), 'actor_rate': 40181, 'date': '2017-10', 'movie_list': ['범죄도시', '발레 교습소', '죽여주는 여자'], 'actor_name': '윤계상', 'actor_info': {'다른 이름': '지오디;god', '직업': '배우', '생년월일': '1978-12-20', '성별': '남자', '홈페이지': 'https://www.facebook.com/saram.yoonkyesang\\nhttps://www.instagram.com/kyesang78/', '신장/체중': '182cm, 62kg', '학교': '경희대학교 포스트모던학과 휴학', '취미': '컴퓨터게임, 스노우보드', '특기': '표정연기, 춤추기'}}\n",
      "{'_id': ObjectId('5a0ae08481f6402f8ff056bf'), 'actor_rate': 37957, 'date': '2017-10', 'movie_list': ['범죄도시', '역모 - 반란의 시대'], 'actor_name': '조재윤', 'actor_info': {'직업': '배우', '생년월일': '1974-09-15', '성별': '남자', '홈페이지': 'https://www.instagram.com/jojaeyun/'}}\n",
      "{'_id': ObjectId('5a0ae08481f6402f8ff056c0'), 'actor_rate': 35754, 'date': '2017-10', 'movie_list': ['범죄도시', '택시운전사', '조작된 도시'], 'actor_name': '최귀화', 'actor_info': {'직업': '배우', '생년월일': '1978-03-03', '성별': '남자', '신장/체중': '181cm, 72kg'}}\n",
      "{'_id': ObjectId('5a0ae08481f6402f8ff056c1'), 'actor_rate': 33659, 'date': '2017-10', 'movie_list': ['남한산성', '범죄도시', '부라더'], 'actor_name': '허성태', 'actor_info': {'직업': '배우', '성별': '남자'}}\n",
      "{'_id': ObjectId('5a0ae08481f6402f8ff056c2'), 'actor_rate': 33487, 'date': '2017-10', 'movie_list': ['범죄도시', '이웃집 스타'], 'actor_name': '임형준', 'actor_info': {'직업': '배우', '생년월일': '1974-05-10', '성별': '남자', '신장/체중': '177cm, 71kg', '학교': '서울예술대학 연극과', '취미': '스쿼시, 피아노', '특기': '작곡, 노래', '소속사': '나무액터스'}}\n",
      "{'_id': ObjectId('5a0ae84ce8393b01d3212e0a'), 'actor_name': '오달수', 'actor_rate': 42230}\n",
      "{'_id': ObjectId('5a0ae85be8393b01d3212e1d'), 'actor_name': '류승룡', 'actor_rate': 42230}\n",
      "{'_id': ObjectId('5a0ae861e8393b01d3212e23'), 'actor_name': '유해진', 'actor_rate': 42230}\n"
     ]
    }
   ],
   "source": [
    "for doc in actor_collection.find():\n",
    "    print(doc)"
   ]
  },
  {
   "cell_type": "markdown",
   "metadata": {},
   "source": [
    "### 7.9. Delete 예제 "
   ]
  },
  {
   "cell_type": "code",
   "execution_count": 163,
   "metadata": {
    "scrolled": true
   },
   "outputs": [
    {
     "name": "stdout",
     "output_type": "stream",
     "text": [
      "1\n",
      "0\n"
     ]
    }
   ],
   "source": [
    "result = actor_collection.delete_one({'actor_name' : '오달수'})\n",
    "print (result.deleted_count)\n",
    "\n",
    "result = actor_collection.delete_many({'name' : '오바마'})\n",
    "print (result.deleted_count)"
   ]
  },
  {
   "cell_type": "code",
   "execution_count": 164,
   "metadata": {
    "collapsed": true,
    "scrolled": true
   },
   "outputs": [],
   "source": [
    "result = actor_collection.delete_one({'actor_name' : '오달수'})"
   ]
  },
  {
   "cell_type": "code",
   "execution_count": 165,
   "metadata": {
    "collapsed": true,
    "scrolled": true
   },
   "outputs": [],
   "source": [
    "result = actor_collection.delete_many({'actor_rate' : 42230})"
   ]
  },
  {
   "cell_type": "code",
   "execution_count": 166,
   "metadata": {
    "scrolled": true
   },
   "outputs": [
    {
     "name": "stdout",
     "output_type": "stream",
     "text": [
      "{'_id': ObjectId('5a0ae08481f6402f8ff056bc'), 'actor_rate': 59361, 'date': '2017-10', 'movie_list': ['범죄도시', '부라더', '부산행'], 'actor_name': '마동석', 'actor_info': {'직업': '배우', '생년월일': '1971-03-03', '성별': '남자', '홈페이지': 'https://www.instagram.com/madongseok'}, 'actor_details': {'생년월일': '1971-03-03', '홈페이지': 'https://www.instagram.com/madongseok'}}\n",
      "{'_id': ObjectId('5a0ae08481f6402f8ff056bd'), 'actor_rate': 42733, 'date': '2017-10', 'movie_list': ['범죄도시', '남한산성'], 'actor_name': '진선규', 'actor_info': {'직업': '배우', '생년월일': '1977-09-13', '성별': '남자'}}\n",
      "{'_id': ObjectId('5a0ae08481f6402f8ff056be'), 'actor_rate': 40181, 'date': '2017-10', 'movie_list': ['범죄도시', '발레 교습소', '죽여주는 여자'], 'actor_name': '윤계상', 'actor_info': {'다른 이름': '지오디;god', '직업': '배우', '생년월일': '1978-12-20', '성별': '남자', '홈페이지': 'https://www.facebook.com/saram.yoonkyesang\\nhttps://www.instagram.com/kyesang78/', '신장/체중': '182cm, 62kg', '학교': '경희대학교 포스트모던학과 휴학', '취미': '컴퓨터게임, 스노우보드', '특기': '표정연기, 춤추기'}}\n",
      "{'_id': ObjectId('5a0ae08481f6402f8ff056bf'), 'actor_rate': 37957, 'date': '2017-10', 'movie_list': ['범죄도시', '역모 - 반란의 시대'], 'actor_name': '조재윤', 'actor_info': {'직업': '배우', '생년월일': '1974-09-15', '성별': '남자', '홈페이지': 'https://www.instagram.com/jojaeyun/'}}\n",
      "{'_id': ObjectId('5a0ae08481f6402f8ff056c0'), 'actor_rate': 35754, 'date': '2017-10', 'movie_list': ['범죄도시', '택시운전사', '조작된 도시'], 'actor_name': '최귀화', 'actor_info': {'직업': '배우', '생년월일': '1978-03-03', '성별': '남자', '신장/체중': '181cm, 72kg'}}\n",
      "{'_id': ObjectId('5a0ae08481f6402f8ff056c1'), 'actor_rate': 33659, 'date': '2017-10', 'movie_list': ['남한산성', '범죄도시', '부라더'], 'actor_name': '허성태', 'actor_info': {'직업': '배우', '성별': '남자'}}\n",
      "{'_id': ObjectId('5a0ae08481f6402f8ff056c2'), 'actor_rate': 33487, 'date': '2017-10', 'movie_list': ['범죄도시', '이웃집 스타'], 'actor_name': '임형준', 'actor_info': {'직업': '배우', '생년월일': '1974-05-10', '성별': '남자', '신장/체중': '177cm, 71kg', '학교': '서울예술대학 연극과', '취미': '스쿼시, 피아노', '특기': '작곡, 노래', '소속사': '나무액터스'}}\n"
     ]
    }
   ],
   "source": [
    "for doc in actor_collection.find():\n",
    "    print(doc)"
   ]
  },
  {
   "cell_type": "markdown",
   "metadata": {},
   "source": [
    "## 8. mongoDB 인덱스(INDEX)\n",
    " - https://docs.mongodb.com/manual/indexes/\n",
    " - SQL index와 개념적으로 동일\n",
    " - 즉, 검색을 더 빠르게 수행하고자 만드는 추가적인 data structure\n",
    "   - index가 없으면 collection scan (컬렉션의 데이터를 하나하나 조회하는 방식) 으로 검색을 하게 됨"
   ]
  },
  {
   "cell_type": "markdown",
   "metadata": {},
   "source": [
    "* Document의 필드들에 index 를 걸면, 데이터의 설정한 키 값을 가지고 document들을 가리키는 포인터 값으로 이뤄진 B-Tree 데이터 구조를 만듬\n",
    "  - B-Tree : Balanced Binary search Tree, Binary Search (이진 검색) 으로 쿼리 속도를 검색 속도 개선"
   ]
  },
  {
   "cell_type": "code",
   "execution_count": null,
   "metadata": {
    "collapsed": true,
    "scrolled": true
   },
   "outputs": [],
   "source": []
  },
  {
   "cell_type": "markdown",
   "metadata": {},
   "source": [
    "### 8.1. 기본 인덱스 _id\n",
    "* 모든 MongoDB의 컬렉션은 기본적으로 _id 필드에 인덱스가 존재\n",
    "* mongodb는 _id 를 기반으로 기본 인덱스 생성"
   ]
  },
  {
   "cell_type": "markdown",
   "metadata": {},
   "source": [
    "### 8.2. Single(단일) 필드 인덱스\n",
    "* _id 인덱스 외에도, 사용자가 지정 할 수 있는 단일 필드 인덱스\n",
    "* 기본 사용 문법(mongodb CLI): db.COLLECTION.createIndex( { 'field': 1 } ) 또는 db.COLLECTION.createIndex( { 'field': -1 } )\n",
    "  - 키의 값에는 1, -1 둘중의 하나가 올 수 있음\n",
    "  - 1 : 순방향(ASCENDING), -1 : 역방향(DESCENDING)"
   ]
  },
  {
   "cell_type": "markdown",
   "metadata": {},
   "source": [
    "### 8.3. Compound (복합)  필드 인덱스\n",
    "* 두개 이상의 필드를 사용하는 인덱스를 복합 인덱스라고 부름\n",
    "* 기본 사용 문법(mongodb CLI): db.COLLECTION.createIndex( { 'field1': 1, 'field2': -1} )\n",
    "* 인덱스 방향이 성능에 영향을 미침\n",
    "  - createIndex({a : 1, b : -1})로 생성한 경우\n",
    "  - db.x.find({a : 1, b : -1}), db.x.find({a : -1, b : 1}) 의 쿼리만 효과를 봄\n",
    "  - db.x.find({a : 1, b : 1}), db.x.find({a : -1, b : -1}) 의 쿼리는 효과 없음\n",
    "* 복합 인덱스의 경우 필드의 개수가 31개를 넘을 수 없음"
   ]
  },
  {
   "cell_type": "markdown",
   "metadata": {},
   "source": [
    "### 8.4. Text 인덱스\n",
    "* 텍스트 관련 데이터를 효율적으로 쿼리하기 위한 인덱스\n",
    "* 기본 사용 문법(mongodb CLI): db.COLLECTION.createIndex( { 'field' : 'text' } )"
   ]
  },
  {
   "cell_type": "markdown",
   "metadata": {},
   "source": [
    "#### pymongo에서는 create_index() 메서드를 제공함"
   ]
  },
  {
   "cell_type": "markdown",
   "metadata": {},
   "source": [
    "### 8.5. 코드로 작성해보면서 이해하는 인덱스"
   ]
  },
  {
   "cell_type": "code",
   "execution_count": 2,
   "metadata": {
    "collapsed": true,
    "scrolled": true
   },
   "outputs": [],
   "source": [
    "import pymongo"
   ]
  },
  {
   "cell_type": "code",
   "execution_count": 3,
   "metadata": {
    "collapsed": true,
    "scrolled": true
   },
   "outputs": [],
   "source": [
    "username = 'davelee'\n",
    "password = 'korea123'\n",
    "connection = pymongo.MongoClient('mongodb://%s:%s@www.funcoding.xyz' % (username, password))\n",
    "db = connection.test_index_db"
   ]
  },
  {
   "cell_type": "code",
   "execution_count": 6,
   "metadata": {
    "scrolled": true
   },
   "outputs": [
    {
     "data": {
      "text/plain": [
       "['articles']"
      ]
     },
     "execution_count": 6,
     "metadata": {},
     "output_type": "execute_result"
    }
   ],
   "source": [
    "# test_index_db 에는 어떤 컬렉션이 있을까?\n",
    "db.collection_names()"
   ]
  },
  {
   "cell_type": "code",
   "execution_count": 10,
   "metadata": {
    "scrolled": true
   },
   "outputs": [
    {
     "data": {
      "text/plain": [
       "<pymongo.results.InsertManyResult at 0x1069a1e48>"
      ]
     },
     "execution_count": 10,
     "metadata": {},
     "output_type": "execute_result"
    }
   ],
   "source": [
    "# test data 삽입\n",
    "db.articles.insert_many(\n",
    "    [\n",
    "        { \"name\": \"Java Hut\", \"description\": \"Coffee and cakes\", \"ranking\": 1 },\n",
    "        { \"name\": \"Burger Buns\", \"description\": \"Java hamburgers\", \"ranking\": 2 },\n",
    "        { \"name\": \"Coffee Shop\", \"description\": \"Just coffee\", \"ranking\": 3 },\n",
    "        { \"name\": \"Clothes Clothes Clothes\", \"description\": \"Discount clothing\", \"ranking\": 4 },\n",
    "        { \"name\": \"Java Shopping\", \"description\": \"Indonesian goods\", \"ranking\": 5 }\n",
    "    ]\n",
    ")"
   ]
  },
  {
   "cell_type": "code",
   "execution_count": 9,
   "metadata": {
    "collapsed": true,
    "scrolled": true
   },
   "outputs": [],
   "source": [
    "db.articles.drop()"
   ]
  },
  {
   "cell_type": "markdown",
   "metadata": {},
   "source": [
    "### 8.6. Single(단일) 필드 인덱스 생성 with pymongo"
   ]
  },
  {
   "cell_type": "code",
   "execution_count": 11,
   "metadata": {
    "scrolled": true
   },
   "outputs": [
    {
     "data": {
      "text/plain": [
       "'ranking_1'"
      ]
     },
     "execution_count": 11,
     "metadata": {},
     "output_type": "execute_result"
    }
   ],
   "source": [
    "# text 인덱스 생성 \n",
    "db.articles.create_index('ranking')"
   ]
  },
  {
   "cell_type": "code",
   "execution_count": 12,
   "metadata": {
    "scrolled": true
   },
   "outputs": [
    {
     "data": {
      "text/plain": [
       "{'_id_': {'key': [('_id', 1)], 'ns': 'test_index_db.articles', 'v': 2},\n",
       " 'ranking_1': {'key': [('ranking', 1)],\n",
       "  'ns': 'test_index_db.articles',\n",
       "  'v': 2}}"
      ]
     },
     "execution_count": 12,
     "metadata": {},
     "output_type": "execute_result"
    }
   ],
   "source": [
    "# text 인덱스 확인\n",
    "db.articles.index_information()"
   ]
  },
  {
   "cell_type": "markdown",
   "metadata": {},
   "source": [
    "- \"key\" which is a list of (key, direction) pairs specifying the index (as passed to create_index()).\n",
    "- _id 는 기본 인덱스로 설정, 1 은 pymongo.ASCENDING\n",
    "- subject 는 create_index() 로 만들어진 인덱스\n",
    "  - 키의 1, -1, 'text' 알아보기\n",
    "    - pymongo.ASCENDING = 1\n",
    "    - pymongo.DESCENDING = -1\n",
    "    - pymongo.TEXT = 'text'"
   ]
  },
  {
   "cell_type": "markdown",
   "metadata": {},
   "source": [
    "### 8.7. 특정 인덱스 삭제 with pymongo"
   ]
  },
  {
   "cell_type": "code",
   "execution_count": 13,
   "metadata": {
    "collapsed": true,
    "scrolled": true
   },
   "outputs": [],
   "source": [
    "# index_information() 에 넣어진 'key'의 값을 통째로 정확하게 적어야 삭제 가능\n",
    "db.articles.drop_index([('ranking', 1)])"
   ]
  },
  {
   "cell_type": "code",
   "execution_count": 14,
   "metadata": {
    "scrolled": true
   },
   "outputs": [
    {
     "data": {
      "text/plain": [
       "{'_id_': {'key': [('_id', 1)], 'ns': 'test_index_db.articles', 'v': 2},\n",
       " 'ranking_-1': {'key': [('ranking', -1)],\n",
       "  'ns': 'test_index_db.articles',\n",
       "  'v': 2}}"
      ]
     },
     "execution_count": 14,
     "metadata": {},
     "output_type": "execute_result"
    }
   ],
   "source": [
    "# text 인덱스 다시 생성 \n",
    "db.articles.create_index([('ranking', pymongo.DESCENDING)])\n",
    "db.articles.index_information()"
   ]
  },
  {
   "cell_type": "markdown",
   "metadata": {},
   "source": [
    "### 8.8. 전체 인덱스 삭제 with pymongo"
   ]
  },
  {
   "cell_type": "code",
   "execution_count": 15,
   "metadata": {
    "collapsed": true,
    "scrolled": true
   },
   "outputs": [],
   "source": [
    "# index_information() 에 넣어진 'key'의 값을 통째로 정확하게 적어야 삭제 가능\n",
    "db.articles.drop_indexes()"
   ]
  },
  {
   "cell_type": "code",
   "execution_count": 16,
   "metadata": {
    "scrolled": true
   },
   "outputs": [
    {
     "data": {
      "text/plain": [
       "{'_id_': {'key': [('_id', 1)], 'ns': 'test_index_db.articles', 'v': 2}}"
      ]
     },
     "execution_count": 16,
     "metadata": {},
     "output_type": "execute_result"
    }
   ],
   "source": [
    "db.articles.index_information()"
   ]
  },
  {
   "cell_type": "markdown",
   "metadata": {},
   "source": [
    "### 8.9. Text 인덱스 생성 with pymongo"
   ]
  },
  {
   "cell_type": "code",
   "execution_count": 17,
   "metadata": {
    "scrolled": true
   },
   "outputs": [
    {
     "data": {
      "text/plain": [
       "'name_text'"
      ]
     },
     "execution_count": 17,
     "metadata": {},
     "output_type": "execute_result"
    }
   ],
   "source": [
    "db.articles.create_index([('name', pymongo.TEXT)])"
   ]
  },
  {
   "cell_type": "code",
   "execution_count": 18,
   "metadata": {
    "scrolled": false
   },
   "outputs": [
    {
     "data": {
      "text/plain": [
       "{'_id_': {'key': [('_id', 1)], 'ns': 'test_index_db.articles', 'v': 2},\n",
       " 'name_text': {'default_language': 'english',\n",
       "  'key': [('_fts', 'text'), ('_ftsx', 1)],\n",
       "  'language_override': 'language',\n",
       "  'ns': 'test_index_db.articles',\n",
       "  'textIndexVersion': 3,\n",
       "  'v': 2,\n",
       "  'weights': SON([('name', 1)])}}"
      ]
     },
     "execution_count": 18,
     "metadata": {},
     "output_type": "execute_result"
    }
   ],
   "source": [
    "db.articles.index_information()"
   ]
  },
  {
   "cell_type": "code",
   "execution_count": 19,
   "metadata": {
    "collapsed": true,
    "scrolled": true
   },
   "outputs": [],
   "source": [
    "db.articles.drop_indexes()"
   ]
  },
  {
   "cell_type": "markdown",
   "metadata": {},
   "source": [
    "### 8.10. Compound (복합)  필드 인덱스 생성 with pymongo"
   ]
  },
  {
   "cell_type": "code",
   "execution_count": 20,
   "metadata": {
    "scrolled": true
   },
   "outputs": [
    {
     "data": {
      "text/plain": [
       "'name_text_ranking_1'"
      ]
     },
     "execution_count": 20,
     "metadata": {},
     "output_type": "execute_result"
    }
   ],
   "source": [
    "db.articles.create_index([('name', pymongo.TEXT), ('ranking', pymongo.ASCENDING)])"
   ]
  },
  {
   "cell_type": "code",
   "execution_count": 21,
   "metadata": {
    "scrolled": true
   },
   "outputs": [
    {
     "data": {
      "text/plain": [
       "{'_id_': {'key': [('_id', 1)], 'ns': 'test_index_db.articles', 'v': 2},\n",
       " 'name_text_ranking_1': {'default_language': 'english',\n",
       "  'key': [('_fts', 'text'), ('_ftsx', 1), ('ranking', 1)],\n",
       "  'language_override': 'language',\n",
       "  'ns': 'test_index_db.articles',\n",
       "  'textIndexVersion': 3,\n",
       "  'v': 2,\n",
       "  'weights': SON([('name', 1)])}}"
      ]
     },
     "execution_count": 21,
     "metadata": {},
     "output_type": "execute_result"
    }
   ],
   "source": [
    "db.articles.index_information()"
   ]
  },
  {
   "cell_type": "markdown",
   "metadata": {},
   "source": [
    "- name_text_ranking_1 : 복합 인덱스는 복합 컬럼으로 검색할 경우에만 의미가 있고, 검색 형태에 따라 성능 개선의 효과가 있을 수도/없을 수도 있음\n",
    "  - createIndex({a : 1, b : -1})로 생성한 경우\n",
    "    - db.x.find({a : 1, b : -1}), db.x.find({a : -1, b : 1}) 의 쿼리만 효과를 봄\n",
    "    - db.x.find({a : 1, b : 1}), db.x.find({a : -1, b : -1}) 의 쿼리는 효과 없음"
   ]
  },
  {
   "cell_type": "code",
   "execution_count": 22,
   "metadata": {
    "collapsed": true,
    "scrolled": true
   },
   "outputs": [],
   "source": [
    "db.articles.drop_indexes()"
   ]
  },
  {
   "cell_type": "markdown",
   "metadata": {},
   "source": [
    "### 8.11. Text 인덱스와 검색 with pymongo"
   ]
  },
  {
   "cell_type": "code",
   "execution_count": 23,
   "metadata": {
    "scrolled": true
   },
   "outputs": [
    {
     "data": {
      "text/plain": [
       "'name_text'"
      ]
     },
     "execution_count": 23,
     "metadata": {},
     "output_type": "execute_result"
    }
   ],
   "source": [
    "db.articles.create_index([('name', pymongo.TEXT)])"
   ]
  },
  {
   "cell_type": "code",
   "execution_count": 24,
   "metadata": {
    "scrolled": true
   },
   "outputs": [
    {
     "name": "stdout",
     "output_type": "stream",
     "text": [
      "{'_id': ObjectId('5a0c189581f640052dfee6b0'), 'name': 'Java Hut', 'description': 'Coffee and cakes', 'ranking': 1}\n",
      "{'_id': ObjectId('5a0c189581f640052dfee6b1'), 'name': 'Burger Buns', 'description': 'Java hamburgers', 'ranking': 2}\n",
      "{'_id': ObjectId('5a0c189581f640052dfee6b2'), 'name': 'Coffee Shop', 'description': 'Just coffee', 'ranking': 3}\n",
      "{'_id': ObjectId('5a0c189581f640052dfee6b3'), 'name': 'Clothes Clothes Clothes', 'description': 'Discount clothing', 'ranking': 4}\n",
      "{'_id': ObjectId('5a0c189581f640052dfee6b4'), 'name': 'Java Shopping', 'description': 'Indonesian goods', 'ranking': 5}\n"
     ]
    }
   ],
   "source": [
    "result = db.articles.find()\n",
    "for record in result:\n",
    "    print(record)"
   ]
  },
  {
   "cell_type": "raw",
   "metadata": {},
   "source": [
    "- 인덱스 데이터에 대해, 텍스트 검색을 하기 위해, $text operator를 사용할 수 있음\n",
    "- $text operator는 인덱스 텍스트 데이터를 스페이스와 구두점(. ,등)으로 텍스트를 구분하고, 각 텍스트를 OR 로 검색\n",
    "- 기본적으로 대소문자 구별하지 않음\n",
    "- name 컬럼이 pymongo.TEXT 로 인덱싱되어, $text operator 로 검색시 name 컬럼만 검색"
   ]
  },
  {
   "cell_type": "code",
   "execution_count": 25,
   "metadata": {
    "scrolled": true
   },
   "outputs": [
    {
     "name": "stdout",
     "output_type": "stream",
     "text": [
      "{'_id': ObjectId('5a0c189581f640052dfee6b2'), 'name': 'Coffee Shop', 'description': 'Just coffee', 'ranking': 3}\n"
     ]
    }
   ],
   "source": [
    "# $text operator를 사용한 인덱스 텍스트 데이터 검색 ($text operator 는 $search operator 와 함께 사용됨)\n",
    "result = db.articles.find({'$text' : {'$search' : 'coffee'}})\n",
    "for record in result:\n",
    "    print(record)"
   ]
  },
  {
   "cell_type": "code",
   "execution_count": 26,
   "metadata": {
    "scrolled": true
   },
   "outputs": [
    {
     "name": "stdout",
     "output_type": "stream",
     "text": [
      "{'_id': ObjectId('5a0c189581f640052dfee6b0'), 'name': 'Java Hut', 'description': 'Coffee and cakes', 'ranking': 1}\n",
      "{'_id': ObjectId('5a0c189581f640052dfee6b4'), 'name': 'Java Shopping', 'description': 'Indonesian goods', 'ranking': 5}\n",
      "{'_id': ObjectId('5a0c189581f640052dfee6b2'), 'name': 'Coffee Shop', 'description': 'Just coffee', 'ranking': 3}\n"
     ]
    }
   ],
   "source": [
    "# 띄어쓰기가 있는 경우\n",
    "result = db.articles.find({'$text' : {'$search' : 'java coffee shop'}})\n",
    "for record in result:\n",
    "    print(record)"
   ]
  },
  {
   "cell_type": "code",
   "execution_count": 27,
   "metadata": {
    "scrolled": true
   },
   "outputs": [
    {
     "name": "stdout",
     "output_type": "stream",
     "text": [
      "{'_id': ObjectId('5a0c189581f640052dfee6b2'), 'name': 'Coffee Shop', 'description': 'Just coffee', 'ranking': 3}\n"
     ]
    }
   ],
   "source": [
    "# coffee shop 으로 정확한 검색\n",
    "result = db.articles.find({'$text': {'$search':\"\\\"coffee shop\\\"\" } } )\n",
    "for record in result:\n",
    "    print(record)"
   ]
  },
  {
   "cell_type": "code",
   "execution_count": 28,
   "metadata": {
    "collapsed": true,
    "scrolled": true
   },
   "outputs": [],
   "source": [
    "# 대소문자 구별 (실제 name의 컬럼값은 Coffee 이므로, 검색이 안됨)\n",
    "result = db.articles.find({'$text' : {'$search' : 'coffee', '$caseSensitive' : True}})\n",
    "for record in result:\n",
    "    print(record)"
   ]
  },
  {
   "cell_type": "code",
   "execution_count": 31,
   "metadata": {
    "scrolled": true
   },
   "outputs": [
    {
     "name": "stdout",
     "output_type": "stream",
     "text": [
      "{'_id': ObjectId('5a0c189581f640052dfee6b2'), 'name': 'Coffee Shop', 'description': 'Just coffee', 'ranking': 3}\n"
     ]
    }
   ],
   "source": [
    "# 정규표현식 ($text operator 는 $search operator 와 함께 사용됨)\n",
    "result = db.articles.find({'name' : {'$regex' : 'Cof.+'}})\n",
    "for record in result:\n",
    "    print(record)"
   ]
  },
  {
   "cell_type": "code",
   "execution_count": 30,
   "metadata": {
    "scrolled": true
   },
   "outputs": [
    {
     "name": "stdout",
     "output_type": "stream",
     "text": [
      "{'_id': ObjectId('5a0c189581f640052dfee6b2'), 'name': 'Coffee Shop', 'description': 'Just coffee', 'ranking': 3}\n"
     ]
    }
   ],
   "source": [
    "# 정규표현식, 실제 컬럼명과 함께 사용 가능 ($text operator 는 $search operator 와 함께 사용됨)\n",
    "result = db.articles.find({'name' : {'$regex' : 'Cof.+'}})\n",
    "for record in result:\n",
    "    print(record)"
   ]
  }
 ],
 "metadata": {
  "kernelspec": {
   "display_name": "Python 3",
   "language": "python",
   "name": "python3"
  },
  "language_info": {
   "codemirror_mode": {
    "name": "ipython",
    "version": 3
   },
   "file_extension": ".py",
   "mimetype": "text/x-python",
   "name": "python",
   "nbconvert_exporter": "python",
   "pygments_lexer": "ipython3",
   "version": "3.7.2"
  },
  "nbTranslate": {
   "displayLangs": [
    "*"
   ],
   "hotkey": "alt-t",
   "langInMainMenu": true,
   "sourceLang": "en",
   "targetLang": "fr",
   "useGoogleTranslate": true
  }
 },
 "nbformat": 4,
 "nbformat_minor": 1
}
