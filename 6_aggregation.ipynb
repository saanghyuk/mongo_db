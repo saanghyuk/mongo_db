{
 "cells": [
  {
   "cell_type": "markdown",
   "id": "c2329648",
   "metadata": {},
   "source": [
    "json file import \n",
    "\n",
    "\n",
    "`mongoimport --db nosql --collection anz --jsonArray  --file anz.json`"
   ]
  },
  {
   "cell_type": "code",
   "execution_count": null,
   "id": "ff485581",
   "metadata": {},
   "outputs": [],
   "source": []
  },
  {
   "cell_type": "markdown",
   "id": "53f5ac51",
   "metadata": {},
   "source": [
    "[MongoDB Lecture in Youtube](https://www.youtube.com/watch?v=s44QWegr2l8&list=PLWkguCWKqN9OwcbdYm4nUIXnA2IoXX0LI&index=2)"
   ]
  },
  {
   "cell_type": "markdown",
   "id": "69e322b0",
   "metadata": {},
   "source": [
    "```\n",
    "db.<collection>.aggregate([\n",
    "    <stage1>,\n",
    "    <stage2>,\n",
    "    <stage3>,\n",
    "    \n",
    "    <stageN>\n",
    "])\n",
    "```"
   ]
  },
  {
   "cell_type": "markdown",
   "id": "9be87d65",
   "metadata": {},
   "source": [
    "#### Server returns a cursor"
   ]
  },
  {
   "cell_type": "code",
   "execution_count": null,
   "id": "a337cdd2",
   "metadata": {},
   "outputs": [],
   "source": [
    "show collections\n",
    "db.persons.aggregate([])"
   ]
  },
  {
   "cell_type": "markdown",
   "id": "6564c874",
   "metadata": {},
   "source": [
    "Each stage input documents, output documents <br>\n",
    "Stages are independent"
   ]
  },
  {
   "cell_type": "markdown",
   "id": "e8619272",
   "metadata": {},
   "source": [
    "- Each stage starts from the stage operator\n",
    "`{$<stageOperator> : {}}``\n",
    "    - example\n",
    "        - `{$match : {age : {$gt : 20}}}`\n",
    "        - `{$group : {_id : \"$age\"}}`\n",
    "        - `{$sort : {count : -1}}`"
   ]
  },
  {
   "cell_type": "code",
   "execution_count": null,
   "id": "9543b0ae",
   "metadata": {},
   "outputs": [],
   "source": []
  },
  {
   "cell_type": "markdown",
   "id": "1580410c",
   "metadata": {},
   "source": [
    "Expression refers to the name of the field in input document\n",
    "- `\"$<fieldname>\"`"
   ]
  },
  {
   "cell_type": "code",
   "execution_count": null,
   "id": "a173149c",
   "metadata": {},
   "outputs": [],
   "source": []
  },
  {
   "cell_type": "markdown",
   "id": "5b9f7b53",
   "metadata": {},
   "source": [
    "### Match stage"
   ]
  },
  {
   "cell_type": "markdown",
   "id": "07c8cded",
   "metadata": {},
   "source": [
    "match uses standard MongoDB queries and supports all query operators"
   ]
  },
  {
   "cell_type": "markdown",
   "id": "9d602090",
   "metadata": {},
   "source": [
    "`{$match : {<query>}}`\n"
   ]
  },
  {
   "cell_type": "code",
   "execution_count": null,
   "id": "8edbda74",
   "metadata": {},
   "outputs": [],
   "source": [
    "db.persons.aggregate([\n",
    "    {$match : {age: {$gt:25}}}\n",
    "])"
   ]
  },
  {
   "cell_type": "code",
   "execution_count": null,
   "id": "b5fd9f4e",
   "metadata": {},
   "outputs": [],
   "source": [
    "db.persons.aggregate([\n",
    "    {$match : {isActive: true}}\n",
    "])"
   ]
  },
  {
   "cell_type": "markdown",
   "id": "7e9dfd9f",
   "metadata": {},
   "source": [
    "하단 두 쿼리는 결과가 완전히 동일하다."
   ]
  },
  {
   "cell_type": "code",
   "execution_count": null,
   "id": "36c44e43",
   "metadata": {},
   "outputs": [],
   "source": [
    "db.persons.aggregate([\n",
    "    {$match : {tags: {$size : 3}}}\n",
    "])\n",
    "\n",
    "db.getCollection('persons').find({tags: {$size : 3}})"
   ]
  },
  {
   "cell_type": "code",
   "execution_count": null,
   "id": "9c45ca06",
   "metadata": {},
   "outputs": [],
   "source": []
  },
  {
   "cell_type": "code",
   "execution_count": null,
   "id": "894e26f6",
   "metadata": {},
   "outputs": [],
   "source": []
  },
  {
   "cell_type": "markdown",
   "id": "027ff438",
   "metadata": {},
   "source": [
    "### Group Stage"
   ]
  },
  {
   "cell_type": "markdown",
   "id": "92e1c57d",
   "metadata": {},
   "source": [
    "Groups input documents by certain expressions\n",
    "- `{$group : {_id : <expression>, <field1> : {\n",
    "    <accumulator1>: ,<expression1>}\n",
    "    }`"
   ]
  },
  {
   "cell_type": "markdown",
   "id": "73ed849a",
   "metadata": {},
   "source": [
    "- `\n",
    "{$group : {_id : \"$age\"}}\n",
    "` : Find all distinct of age values. produce new set of document. each document will have just one field\n",
    "\n",
    "- `{$group : {_id : \"$age\", gender:\"$gender\"}}`"
   ]
  },
  {
   "cell_type": "code",
   "execution_count": null,
   "id": "8851ed9a",
   "metadata": {},
   "outputs": [],
   "source": [
    "db.persons.aggregate([\n",
    "    {$group : {_id : \"$age\"}}\n",
    "])"
   ]
  },
  {
   "cell_type": "markdown",
   "id": "a173efa0",
   "metadata": {},
   "source": [
    "**group by nested field**"
   ]
  },
  {
   "cell_type": "markdown",
   "id": "08ee0aac",
   "metadata": {},
   "source": [
    "can use same as above. "
   ]
  },
  {
   "cell_type": "markdown",
   "id": "2a81f7f2",
   "metadata": {},
   "source": [
    "`db.persons.aggregate([\n",
    "    {$group : {_id : \"$company\"}}\n",
    "])\n",
    "`"
   ]
  },
  {
   "cell_type": "markdown",
   "id": "4912b8e0",
   "metadata": {},
   "source": [
    "`db.persons.aggregate([\n",
    "    {$group : {_id : \"$company.location.country\"}}\n",
    "])\n",
    "`"
   ]
  },
  {
   "cell_type": "markdown",
   "id": "f95dca19",
   "metadata": {},
   "source": [
    "`db.persons.aggregate([\n",
    "    {$group : {_id : \"$company.location\"}}\n",
    "])\n",
    "`"
   ]
  },
  {
   "cell_type": "code",
   "execution_count": null,
   "id": "1f075465",
   "metadata": {},
   "outputs": [],
   "source": []
  },
  {
   "cell_type": "markdown",
   "id": "8f126fb6",
   "metadata": {},
   "source": [
    "**group by several fields**\n",
    "- all posible combinations"
   ]
  },
  {
   "cell_type": "markdown",
   "id": "e1f6ad51",
   "metadata": {},
   "source": [
    "`db.persons.aggregate([\n",
    "    { $group : { _id : {age:\"$age\", gender:\"$gender\"}}}\n",
    "])`"
   ]
  },
  {
   "cell_type": "markdown",
   "id": "6793d1be",
   "metadata": {},
   "source": [
    "`db.persons.aggregate([\n",
    "    { $group : { _id : {eyeColor:\"$eyeColor\", favoriteFruit:\"$favoriteFruit\"}}}\n",
    "])`"
   ]
  },
  {
   "cell_type": "code",
   "execution_count": null,
   "id": "5dc8fff6",
   "metadata": {},
   "outputs": [],
   "source": []
  },
  {
   "cell_type": "markdown",
   "id": "d6b822aa",
   "metadata": {},
   "source": [
    "#### `$`match and `$`group"
   ]
  },
  {
   "cell_type": "markdown",
   "id": "fe5112d3",
   "metadata": {},
   "source": [
    "`db.persons.aggregate([\n",
    "    //stage 1\n",
    "    {$match : {favoriteFruit: \"banana\"}}, \n",
    "    // stage 2\n",
    "    { $group : { _id : {age:\"$age\", eyeColor:\"$eyeColor\"}}}\n",
    "])`"
   ]
  },
  {
   "cell_type": "markdown",
   "id": "09451c51",
   "metadata": {},
   "source": [
    "`db.persons.aggregate([\n",
    "    {$match : {gender: \"female\"}}, \n",
    "    { $group : { _id : {age:\"$age\", eyeColor:\"$eyeColor\"}}}\n",
    "])`"
   ]
  },
  {
   "cell_type": "markdown",
   "id": "c325fdf3",
   "metadata": {},
   "source": [
    "`db.persons.aggregate([\n",
    "    {$match : {gender: \"female\"}}, \n",
    "    { $group : { _id : {age:\"$age\", eyeColor:\"$eyeColor\", gender: \"$gender\"}}}\n",
    "])`"
   ]
  },
  {
   "cell_type": "code",
   "execution_count": null,
   "id": "51396603",
   "metadata": {},
   "outputs": [],
   "source": []
  },
  {
   "cell_type": "markdown",
   "id": "a54238bf",
   "metadata": {},
   "source": [
    "아래는 stage순서를 바꾼 상태. "
   ]
  },
  {
   "cell_type": "markdown",
   "id": "ba810c0d",
   "metadata": {},
   "source": [
    "`db.persons.aggregate([ \n",
    "    { $group : { _id : {age:\"$age\", eyeColor:\"$eyeColor\"}}},\n",
    "    { $match : {favoriteFruit: \"banana\"}}\n",
    "])`"
   ]
  },
  {
   "cell_type": "markdown",
   "id": "d6ec6f5b",
   "metadata": {},
   "source": [
    "첫번째에서 group을 먼저 하면, 애초에 favoriteFruit라는 컬럼이 없다. fetch 0"
   ]
  },
  {
   "cell_type": "markdown",
   "id": "5a87b4ef",
   "metadata": {},
   "source": [
    "아래처럼 하면 결과 나오겠지. "
   ]
  },
  {
   "cell_type": "markdown",
   "id": "d48a5e14",
   "metadata": {},
   "source": [
    "`\n",
    "db.persons.aggregate([ \n",
    "    { $group : { _id : {age:\"$age\", eyeColor:\"$eyeColor\"}}},\n",
    "    { $match : {\"_id.age\":{$gt:30}}}\n",
    "])\n",
    "`"
   ]
  },
  {
   "cell_type": "markdown",
   "id": "f901f936",
   "metadata": {},
   "source": [
    "`\n",
    "db.persons.aggregate([ \n",
    "    { $group : { _id : {age:\"$age\", eyeColor:\"$eyeColor\"}}},\n",
    "    { $match : {\"_id.eyeColor\":\"blue\"}}\n",
    "])\n",
    "`"
   ]
  },
  {
   "cell_type": "code",
   "execution_count": null,
   "id": "4c7978d3",
   "metadata": {},
   "outputs": [],
   "source": []
  },
  {
   "cell_type": "markdown",
   "id": "a4ffbe10",
   "metadata": {},
   "source": [
    "### Count"
   ]
  },
  {
   "cell_type": "markdown",
   "id": "772ec0fd",
   "metadata": {},
   "source": [
    "$count Stage"
   ]
  },
  {
   "cell_type": "markdown",
   "id": "0000181e",
   "metadata": {},
   "source": [
    "- counts number of the input documents"
   ]
  },
  {
   "cell_type": "code",
   "execution_count": null,
   "id": "c1de0522",
   "metadata": {},
   "outputs": [],
   "source": [
    "{$count: \"countries\"}"
   ]
  },
  {
   "cell_type": "code",
   "execution_count": null,
   "id": "ddb2b750",
   "metadata": {},
   "outputs": [],
   "source": [
    "# 예약어\n",
    "\n",
    "# Server-side Count\n",
    "\n",
    "db.persons.aggregate([ \n",
    "    {$count : \"allDocumentsCount\"}\n",
    "])\n",
    "\n",
    "db.persons.aggregate([\n",
    "    {$count: \"total\"}\n",
    "])\n",
    "\n",
    "db.persons.find({}).count() # Find Count() is wrapper of the Areggate $count"
   ]
  },
  {
   "cell_type": "code",
   "execution_count": null,
   "id": "55fd90fc",
   "metadata": {},
   "outputs": [],
   "source": [
    "# 아래 같은 자바스크립트 명령이 가능함.\n",
    "# client-side count\n",
    "\n",
    "db.persons.aggregate([]).toArray().length"
   ]
  },
  {
   "cell_type": "code",
   "execution_count": null,
   "id": "6ff20099",
   "metadata": {},
   "outputs": [],
   "source": [
    "# client-side count\n",
    "\n",
    "db.persons.aggregate([]).itcount()"
   ]
  },
  {
   "cell_type": "markdown",
   "id": "a96513d7",
   "metadata": {},
   "source": [
    "db.persons.find({}).count()"
   ]
  },
  {
   "cell_type": "code",
   "execution_count": null,
   "id": "0d55e1c3",
   "metadata": {},
   "outputs": [],
   "source": []
  },
  {
   "cell_type": "code",
   "execution_count": null,
   "id": "ed57edc3",
   "metadata": {},
   "outputs": [],
   "source": [
    "# countriesCount는 column명\n",
    "\n",
    "db.persons.aggregate([\n",
    "    {$group : {_id : \"$company.location\"}},\n",
    "    {$count: \"countriesCount\"}\n",
    "])"
   ]
  },
  {
   "cell_type": "code",
   "execution_count": null,
   "id": "6e3fcb76",
   "metadata": {},
   "outputs": [],
   "source": [
    "db.persons.aggregate([\n",
    "    {$group : {_id : \"$eyeColor\"}},\n",
    "    {$count: \"eyeColor\"}\n",
    "])"
   ]
  },
  {
   "cell_type": "code",
   "execution_count": null,
   "id": "e88ab66e",
   "metadata": {},
   "outputs": [],
   "source": [
    "db.persons.aggregate([\n",
    "    {$group : {_id : {eyeColor:\"$eyeColor\", gender:\"$gender\"}}},\n",
    "    {$count: \"eyeColorAndgender\"}\n",
    "])"
   ]
  },
  {
   "cell_type": "code",
   "execution_count": null,
   "id": "9b3dd451",
   "metadata": {},
   "outputs": [],
   "source": [
    "db.persons.aggregate([\n",
    "    {$match : { age : {$gte:25}}},\n",
    "    {$group : {_id : {eyeColor:\"$eyeColor\", gender:\"$gender\"}}},\n",
    "    {$count: \"eyeColorAndgender\"}\n",
    "])"
   ]
  },
  {
   "cell_type": "code",
   "execution_count": null,
   "id": "b66b1351",
   "metadata": {},
   "outputs": [],
   "source": []
  },
  {
   "cell_type": "code",
   "execution_count": null,
   "id": "f19197bd",
   "metadata": {},
   "outputs": [],
   "source": []
  },
  {
   "cell_type": "markdown",
   "id": "a4ab4af4",
   "metadata": {},
   "source": [
    "\n",
    "### $sort Stage"
   ]
  },
  {
   "cell_type": "code",
   "execution_count": null,
   "id": "c2301b3e",
   "metadata": {},
   "outputs": [],
   "source": [
    "# descending order\n",
    "$sort : {score : -1} \n",
    "    \n",
    "# age ascending order, and country ascending order\n",
    "$sort : {age : 1, country: 1 } "
   ]
  },
  {
   "cell_type": "code",
   "execution_count": null,
   "id": "bd840fd8",
   "metadata": {},
   "outputs": [],
   "source": [
    "db.persons.aggregate([\n",
    "    {$sort : {name:1}}\n",
    "])"
   ]
  },
  {
   "cell_type": "code",
   "execution_count": null,
   "id": "bad83d17",
   "metadata": {},
   "outputs": [],
   "source": [
    "db.persons.aggregate([\n",
    "    {$sort : {age:1}}\n",
    "])"
   ]
  },
  {
   "cell_type": "code",
   "execution_count": null,
   "id": "ff49e638",
   "metadata": {},
   "outputs": [],
   "source": [
    "db.persons.aggregate([\n",
    "    {$sort : {age:-1}}\n",
    "])"
   ]
  },
  {
   "cell_type": "code",
   "execution_count": null,
   "id": "ae59291d",
   "metadata": {},
   "outputs": [],
   "source": [
    "db.persons.aggregate([\n",
    "    {$sort : {age:-1, gender:-1, eyeColor:1}}\n",
    "])"
   ]
  },
  {
   "cell_type": "code",
   "execution_count": null,
   "id": "95872cc2",
   "metadata": {},
   "outputs": [],
   "source": [
    "db.persons.aggregate([\n",
    "    {$group:{_id: \"$favoriteFruit\"}},\n",
    "    {$sort : {_id:1}}\n",
    "])"
   ]
  },
  {
   "cell_type": "code",
   "execution_count": null,
   "id": "76d31a10",
   "metadata": {},
   "outputs": [],
   "source": [
    "db.persons.aggregate([\n",
    "    {$group:{_id: \"$age\"}},\n",
    "    {$sort : {_id:1}}\n",
    "])"
   ]
  },
  {
   "cell_type": "code",
   "execution_count": null,
   "id": "ef3b55bc",
   "metadata": {},
   "outputs": [],
   "source": [
    "# alphabetical order\n",
    "db.persons.aggregate([\n",
    "    {$group:{_id: \"$eyeColor\"}},\n",
    "    {$sort : {_id:1}}\n",
    "])"
   ]
  },
  {
   "cell_type": "code",
   "execution_count": null,
   "id": "60f1eb8a",
   "metadata": {},
   "outputs": [],
   "source": [
    "db.persons.aggregate([\n",
    "    {$group:{_id: {eyeColor:\"$eyeColor\", favoriteFruit: \"$favoriteFruit\"}}},\n",
    "    {$sort : {\"_id.eyeColor\":1, \"_id.favoriteFruit\": -1}}\n",
    "])"
   ]
  },
  {
   "cell_type": "code",
   "execution_count": null,
   "id": "71c9b331",
   "metadata": {},
   "outputs": [],
   "source": [
    "db.persons.aggregate([\n",
    "    {$match: {eyeColor: {$ne : \"blue\"}}},\n",
    "    {$group:{_id: {eyeColor:\"$eyeColor\", favoriteFruit: \"$favoriteFruit\"}}},\n",
    "    {$sort : {\"_id.eyeColor\":1, \"_id.favoriteFruit\": -1}}\n",
    "])"
   ]
  },
  {
   "cell_type": "code",
   "execution_count": null,
   "id": "b6553224",
   "metadata": {},
   "outputs": [],
   "source": []
  },
  {
   "cell_type": "code",
   "execution_count": null,
   "id": "dba59e52",
   "metadata": {},
   "outputs": [],
   "source": []
  },
  {
   "cell_type": "markdown",
   "id": "fe14f445",
   "metadata": {},
   "source": [
    "### $project Stage"
   ]
  },
  {
   "cell_type": "markdown",
   "id": "c73e6d00",
   "metadata": {},
   "source": [
    "includes, exclues, or add new fields"
   ]
  },
  {
   "cell_type": "code",
   "execution_count": null,
   "id": "3f1ce1ed",
   "metadata": {},
   "outputs": [],
   "source": [
    "# _id, name, company.title\n",
    "{$project : {name : 1, \"company.title\":1}}\n",
    "\n",
    "# name, age\n",
    "{$projject : {_id:0, name:1, age:1}}\n",
    "\n",
    "# excludes, and others will be included\n",
    "{$projject : {eyeColor:0, age:0}}\n",
    "\n",
    "# _id, name, 그리고, age column will be renamed to newAge\n",
    "{$project : {name:1, newAge: \"$age\"}}"
   ]
  },
  {
   "cell_type": "code",
   "execution_count": null,
   "id": "e225e438",
   "metadata": {},
   "outputs": [],
   "source": []
  },
  {
   "cell_type": "code",
   "execution_count": null,
   "id": "7fb1d20f",
   "metadata": {},
   "outputs": [],
   "source": [
    "db.persons.aggregate([\n",
    "    {$project : {name:1, \"company.location.country\":1}}\n",
    "])"
   ]
  },
  {
   "cell_type": "code",
   "execution_count": null,
   "id": "578eff00",
   "metadata": {},
   "outputs": [],
   "source": [
    "db.persons.aggregate([\n",
    "    {$project : {isActive:1, name:1, gender:1}}, \n",
    "    {$count: \"total\"}\n",
    "])"
   ]
  },
  {
   "cell_type": "code",
   "execution_count": null,
   "id": "43b1d108",
   "metadata": {},
   "outputs": [],
   "source": [
    "db.persons.aggregate([\n",
    "    {$project : {_id:0, isActive:1, name:1, gender:1}}\n",
    "])"
   ]
  },
  {
   "cell_type": "markdown",
   "id": "8f77bbfe",
   "metadata": {},
   "source": [
    "아래처럼 하면 제외한 4개 빼고 다나옴. "
   ]
  },
  {
   "cell_type": "code",
   "execution_count": null,
   "id": "692b2c69",
   "metadata": {},
   "outputs": [],
   "source": [
    "db.persons.aggregate([\n",
    "    {$project : {isActive:0, name:0, gender:0}}\n",
    "])"
   ]
  },
  {
   "cell_type": "code",
   "execution_count": null,
   "id": "925739d8",
   "metadata": {},
   "outputs": [],
   "source": []
  },
  {
   "cell_type": "markdown",
   "id": "534e702c",
   "metadata": {},
   "source": [
    "rename도 가능. 구조 자체도 info 밑에 nested가 새로 생긴다. "
   ]
  },
  {
   "cell_type": "code",
   "execution_count": null,
   "id": "1928e321",
   "metadata": {},
   "outputs": [],
   "source": [
    "db.persons.aggregate([\n",
    "    { $project : {\n",
    "        _id : 0, \n",
    "         name: 1,\n",
    "        info:{\n",
    "                eyes: \"$eyeColor\",\n",
    "                fruit: \"$favoriteFruit\", \n",
    "                country: \"$company.location.country\"\n",
    "            } \n",
    "                }}\n",
    "])"
   ]
  },
  {
   "cell_type": "code",
   "execution_count": null,
   "id": "d3e80631",
   "metadata": {},
   "outputs": [],
   "source": []
  },
  {
   "cell_type": "markdown",
   "id": "3d85704d",
   "metadata": {},
   "source": [
    "### limit"
   ]
  },
  {
   "cell_type": "markdown",
   "id": "d0f06d3a",
   "metadata": {},
   "source": [
    "<pre>\n",
    "- sampled agregation requests with $limit as first state\n",
    "- after $sort to produce topNresults\n",
    "\n",
    "</pre>"
   ]
  },
  {
   "cell_type": "code",
   "execution_count": null,
   "id": "9e3f3036",
   "metadata": {},
   "outputs": [],
   "source": [
    "{$limit : 100}\n",
    "{$limit : 1000 }"
   ]
  },
  {
   "cell_type": "code",
   "execution_count": null,
   "id": "eecabb6b",
   "metadata": {},
   "outputs": [],
   "source": [
    "# 체크하는 속도를 엄청 올릴 수 있다.\n",
    "db.persons.aggregate([\n",
    "    {$limit : 100}, \n",
    "    {$match: {age:{$gt:27}}},\n",
    "    {$group : {_id:\"$company.location.country\"}}\n",
    "])"
   ]
  },
  {
   "cell_type": "code",
   "execution_count": null,
   "id": "3af80a93",
   "metadata": {},
   "outputs": [],
   "source": [
    "# 체크하는 속도를 엄청 올릴 수 있다.\n",
    "# to use sample aggregation request\n",
    "db.persons.aggregate([\n",
    "    {$limit : 100},\n",
    "    {$match : {eyeColor: {$ne: \"blue\"}}}, \n",
    "    {$group : {_id:{eyeColor:\"eyeColor\", favoriteFruit: \"$favoriteFruit\"}}},\n",
    "    {$sort : {\"_id.eyeColor\":1, \"_id.favoriteFruit\": -1}}\n",
    "])"
   ]
  },
  {
   "cell_type": "code",
   "execution_count": null,
   "id": "91b82df3",
   "metadata": {},
   "outputs": [],
   "source": []
  },
  {
   "cell_type": "code",
   "execution_count": null,
   "id": "301abd35",
   "metadata": {},
   "outputs": [],
   "source": [
    "db.persons.aggregate([\n",
    "    {$group : {_id : \"$tags\"}},\n",
    "\n",
    "])"
   ]
  },
  {
   "cell_type": "markdown",
   "id": "2fbaab8b",
   "metadata": {},
   "source": [
    "### unwind"
   ]
  },
  {
   "cell_type": "markdown",
   "id": "bbf086b2",
   "metadata": {},
   "source": [
    "이거는 상황 이해가 중요함. 아래 구조에서, 지금 tags하부에 있는 애들로 group by가 하고 싶은 상황."
   ]
  },
  {
   "cell_type": "markdown",
   "id": "b77b16aa",
   "metadata": {},
   "source": [
    "![2_7.png](./resources/2_7.png)"
   ]
  },
  {
   "cell_type": "markdown",
   "id": "994e6d7d",
   "metadata": {},
   "source": [
    "그래서 아래 명령어를 입력하면"
   ]
  },
  {
   "cell_type": "code",
   "execution_count": null,
   "id": "1c1d0980",
   "metadata": {},
   "outputs": [],
   "source": [
    "db.persons.aggregate([\n",
    "    {$group : {_id : \"$tags\"}},\n",
    "])"
   ]
  },
  {
   "cell_type": "markdown",
   "id": "8d4629b7",
   "metadata": {},
   "source": [
    "![2_8.png](./resources/2_8.png)"
   ]
  },
  {
   "cell_type": "markdown",
   "id": "7406870b",
   "metadata": {},
   "source": [
    "내가 원한 결과가 아님. "
   ]
  },
  {
   "cell_type": "code",
   "execution_count": null,
   "id": "2e9e468e",
   "metadata": {},
   "outputs": [],
   "source": []
  },
  {
   "cell_type": "markdown",
   "id": "541f66cb",
   "metadata": {},
   "source": [
    "<pre>\n",
    "{$unwind: <arrayReferenceExpression>}\n",
    "\n",
    "{$unwind: \"$tags\"}\n",
    "\n",
    "</pre>"
   ]
  },
  {
   "cell_type": "markdown",
   "id": "bc1a9d54",
   "metadata": {},
   "source": [
    "![2_9.png](./resources/2_9.png)"
   ]
  },
  {
   "cell_type": "markdown",
   "id": "6529d33c",
   "metadata": {},
   "source": [
    "document를 나눠준다. tags에 15개가 들어 있었으면, 15개로 나눠주는 것. "
   ]
  },
  {
   "cell_type": "code",
   "execution_count": null,
   "id": "7e823804",
   "metadata": {},
   "outputs": [],
   "source": []
  },
  {
   "cell_type": "code",
   "execution_count": null,
   "id": "25e9605e",
   "metadata": {},
   "outputs": [],
   "source": [
    "db.persons.aggregate([\n",
    "    {$unwind: \"$tags\"}, \n",
    "    {$project: {name:1, gender:1, tags:1}}\n",
    "])"
   ]
  },
  {
   "cell_type": "markdown",
   "id": "f6ede573",
   "metadata": {},
   "source": [
    "![2_10.png](./resources/2_10.png)"
   ]
  },
  {
   "cell_type": "code",
   "execution_count": null,
   "id": "45a847cf",
   "metadata": {},
   "outputs": [],
   "source": []
  },
  {
   "cell_type": "markdown",
   "id": "672f33bb",
   "metadata": {},
   "source": [
    "unwind with groupby, most commonly used senario"
   ]
  },
  {
   "cell_type": "code",
   "execution_count": null,
   "id": "d3cf818d",
   "metadata": {},
   "outputs": [],
   "source": [
    "db.persons.aggregate([\n",
    "    {$unwind: \"$tags\"}, \n",
    "    {$group: {_id: \"$tags\"}}\n",
    "])"
   ]
  },
  {
   "cell_type": "code",
   "execution_count": null,
   "id": "fdf16e5c",
   "metadata": {},
   "outputs": [],
   "source": []
  },
  {
   "cell_type": "code",
   "execution_count": null,
   "id": "ca0d7d13",
   "metadata": {},
   "outputs": [],
   "source": []
  },
  {
   "cell_type": "code",
   "execution_count": null,
   "id": "0e539b3f",
   "metadata": {},
   "outputs": [],
   "source": []
  },
  {
   "cell_type": "code",
   "execution_count": null,
   "id": "e44fe500",
   "metadata": {},
   "outputs": [],
   "source": []
  },
  {
   "cell_type": "code",
   "execution_count": null,
   "id": "6e9861cf",
   "metadata": {},
   "outputs": [],
   "source": []
  },
  {
   "cell_type": "markdown",
   "id": "d0670fc5",
   "metadata": {},
   "source": [
    "### Accumulative Operators"
   ]
  },
  {
   "cell_type": "markdown",
   "id": "4ea86ebb",
   "metadata": {},
   "source": [
    "- sum\n",
    "- avg\n",
    "- max\n",
    "- min"
   ]
  },
  {
   "cell_type": "markdown",
   "id": "9162d3ce",
   "metadata": {},
   "source": [
    "**Note** : Most accumulators are used only in the $group stage"
   ]
  },
  {
   "cell_type": "markdown",
   "id": "cf636a04",
   "metadata": {},
   "source": [
    "it's not separator aggregation expression"
   ]
  },
  {
   "cell_type": "code",
   "execution_count": null,
   "id": "b1f0507c",
   "metadata": {},
   "outputs": [],
   "source": [
    "{$<accumulatorOperator>: <expression | number>}"
   ]
  },
  {
   "cell_type": "code",
   "execution_count": null,
   "id": "b6f11dd4",
   "metadata": {},
   "outputs": [],
   "source": [
    "{$sum: \"$quantity\"}\n",
    "{$avg: \"$age\"}\n",
    "{$max : \"$spentMoney\"}"
   ]
  },
  {
   "cell_type": "code",
   "execution_count": null,
   "id": "0a00b859",
   "metadata": {},
   "outputs": [],
   "source": []
  },
  {
   "cell_type": "code",
   "execution_count": null,
   "id": "5e676516",
   "metadata": {},
   "outputs": [],
   "source": [
    "# new field named total\n",
    "{total : {$sum : \"$quantity\"}}"
   ]
  },
  {
   "cell_type": "code",
   "execution_count": null,
   "id": "0a2f50af",
   "metadata": {},
   "outputs": [],
   "source": [
    "# new column named count \n",
    "# Simple way to count number of the documents in each group\n",
    "{count : {$sum: 1 }}"
   ]
  },
  {
   "cell_type": "code",
   "execution_count": null,
   "id": "76016dc4",
   "metadata": {},
   "outputs": [],
   "source": [
    "# group by age\n",
    "# sum:1, quantity of documents of each group\n",
    "\n",
    "db.persons.aggregate([\n",
    "    {\n",
    "        $group : {\n",
    "            _id: \"$age\",\n",
    "            count: {$sum:1}\n",
    "        }\n",
    "    }\n",
    "])"
   ]
  },
  {
   "cell_type": "code",
   "execution_count": null,
   "id": "5e7ef8d2",
   "metadata": {},
   "outputs": [],
   "source": [
    "# group by age\n",
    "# sum:1, quantity of documents of each group\n",
    "\n",
    "db.persons.aggregate([\n",
    "    {\n",
    "        $group : {\n",
    "            _id: \"$favoriteFruit\",\n",
    "            count: {$sum:1}\n",
    "        }\n",
    "    }\n",
    "])"
   ]
  },
  {
   "cell_type": "markdown",
   "id": "e84bac6d",
   "metadata": {},
   "source": [
    "NumberInt를 쓰면, Int타입으로 변경 가능. "
   ]
  },
  {
   "cell_type": "code",
   "execution_count": 2,
   "id": "9a7f40d1",
   "metadata": {
    "collapsed": true
   },
   "outputs": [
    {
     "ename": "SyntaxError",
     "evalue": "invalid syntax (<ipython-input-2-bd4d31094071>, line 2)",
     "output_type": "error",
     "traceback": [
      "\u001b[0;36m  File \u001b[0;32m\"<ipython-input-2-bd4d31094071>\"\u001b[0;36m, line \u001b[0;32m2\u001b[0m\n\u001b[0;31m    {$unwind : \"$tags\"},\u001b[0m\n\u001b[0m     ^\u001b[0m\n\u001b[0;31mSyntaxError\u001b[0m\u001b[0;31m:\u001b[0m invalid syntax\n"
     ]
    }
   ],
   "source": [
    "db.persons.aggregate([\n",
    "    {$unwind : \"$tags\"},\n",
    "    {\n",
    "        $group : {\n",
    "            _id: \"$tags\",\n",
    "            count: {$sum:NumberInt(1)}\n",
    "        }\n",
    "    }\n",
    "])"
   ]
  },
  {
   "cell_type": "code",
   "execution_count": null,
   "id": "db5edbfe",
   "metadata": {},
   "outputs": [],
   "source": [
    "db.persons.aggregate([\n",
    "    {\n",
    "        $group : {\n",
    "            _id: \"$eyeColor\",\n",
    "            avg: {$avg:\"$amount\"}\n",
    "        }\n",
    "    }\n",
    "])"
   ]
  },
  {
   "cell_type": "markdown",
   "id": "f501aa99",
   "metadata": {},
   "source": [
    "avg"
   ]
  },
  {
   "cell_type": "code",
   "execution_count": null,
   "id": "8fc619cf",
   "metadata": {},
   "outputs": [],
   "source": [
    "{avgAge: {$avg: \"$age\"}}"
   ]
  },
  {
   "cell_type": "code",
   "execution_count": null,
   "id": "9ddf7b7a",
   "metadata": {},
   "outputs": [],
   "source": [
    "db.persons.aggregate([\n",
    "    {\n",
    "        $group : {\n",
    "            _id: \"$eyeColor\",\n",
    "            avg: {$avg:\"$age\"}\n",
    "        }\n",
    "    }\n",
    "])"
   ]
  },
  {
   "cell_type": "code",
   "execution_count": null,
   "id": "a83eeb98",
   "metadata": {},
   "outputs": [],
   "source": [
    "db.persons.aggregate([\n",
    "    {\n",
    "        $group : {\n",
    "            _id: \"$favoriteFruit\",\n",
    "            avg: {$avg:\"$age\"}\n",
    "        }\n",
    "    }\n",
    "])"
   ]
  },
  {
   "cell_type": "code",
   "execution_count": 3,
   "id": "e1e0a5b2",
   "metadata": {
    "collapsed": true
   },
   "outputs": [
    {
     "ename": "SyntaxError",
     "evalue": "invalid syntax (<ipython-input-3-e9151dc1d4af>, line 3)",
     "output_type": "error",
     "traceback": [
      "\u001b[0;36m  File \u001b[0;32m\"<ipython-input-3-e9151dc1d4af>\"\u001b[0;36m, line \u001b[0;32m3\u001b[0m\n\u001b[0;31m    $group : {\u001b[0m\n\u001b[0m    ^\u001b[0m\n\u001b[0;31mSyntaxError\u001b[0m\u001b[0;31m:\u001b[0m invalid syntax\n"
     ]
    }
   ],
   "source": [
    "db.persons.aggregate([\n",
    "    {\n",
    "        $group : {\n",
    "            _id: \"$company.location.country\",\n",
    "            avg: {$avg:\"$age\"}\n",
    "        }\n",
    "    }\n",
    "])"
   ]
  },
  {
   "cell_type": "code",
   "execution_count": null,
   "id": "ecd2fa2a",
   "metadata": {},
   "outputs": [],
   "source": []
  },
  {
   "cell_type": "markdown",
   "id": "06209984",
   "metadata": {},
   "source": [
    "### Unary Opators"
   ]
  },
  {
   "cell_type": "markdown",
   "id": "3a72e8e9",
   "metadata": {},
   "source": [
    "- type\n",
    "- or\n",
    "- lt\n",
    "- gt\n",
    "- and\n",
    "- multiply\n",
    "\n",
    "these are used inside the project stage. <br>\n",
    "in the group stage, unary operators can be used only in conjunction with Accumulators"
   ]
  },
  {
   "cell_type": "markdown",
   "id": "656524b1",
   "metadata": {},
   "source": [
    "##### type"
   ]
  },
  {
   "cell_type": "code",
   "execution_count": null,
   "id": "9564c1f4",
   "metadata": {},
   "outputs": [],
   "source": [
    "{$type : <expression>}\n",
    "\n",
    "{$type: \"$age\"}\n",
    "{$type: \"$name\"}"
   ]
  },
  {
   "cell_type": "code",
   "execution_count": null,
   "id": "05cc5baf",
   "metadata": {},
   "outputs": [],
   "source": [
    "db.persons.aggregate([\n",
    "    {\n",
    "        $project : {\n",
    "            name : 1, \n",
    "            eyeColorType : {$type: \"$eyeColor\"}, \n",
    "            ageType : {$type:\"$age\"}\n",
    "        }\n",
    "    }\n",
    "])\n",
    "\n",
    "\n",
    "\n",
    "## result\n",
    "/* 1 */\n",
    "{\n",
    "    \"_id\" : ObjectId(\"613a07e237e70c9a5d217d98\"),\n",
    "    \"name\" : \"Aurelia Gonzales\",\n",
    "    \"eyeColorType\" : \"string\",\n",
    "    \"ageType\" : \"int\"\n",
    "}"
   ]
  },
  {
   "cell_type": "code",
   "execution_count": null,
   "id": "d8298c20",
   "metadata": {},
   "outputs": [],
   "source": []
  },
  {
   "cell_type": "markdown",
   "id": "39f53dde",
   "metadata": {},
   "source": [
    "### $out Stage"
   ]
  },
  {
   "cell_type": "code",
   "execution_count": null,
   "id": "5999ab82",
   "metadata": {},
   "outputs": [],
   "source": [
    "{$out: \"<outputCollectionName>\"}\n",
    "\n",
    "{$out: \"newCollection\"}"
   ]
  },
  {
   "cell_type": "markdown",
   "id": "f1becd27",
   "metadata": {},
   "source": [
    "1. out must be last stage in the aggregation pipeline\n",
    "2. if output collection doesn't exist, it will be created automatically"
   ]
  },
  {
   "cell_type": "code",
   "execution_count": null,
   "id": "2f8f021b",
   "metadata": {},
   "outputs": [],
   "source": [
    "db.persons.aggregate([\n",
    "    {$group : {_id : {age:\"$age\", eyeColor: \"$eyeColor\"}}}, \n",
    "    {$out: \"aggregationResults\"}\n",
    "])"
   ]
  },
  {
   "cell_type": "code",
   "execution_count": null,
   "id": "3c80cb74",
   "metadata": {},
   "outputs": [],
   "source": [
    "show collections"
   ]
  },
  {
   "cell_type": "code",
   "execution_count": null,
   "id": "9ced791f",
   "metadata": {},
   "outputs": [],
   "source": [
    "db.aggregationResults.find().count()"
   ]
  },
  {
   "cell_type": "code",
   "execution_count": null,
   "id": "d0096ed8",
   "metadata": {},
   "outputs": [],
   "source": []
  },
  {
   "cell_type": "markdown",
   "id": "598219f1",
   "metadata": {},
   "source": [
    "### allowDiskUse : true"
   ]
  },
  {
   "cell_type": "markdown",
   "id": "45f0424e",
   "metadata": {},
   "source": [
    "- All agregation stages can use maximum 100MB of RAM\n",
    "- Server will return error if RAM limit is exceeded \n",
    "- Following option will enable to MongoDB to write stages data to the temporal files\n",
    "- 결론적으로 엄청 큰 요청 할때는 이걸 쓰자. \n",
    "{allowDiskUse: true}"
   ]
  },
  {
   "cell_type": "code",
   "execution_count": null,
   "id": "4dea22d8",
   "metadata": {},
   "outputs": [],
   "source": [
    "db.persons.aggregate([], {allowDiskUse:true})"
   ]
  },
  {
   "cell_type": "code",
   "execution_count": null,
   "id": "d87cb882",
   "metadata": {},
   "outputs": [],
   "source": []
  },
  {
   "cell_type": "code",
   "execution_count": null,
   "id": "3279b1ab",
   "metadata": {},
   "outputs": [],
   "source": []
  },
  {
   "cell_type": "code",
   "execution_count": null,
   "id": "3a0a2b15",
   "metadata": {},
   "outputs": [],
   "source": []
  },
  {
   "cell_type": "code",
   "execution_count": null,
   "id": "fd0f480d",
   "metadata": {},
   "outputs": [],
   "source": []
  }
 ],
 "metadata": {
  "kernelspec": {
   "display_name": "Python [conda env:py38]",
   "language": "python",
   "name": "conda-env-py38-py"
  },
  "language_info": {
   "codemirror_mode": {
    "name": "ipython",
    "version": 3
   },
   "file_extension": ".py",
   "mimetype": "text/x-python",
   "name": "python",
   "nbconvert_exporter": "python",
   "pygments_lexer": "ipython3",
   "version": "3.8.5"
  }
 },
 "nbformat": 4,
 "nbformat_minor": 5
}
