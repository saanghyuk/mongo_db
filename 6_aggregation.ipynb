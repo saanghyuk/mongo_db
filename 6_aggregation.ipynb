{
 "cells": [
  {
   "cell_type": "markdown",
   "id": "53f5ac51",
   "metadata": {},
   "source": [
    "[MongoDB Lecture in Youtube](https://www.youtube.com/watch?v=s44QWegr2l8&list=PLWkguCWKqN9OwcbdYm4nUIXnA2IoXX0LI&index=2)"
   ]
  },
  {
   "cell_type": "markdown",
   "id": "69e322b0",
   "metadata": {},
   "source": [
    "```\n",
    "db.<collection>.aggregate([\n",
    "    <stage1>,\n",
    "    <stage2>,\n",
    "    <stage3>,\n",
    "    \n",
    "    <stageN>\n",
    "])\n",
    "```"
   ]
  },
  {
   "cell_type": "markdown",
   "id": "9be87d65",
   "metadata": {},
   "source": [
    "#### Server returns a cursor"
   ]
  },
  {
   "cell_type": "code",
   "execution_count": null,
   "id": "a337cdd2",
   "metadata": {},
   "outputs": [],
   "source": [
    "show collections\n",
    "db.persons.aggregate([])"
   ]
  },
  {
   "cell_type": "markdown",
   "id": "6564c874",
   "metadata": {},
   "source": [
    "Each stage input documents, output documents <br>\n",
    "Stages are independent"
   ]
  },
  {
   "cell_type": "markdown",
   "id": "e8619272",
   "metadata": {},
   "source": [
    "- Each stage starts from the stage operator\n",
    "`{$<stageOperator> : {}}``\n",
    "    - example\n",
    "        - `{$match : {age : {$gt : 20}}}`\n",
    "        - `{$group : {_id : \"$age\"}}`\n",
    "        - `{$sort : {count : -1}}`"
   ]
  },
  {
   "cell_type": "code",
   "execution_count": null,
   "id": "9543b0ae",
   "metadata": {},
   "outputs": [],
   "source": []
  },
  {
   "cell_type": "markdown",
   "id": "1580410c",
   "metadata": {},
   "source": [
    "Expression refers to the name of the field in input document\n",
    "- `\"$<fieldname>\"`"
   ]
  },
  {
   "cell_type": "code",
   "execution_count": null,
   "id": "a173149c",
   "metadata": {},
   "outputs": [],
   "source": []
  },
  {
   "cell_type": "markdown",
   "id": "5b9f7b53",
   "metadata": {},
   "source": [
    "### Match stage"
   ]
  },
  {
   "cell_type": "markdown",
   "id": "07c8cded",
   "metadata": {},
   "source": [
    "match uses standard MongoDB queries and supports all query operators"
   ]
  },
  {
   "cell_type": "markdown",
   "id": "9d602090",
   "metadata": {},
   "source": [
    "`{$match : {<query>}}`\n"
   ]
  },
  {
   "cell_type": "code",
   "execution_count": null,
   "id": "8edbda74",
   "metadata": {},
   "outputs": [],
   "source": [
    "db.persons.aggregate([\n",
    "    {$match : {age: {$gt:25}}}\n",
    "])"
   ]
  },
  {
   "cell_type": "code",
   "execution_count": null,
   "id": "b5fd9f4e",
   "metadata": {},
   "outputs": [],
   "source": [
    "db.persons.aggregate([\n",
    "    {$match : {isActive: true}}\n",
    "])"
   ]
  },
  {
   "cell_type": "markdown",
   "id": "7e9dfd9f",
   "metadata": {},
   "source": [
    "하단 두 쿼리는 결과가 완전히 동일하다."
   ]
  },
  {
   "cell_type": "code",
   "execution_count": null,
   "id": "36c44e43",
   "metadata": {},
   "outputs": [],
   "source": [
    "db.persons.aggregate([\n",
    "    {$match : {tags: {$size : 3}}}\n",
    "])\n",
    "\n",
    "db.getCollection('persons').find({tags: {$size : 3}})"
   ]
  },
  {
   "cell_type": "code",
   "execution_count": null,
   "id": "9c45ca06",
   "metadata": {},
   "outputs": [],
   "source": []
  },
  {
   "cell_type": "code",
   "execution_count": null,
   "id": "894e26f6",
   "metadata": {},
   "outputs": [],
   "source": []
  },
  {
   "cell_type": "markdown",
   "id": "027ff438",
   "metadata": {},
   "source": [
    "### Group Stage"
   ]
  },
  {
   "cell_type": "markdown",
   "id": "92e1c57d",
   "metadata": {},
   "source": [
    "Groups input documents by certain expressions\n",
    "- `{$group : {_id : <expression>, <field1> : {\n",
    "    <accumulator1>: ,<expression1>}\n",
    "    }`"
   ]
  },
  {
   "cell_type": "markdown",
   "id": "73ed849a",
   "metadata": {},
   "source": [
    "- `\n",
    "{$group : {_id : \"$age\"}}\n",
    "` : Find all distinct of age values. produce new set of document. each document will have just one field\n",
    "\n",
    "- `{$group : {_id : \"$age\", gender:\"$gender\"}}`"
   ]
  },
  {
   "cell_type": "code",
   "execution_count": null,
   "id": "8851ed9a",
   "metadata": {},
   "outputs": [],
   "source": [
    "db.persons.aggregate([\n",
    "    {$group : {_id : \"$age\"}}\n",
    "])"
   ]
  },
  {
   "cell_type": "markdown",
   "id": "a173efa0",
   "metadata": {},
   "source": [
    "**group by nested field**"
   ]
  },
  {
   "cell_type": "markdown",
   "id": "08ee0aac",
   "metadata": {},
   "source": [
    "can use same as above. "
   ]
  },
  {
   "cell_type": "markdown",
   "id": "2a81f7f2",
   "metadata": {},
   "source": [
    "`db.persons.aggregate([\n",
    "    {$group : {_id : \"$company\"}}\n",
    "])\n",
    "`"
   ]
  },
  {
   "cell_type": "markdown",
   "id": "4912b8e0",
   "metadata": {},
   "source": [
    "`db.persons.aggregate([\n",
    "    {$group : {_id : \"$company.location.country\"}}\n",
    "])\n",
    "`"
   ]
  },
  {
   "cell_type": "markdown",
   "id": "f95dca19",
   "metadata": {},
   "source": [
    "`db.persons.aggregate([\n",
    "    {$group : {_id : \"$company.location\"}}\n",
    "])\n",
    "`"
   ]
  },
  {
   "cell_type": "code",
   "execution_count": null,
   "id": "1f075465",
   "metadata": {},
   "outputs": [],
   "source": []
  },
  {
   "cell_type": "markdown",
   "id": "8f126fb6",
   "metadata": {},
   "source": [
    "**group by several fields**\n",
    "- all posible combinations"
   ]
  },
  {
   "cell_type": "markdown",
   "id": "e1f6ad51",
   "metadata": {},
   "source": [
    "`db.persons.aggregate([\n",
    "    { $group : { _id : {age:\"$age\", gender:\"$gender\"}}}\n",
    "])`"
   ]
  },
  {
   "cell_type": "markdown",
   "id": "6793d1be",
   "metadata": {},
   "source": [
    "`db.persons.aggregate([\n",
    "    { $group : { _id : {eyeColor:\"$eyeColor\", favoriteFruit:\"$favoriteFruit\"}}}\n",
    "])`"
   ]
  },
  {
   "cell_type": "code",
   "execution_count": null,
   "id": "5dc8fff6",
   "metadata": {},
   "outputs": [],
   "source": []
  },
  {
   "cell_type": "markdown",
   "id": "d6b822aa",
   "metadata": {},
   "source": [
    "#### `$`match and `$`group"
   ]
  },
  {
   "cell_type": "markdown",
   "id": "fe5112d3",
   "metadata": {},
   "source": [
    "`db.persons.aggregate([\n",
    "    //stage 1\n",
    "    {$match : {favoriteFruit: \"banana\"}}, \n",
    "    // stage 2\n",
    "    { $group : { _id : {age:\"$age\", eyeColor:\"$eyeColor\"}}}\n",
    "])`"
   ]
  },
  {
   "cell_type": "markdown",
   "id": "09451c51",
   "metadata": {},
   "source": [
    "`db.persons.aggregate([\n",
    "    {$match : {gender: \"female\"}}, \n",
    "    { $group : { _id : {age:\"$age\", eyeColor:\"$eyeColor\"}}}\n",
    "])`"
   ]
  },
  {
   "cell_type": "markdown",
   "id": "c325fdf3",
   "metadata": {},
   "source": [
    "`db.persons.aggregate([\n",
    "    {$match : {gender: \"female\"}}, \n",
    "    { $group : { _id : {age:\"$age\", eyeColor:\"$eyeColor\", gender: \"$gender\"}}}\n",
    "])`"
   ]
  },
  {
   "cell_type": "code",
   "execution_count": null,
   "id": "51396603",
   "metadata": {},
   "outputs": [],
   "source": []
  },
  {
   "cell_type": "markdown",
   "id": "a54238bf",
   "metadata": {},
   "source": [
    "아래는 stage순서를 바꾼 상태. "
   ]
  },
  {
   "cell_type": "markdown",
   "id": "ba810c0d",
   "metadata": {},
   "source": [
    "`db.persons.aggregate([ \n",
    "    { $group : { _id : {age:\"$age\", eyeColor:\"$eyeColor\"}}},\n",
    "    { $match : {favoriteFruit: \"banana\"}}\n",
    "])`"
   ]
  },
  {
   "cell_type": "markdown",
   "id": "d6ec6f5b",
   "metadata": {},
   "source": [
    "첫번째에서 group을 먼저 하면, 애초에 favoriteFruit라는 컬럼이 없다. fetch 0"
   ]
  },
  {
   "cell_type": "markdown",
   "id": "5a87b4ef",
   "metadata": {},
   "source": [
    "아래처럼 하면 결과 나오겠지. "
   ]
  },
  {
   "cell_type": "markdown",
   "id": "d48a5e14",
   "metadata": {},
   "source": [
    "`\n",
    "db.persons.aggregate([ \n",
    "    { $group : { _id : {age:\"$age\", eyeColor:\"$eyeColor\"}}},\n",
    "    { $match : {\"_id.age\":{$gt:30}}}\n",
    "])\n",
    "`"
   ]
  },
  {
   "cell_type": "markdown",
   "id": "f901f936",
   "metadata": {},
   "source": [
    "`\n",
    "db.persons.aggregate([ \n",
    "    { $group : { _id : {age:\"$age\", eyeColor:\"$eyeColor\"}}},\n",
    "    { $match : {\"_id.eyeColor\":\"blue\"}}\n",
    "])\n",
    "`"
   ]
  },
  {
   "cell_type": "code",
   "execution_count": null,
   "id": "4c7978d3",
   "metadata": {},
   "outputs": [],
   "source": []
  },
  {
   "cell_type": "markdown",
   "id": "86c695a7",
   "metadata": {},
   "source": [
    "### Count"
   ]
  },
  {
   "cell_type": "markdown",
   "id": "bf88c26f",
   "metadata": {},
   "source": [
    "$count Stage"
   ]
  },
  {
   "cell_type": "markdown",
   "id": "c8f6299a",
   "metadata": {},
   "source": [
    "- counts number of the input documents"
   ]
  },
  {
   "cell_type": "code",
   "execution_count": null,
   "id": "2714be0d",
   "metadata": {},
   "outputs": [],
   "source": [
    "{$count: \"countries\"}"
   ]
  },
  {
   "cell_type": "code",
   "execution_count": null,
   "id": "af8e72cc",
   "metadata": {},
   "outputs": [],
   "source": [
    "# 예약어\n",
    "\n",
    "# Server-side Count\n",
    "\n",
    "db.persons.aggregate([ \n",
    "    {$count : \"allDocumentsCount\"}\n",
    "])\n",
    "\n",
    "db.persons.aggregate([\n",
    "    {$count: \"total\"}\n",
    "])\n",
    "\n",
    "db.persons.find({}).count() # Find Count() is wrapper of the Areggate $count"
   ]
  },
  {
   "cell_type": "code",
   "execution_count": null,
   "id": "0bc0b68f",
   "metadata": {},
   "outputs": [],
   "source": [
    "# 아래 같은 자바스크립트 명령이 가능함.\n",
    "# client-side count\n",
    "\n",
    "db.persons.aggregate([]).toArray().length"
   ]
  },
  {
   "cell_type": "code",
   "execution_count": null,
   "id": "d42954c6",
   "metadata": {},
   "outputs": [],
   "source": [
    "# client-side count\n",
    "\n",
    "db.persons.aggregate([]).itcount()"
   ]
  },
  {
   "cell_type": "markdown",
   "id": "d0ecfbb6",
   "metadata": {},
   "source": [
    "db.persons.find({}).count()"
   ]
  },
  {
   "cell_type": "code",
   "execution_count": null,
   "id": "d5650eb6",
   "metadata": {},
   "outputs": [],
   "source": []
  },
  {
   "cell_type": "code",
   "execution_count": null,
   "id": "468933f9",
   "metadata": {},
   "outputs": [],
   "source": [
    "# countriesCount는 column명\n",
    "\n",
    "db.persons.aggregate([\n",
    "    {$group : {_id : \"$company.location\"}},\n",
    "    {$count: \"countriesCount\"}\n",
    "])"
   ]
  },
  {
   "cell_type": "code",
   "execution_count": null,
   "id": "baf6c52f",
   "metadata": {},
   "outputs": [],
   "source": [
    "db.persons.aggregate([\n",
    "    {$group : {_id : \"$eyeColor\"}},\n",
    "    {$count: \"eyeColor\"}\n",
    "])"
   ]
  },
  {
   "cell_type": "code",
   "execution_count": null,
   "id": "251abf06",
   "metadata": {},
   "outputs": [],
   "source": [
    "db.persons.aggregate([\n",
    "    {$group : {_id : {eyeColor:\"$eyeColor\", gender:\"$gender\"}}},\n",
    "    {$count: \"eyeColorAndgender\"}\n",
    "])"
   ]
  },
  {
   "cell_type": "code",
   "execution_count": null,
   "id": "8a6d9c63",
   "metadata": {},
   "outputs": [],
   "source": [
    "db.persons.aggregate([\n",
    "    {$match : { age : {$gte:25}}},\n",
    "    {$group : {_id : {eyeColor:\"$eyeColor\", gender:\"$gender\"}}},\n",
    "    {$count: \"eyeColorAndgender\"}\n",
    "])"
   ]
  },
  {
   "cell_type": "code",
   "execution_count": null,
   "id": "ae9259e6",
   "metadata": {},
   "outputs": [],
   "source": []
  },
  {
   "cell_type": "code",
   "execution_count": null,
   "id": "b52b474d",
   "metadata": {},
   "outputs": [],
   "source": []
  },
  {
   "cell_type": "markdown",
   "id": "76bb0c8b",
   "metadata": {},
   "source": [
    "\n",
    "### $sort Stage"
   ]
  },
  {
   "cell_type": "code",
   "execution_count": null,
   "id": "0878f0c3",
   "metadata": {},
   "outputs": [],
   "source": [
    "# descending order\n",
    "$sort : {score : -1} \n",
    "    \n",
    "# age ascending order, and country ascending order\n",
    "$sort : {age : 1, country: 1 } "
   ]
  },
  {
   "cell_type": "code",
   "execution_count": null,
   "id": "28dd8b21",
   "metadata": {},
   "outputs": [],
   "source": [
    "db.persons.aggregate([\n",
    "    {$sort : {name:1}}\n",
    "])"
   ]
  },
  {
   "cell_type": "code",
   "execution_count": null,
   "id": "79472145",
   "metadata": {},
   "outputs": [],
   "source": [
    "db.persons.aggregate([\n",
    "    {$sort : {age:1}}\n",
    "])"
   ]
  },
  {
   "cell_type": "code",
   "execution_count": null,
   "id": "c54f05a6",
   "metadata": {},
   "outputs": [],
   "source": [
    "db.persons.aggregate([\n",
    "    {$sort : {age:-1}}\n",
    "])"
   ]
  },
  {
   "cell_type": "code",
   "execution_count": null,
   "id": "565fde3e",
   "metadata": {},
   "outputs": [],
   "source": [
    "db.persons.aggregate([\n",
    "    {$sort : {age:-1, gender:-1, eyeColor:1}}\n",
    "])"
   ]
  },
  {
   "cell_type": "code",
   "execution_count": null,
   "id": "43a1172e",
   "metadata": {},
   "outputs": [],
   "source": [
    "db.persons.aggregate([\n",
    "    {$group:{_id: \"$favoriteFruit\"}},\n",
    "    {$sort : {_id:1}}\n",
    "])"
   ]
  },
  {
   "cell_type": "code",
   "execution_count": null,
   "id": "b67ea427",
   "metadata": {},
   "outputs": [],
   "source": [
    "db.persons.aggregate([\n",
    "    {$group:{_id: \"$age\"}},\n",
    "    {$sort : {_id:1}}\n",
    "])"
   ]
  },
  {
   "cell_type": "code",
   "execution_count": null,
   "id": "6e8df6e3",
   "metadata": {},
   "outputs": [],
   "source": [
    "# alphabetical order\n",
    "db.persons.aggregate([\n",
    "    {$group:{_id: \"$eyeColor\"}},\n",
    "    {$sort : {_id:1}}\n",
    "])"
   ]
  },
  {
   "cell_type": "code",
   "execution_count": null,
   "id": "8d1dc233",
   "metadata": {},
   "outputs": [],
   "source": [
    "db.persons.aggregate([\n",
    "    {$group:{_id: {eyeColor:\"$eyeColor\", favoriteFruit: \"$favoriteFruit\"}}},\n",
    "    {$sort : {\"_id.eyeColor\":1, \"_id.favoriteFruit\": -1}}\n",
    "])"
   ]
  },
  {
   "cell_type": "code",
   "execution_count": null,
   "id": "1bfb9890",
   "metadata": {},
   "outputs": [],
   "source": [
    "db.persons.aggregate([\n",
    "    {$match: {eyeColor: {$ne : \"blue\"}}},\n",
    "    {$group:{_id: {eyeColor:\"$eyeColor\", favoriteFruit: \"$favoriteFruit\"}}},\n",
    "    {$sort : {\"_id.eyeColor\":1, \"_id.favoriteFruit\": -1}}\n",
    "])"
   ]
  },
  {
   "cell_type": "code",
   "execution_count": null,
   "id": "575d17d7",
   "metadata": {},
   "outputs": [],
   "source": []
  },
  {
   "cell_type": "code",
   "execution_count": null,
   "id": "7bc66697",
   "metadata": {},
   "outputs": [],
   "source": []
  },
  {
   "cell_type": "markdown",
   "id": "baa2adae",
   "metadata": {},
   "source": [
    "### $project Stage"
   ]
  },
  {
   "cell_type": "markdown",
   "id": "40a7f505",
   "metadata": {},
   "source": [
    "includes, exclues, or add new fields"
   ]
  },
  {
   "cell_type": "code",
   "execution_count": null,
   "id": "c0a86619",
   "metadata": {},
   "outputs": [],
   "source": [
    "# _id, name, company.title\n",
    "{$project : {name : 1, \"company.title\":1}}\n",
    "\n",
    "# name, age\n",
    "{$projject : {_id:0, name:1, age:1}}\n",
    "\n",
    "# excludes, and others will be included\n",
    "{$projject : {eyeColor:0, age:0}}\n",
    "\n",
    "# _id, name, 그리고, age column will be renamed to newAge\n",
    "{$project : {name:1, newAge: \"$age\"}}"
   ]
  },
  {
   "cell_type": "code",
   "execution_count": null,
   "id": "a8ef1d87",
   "metadata": {},
   "outputs": [],
   "source": []
  },
  {
   "cell_type": "code",
   "execution_count": null,
   "id": "7b62ae6a",
   "metadata": {},
   "outputs": [],
   "source": [
    "db.persons.aggregate([\n",
    "    {$project : {name:1, \"company.location.country\":1}}\n",
    "])"
   ]
  },
  {
   "cell_type": "code",
   "execution_count": null,
   "id": "c870fbd1",
   "metadata": {},
   "outputs": [],
   "source": [
    "db.persons.aggregate([\n",
    "    {$project : {isActive:1, name:1, gender:1}}, \n",
    "    {$count: \"total\"}\n",
    "])"
   ]
  },
  {
   "cell_type": "code",
   "execution_count": null,
   "id": "5bb16e03",
   "metadata": {},
   "outputs": [],
   "source": [
    "db.persons.aggregate([\n",
    "    {$project : {_id:0, isActive:1, name:1, gender:1}}\n",
    "])"
   ]
  },
  {
   "cell_type": "markdown",
   "id": "bd3781c1",
   "metadata": {},
   "source": [
    "아래처럼 하면 제외한 4개 빼고 다나옴. "
   ]
  },
  {
   "cell_type": "code",
   "execution_count": null,
   "id": "2197d863",
   "metadata": {},
   "outputs": [],
   "source": [
    "db.persons.aggregate([\n",
    "    {$project : {isActive:0, name:0, gender:0}}\n",
    "])"
   ]
  },
  {
   "cell_type": "code",
   "execution_count": null,
   "id": "0ac86a79",
   "metadata": {},
   "outputs": [],
   "source": []
  },
  {
   "cell_type": "markdown",
   "id": "6a7c8a55",
   "metadata": {},
   "source": [
    "rename도 가능. 구조 자체도 info 밑에 nested가 새로 생긴다. "
   ]
  },
  {
   "cell_type": "code",
   "execution_count": null,
   "id": "85f6467a",
   "metadata": {},
   "outputs": [],
   "source": [
    "db.persons.aggregate([\n",
    "    { $project : {\n",
    "        _id : 0, \n",
    "         name: 1,\n",
    "        info:{\n",
    "                eyes: \"$eyeColor\",\n",
    "                fruit: \"$favoriteFruit\", \n",
    "                country: \"$company.location.country\"\n",
    "            } \n",
    "                }}\n",
    "])"
   ]
  },
  {
   "cell_type": "code",
   "execution_count": null,
   "id": "8309429c",
   "metadata": {},
   "outputs": [],
   "source": []
  },
  {
   "cell_type": "markdown",
   "id": "e83e7459",
   "metadata": {},
   "source": [
    "### limit"
   ]
  },
  {
   "cell_type": "markdown",
   "id": "44033e9d",
   "metadata": {},
   "source": [
    "<pre>\n",
    "- sampled agregation requests with $limit as first state\n",
    "- after $sort to produce topNresults\n",
    "\n",
    "</pre>"
   ]
  },
  {
   "cell_type": "code",
   "execution_count": null,
   "id": "9c10da5b",
   "metadata": {},
   "outputs": [],
   "source": [
    "{$limit : 100}\n",
    "{$limit : 1000 }"
   ]
  },
  {
   "cell_type": "code",
   "execution_count": null,
   "id": "f2d4332d",
   "metadata": {},
   "outputs": [],
   "source": [
    "# 체크하는 속도를 엄청 올릴 수 있다.\n",
    "db.persons.aggregate([\n",
    "    {$limit : 100}, \n",
    "    {$match: {age:{$gt:27}}},\n",
    "    {$group : {_id:\"$company.location.country\"}}\n",
    "])"
   ]
  },
  {
   "cell_type": "code",
   "execution_count": null,
   "id": "528aa459",
   "metadata": {},
   "outputs": [],
   "source": [
    "# 체크하는 속도를 엄청 올릴 수 있다.\n",
    "# to use sample aggregation request\n",
    "db.persons.aggregate([\n",
    "    {$limit : 100},\n",
    "    {$match : {eyeColor: {$ne: \"blue\"}}}, \n",
    "    {$group : {_id:{eyeColor:\"eyeColor\", favoriteFruit: \"$favoriteFruit\"}}},\n",
    "    {$sort : {\"_id.eyeColor\":1, \"_id.favoriteFruit\": -1}}\n",
    "])"
   ]
  },
  {
   "cell_type": "code",
   "execution_count": null,
   "id": "ea462837",
   "metadata": {},
   "outputs": [],
   "source": []
  },
  {
   "cell_type": "code",
   "execution_count": null,
   "id": "1bd78fdd",
   "metadata": {},
   "outputs": [],
   "source": [
    "db.persons.aggregate([\n",
    "    {$group : {_id : \"$tags\"}},\n",
    "\n",
    "])"
   ]
  },
  {
   "cell_type": "markdown",
   "id": "57a06862",
   "metadata": {},
   "source": [
    "### unwind"
   ]
  },
  {
   "cell_type": "markdown",
   "id": "cfed927a",
   "metadata": {},
   "source": [
    "이거는 상황 이해가 중요함. 아래 구조에서, 지금 tags하부에 있는 애들로 group by가 하고 싶은 상황."
   ]
  },
  {
   "attachments": {},
   "cell_type": "markdown",
   "id": "7d0c7689",
   "metadata": {},
   "source": [
    "![2_7.png](./resources/2_7.png)"
   ]
  },
  {
   "cell_type": "markdown",
   "id": "711ca865",
   "metadata": {},
   "source": [
    "그래서 아래 명령어를 입력하면"
   ]
  },
  {
   "cell_type": "code",
   "execution_count": null,
   "id": "a3948ed9",
   "metadata": {},
   "outputs": [],
   "source": [
    "db.persons.aggregate([\n",
    "    {$group : {_id : \"$tags\"}},\n",
    "\n",
    "])"
   ]
  },
  {
   "attachments": {},
   "cell_type": "markdown",
   "id": "79bee194",
   "metadata": {},
   "source": [
    "![2_8.png](./resources/2_8.png)"
   ]
  },
  {
   "cell_type": "markdown",
   "id": "7270c594",
   "metadata": {},
   "source": [
    "내가 원한 결과가 아님. "
   ]
  },
  {
   "cell_type": "code",
   "execution_count": null,
   "id": "06573b18",
   "metadata": {},
   "outputs": [],
   "source": []
  },
  {
   "cell_type": "markdown",
   "id": "342da5d1",
   "metadata": {},
   "source": [
    "<pre>\n",
    "{$unwind: <arrayReferenceExpression>}\n",
    "\n",
    "{$unwind: \"$tags\"}\n",
    "\n",
    "</pre>"
   ]
  },
  {
   "attachments": {},
   "cell_type": "markdown",
   "id": "ceef3e4d",
   "metadata": {},
   "source": [
    "![2_9.png](./resources/2_9.png)"
   ]
  },
  {
   "cell_type": "markdown",
   "id": "cd371cea",
   "metadata": {},
   "source": [
    "document를 나눠준다. tags에 15개가 들어 있었으면, 15개로 나눠주는 것. "
   ]
  },
  {
   "cell_type": "code",
   "execution_count": null,
   "id": "cc931ab6",
   "metadata": {},
   "outputs": [],
   "source": []
  },
  {
   "cell_type": "code",
   "execution_count": null,
   "id": "2b1e1cf6",
   "metadata": {},
   "outputs": [],
   "source": [
    "db.persons.aggregate([\n",
    "    {$unwind: \"$tags\"}, \n",
    "    {$project: {name:1, gender:1, tags:1}}\n",
    "])"
   ]
  },
  {
   "attachments": {},
   "cell_type": "markdown",
   "id": "ea86e012",
   "metadata": {},
   "source": [
    "![2_10.png](./resources/2_10.png)"
   ]
  },
  {
   "cell_type": "code",
   "execution_count": null,
   "id": "7431c0bb",
   "metadata": {},
   "outputs": [],
   "source": []
  },
  {
   "cell_type": "code",
   "execution_count": null,
   "id": "f461d815",
   "metadata": {},
   "outputs": [],
   "source": []
  },
  {
   "cell_type": "code",
   "execution_count": null,
   "id": "a7705625",
   "metadata": {},
   "outputs": [],
   "source": []
  },
  {
   "cell_type": "code",
   "execution_count": null,
   "id": "206de8b4",
   "metadata": {},
   "outputs": [],
   "source": []
  },
  {
   "cell_type": "code",
   "execution_count": null,
   "id": "5bf2f9d4",
   "metadata": {},
   "outputs": [],
   "source": []
  }
 ],
 "metadata": {
  "kernelspec": {
   "display_name": "Python [conda env:py38]",
   "language": "python",
   "name": "conda-env-py38-py"
  },
  "language_info": {
   "codemirror_mode": {
    "name": "ipython",
    "version": 3
   },
   "file_extension": ".py",
   "mimetype": "text/x-python",
   "name": "python",
   "nbconvert_exporter": "python",
   "pygments_lexer": "ipython3",
   "version": "3.8.5"
  }
 },
 "nbformat": 4,
 "nbformat_minor": 5
}
