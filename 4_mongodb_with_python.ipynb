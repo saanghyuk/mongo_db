{
 "cells": [
  {
   "cell_type": "code",
   "execution_count": 1,
   "id": "39d8ed61",
   "metadata": {},
   "outputs": [],
   "source": [
    "import pymongo\n",
    "\n",
    "# local 인 경우\n",
    "# connection = pymongo.MongoClient()\n",
    "\n",
    "# port는 안써도 default\n",
    "conn = pymongo.MongoClient('mongodb://54.179.203.15', 27017)"
   ]
  },
  {
   "cell_type": "code",
   "execution_count": null,
   "id": "1608d931",
   "metadata": {},
   "outputs": [],
   "source": []
  },
  {
   "cell_type": "markdown",
   "id": "5600af31",
   "metadata": {},
   "source": [
    "원하는 데이터베이스 선택"
   ]
  },
  {
   "cell_type": "code",
   "execution_count": 7,
   "id": "b786b8d2",
   "metadata": {},
   "outputs": [],
   "source": [
    "# db라는 변수로 해당 데이터베이스 객체가 넘어오는 것\n",
    "# test라는 데이터베이스 없으면, 에러가 아니고 새로 만들어짐. \n",
    "knowledge = conn.knowledge\n",
    "# or mydb_test = conn[\"test\"]"
   ]
  },
  {
   "cell_type": "code",
   "execution_count": 13,
   "id": "9a16d1a5",
   "metadata": {},
   "outputs": [
    {
     "data": {
      "text/plain": [
       "Database(MongoClient(host=['54.179.203.15:27017'], document_class=dict, tz_aware=False, connect=True), 'knowledge')"
      ]
     },
     "execution_count": 13,
     "metadata": {},
     "output_type": "execute_result"
    }
   ],
   "source": [
    "knowledge"
   ]
  },
  {
   "cell_type": "code",
   "execution_count": 14,
   "id": "7559d270",
   "metadata": {},
   "outputs": [
    {
     "name": "stdout",
     "output_type": "stream",
     "text": [
      "['_BaseObject__codec_options', '_BaseObject__read_concern', '_BaseObject__read_preference', '_BaseObject__write_concern', '_Database__client', '_Database__incoming_copying_manipulators', '_Database__incoming_manipulators', '_Database__name', '_Database__outgoing_copying_manipulators', '_Database__outgoing_manipulators', '__call__', '__class__', '__delattr__', '__dict__', '__dir__', '__doc__', '__eq__', '__format__', '__ge__', '__getattr__', '__getattribute__', '__getitem__', '__gt__', '__hash__', '__init__', '__init_subclass__', '__iter__', '__le__', '__lt__', '__module__', '__ne__', '__new__', '__next__', '__reduce__', '__reduce_ex__', '__repr__', '__setattr__', '__sizeof__', '__str__', '__subclasshook__', '__weakref__', '_apply_incoming_copying_manipulators', '_apply_incoming_manipulators', '_command', '_create_or_update_user', '_current_op', '_default_role', '_fix_incoming', '_fix_outgoing', '_list_collections', '_read_preference_for', '_retryable_read_command', '_write_concern_for', 'add_son_manipulator', 'add_user', 'aggregate', 'authenticate', 'client', 'codec_options', 'collection_names', 'command', 'create_collection', 'current_op', 'dereference', 'drop_collection', 'error', 'eval', 'get_collection', 'incoming_copying_manipulators', 'incoming_manipulators', 'last_status', 'list_collection_names', 'list_collections', 'logout', 'name', 'next', 'outgoing_copying_manipulators', 'outgoing_manipulators', 'previous_error', 'profiling_info', 'profiling_level', 'read_concern', 'read_preference', 'remove_user', 'reset_error_history', 'set_profiling_level', 'system_js', 'validate_collection', 'watch', 'with_options', 'write_concern']\n"
     ]
    }
   ],
   "source": [
    "# 결국은 mydb_test가 class\n",
    "print(dir(knowledge))"
   ]
  },
  {
   "cell_type": "code",
   "execution_count": 15,
   "id": "790ddab2",
   "metadata": {},
   "outputs": [
    {
     "data": {
      "text/plain": [
       "'knowledge'"
      ]
     },
     "execution_count": 15,
     "metadata": {},
     "output_type": "execute_result"
    }
   ],
   "source": [
    "# name of the database\n",
    "knowledge.name"
   ]
  },
  {
   "cell_type": "code",
   "execution_count": null,
   "id": "1a616cc5",
   "metadata": {},
   "outputs": [],
   "source": []
  },
  {
   "cell_type": "code",
   "execution_count": 16,
   "id": "9f3b9e00",
   "metadata": {},
   "outputs": [],
   "source": [
    "knowledge_it= knowledge.it\n",
    "# it = knowledge[\"it\"]"
   ]
  },
  {
   "cell_type": "code",
   "execution_count": 18,
   "id": "a4eb9a1c",
   "metadata": {},
   "outputs": [
    {
     "data": {
      "text/plain": [
       "Collection(Database(MongoClient(host=['54.179.203.15:27017'], document_class=dict, tz_aware=False, connect=True), 'knowledge'), 'it')"
      ]
     },
     "execution_count": 18,
     "metadata": {},
     "output_type": "execute_result"
    }
   ],
   "source": [
    "knowledge_it"
   ]
  },
  {
   "cell_type": "code",
   "execution_count": null,
   "id": "779c1e38",
   "metadata": {},
   "outputs": [],
   "source": []
  },
  {
   "cell_type": "code",
   "execution_count": null,
   "id": "c1595c1f",
   "metadata": {},
   "outputs": [],
   "source": []
  },
  {
   "cell_type": "markdown",
   "id": "267d554b",
   "metadata": {},
   "source": [
    "### INSERT"
   ]
  },
  {
   "cell_type": "markdown",
   "id": "ac16e934",
   "metadata": {},
   "source": [
    "- mongodb shell 명령어 : insertOne, insertMany\n",
    "- pymongo : insert_one(), insert_many"
   ]
  },
  {
   "cell_type": "code",
   "execution_count": 19,
   "id": "e3c85d4b",
   "metadata": {},
   "outputs": [],
   "source": [
    "post = {\"author\": \"Mike\", \"text\": \"My first blog post!\", \"tags\": [\"mongodb\", \"python\", \"pymongo\"] }"
   ]
  },
  {
   "cell_type": "code",
   "execution_count": 20,
   "id": "847d736d",
   "metadata": {},
   "outputs": [
    {
     "data": {
      "text/plain": [
       "<pymongo.results.InsertOneResult at 0x7fa4e8d30040>"
      ]
     },
     "execution_count": 20,
     "metadata": {},
     "output_type": "execute_result"
    }
   ],
   "source": [
    "knowledge_it.insert_one(post)"
   ]
  },
  {
   "cell_type": "code",
   "execution_count": 21,
   "id": "1d24e946",
   "metadata": {},
   "outputs": [
    {
     "data": {
      "text/plain": [
       "<pymongo.results.InsertOneResult at 0x7fa4e922fe80>"
      ]
     },
     "execution_count": 21,
     "metadata": {},
     "output_type": "execute_result"
    }
   ],
   "source": [
    "knowledge_it.insert_one({\"author\": \"Sanghyuk Son\", \"age\": 45})"
   ]
  },
  {
   "cell_type": "code",
   "execution_count": null,
   "id": "d021d92e",
   "metadata": {},
   "outputs": [],
   "source": []
  },
  {
   "cell_type": "code",
   "execution_count": 22,
   "id": "aeb4ba68",
   "metadata": {
    "scrolled": true
   },
   "outputs": [
    {
     "data": {
      "text/plain": [
       "<pymongo.results.InsertManyResult at 0x7fa4e92a0a40>"
      ]
     },
     "execution_count": 22,
     "metadata": {},
     "output_type": "execute_result"
    }
   ],
   "source": [
    "# insertt many도 하나를 넣어도 되는데, 일단 list로 넣어야 함\n",
    "knowledge_it.insert_many(\n",
    "    [\n",
    "        { \"author\":\"Dave Ahn\", \"age\":25 },\n",
    "        { \"author\":\"Dave\", \"age\":35 }\n",
    "    ]\n",
    ")"
   ]
  },
  {
   "cell_type": "markdown",
   "id": "fc26608d",
   "metadata": {},
   "source": [
    "- Insert 넣을 때, 변수를 사용하면, insert로 넣은 객체 정보에 대해 알 수 있음. \n",
    "- 리턴해 주는 값이 있는 듯. "
   ]
  },
  {
   "cell_type": "code",
   "execution_count": 41,
   "id": "df100a4f",
   "metadata": {},
   "outputs": [],
   "source": [
    "post_id = knowledge_it.insert_one({\"author\": \"Noel\", \"age\": 2342})"
   ]
  },
  {
   "cell_type": "code",
   "execution_count": null,
   "id": "a842395d",
   "metadata": {},
   "outputs": [],
   "source": []
  },
  {
   "cell_type": "code",
   "execution_count": 24,
   "id": "bf5f3d0e",
   "metadata": {
    "scrolled": true
   },
   "outputs": [
    {
     "data": {
      "text/plain": [
       "ObjectId('60fafe52eb16f84baa501169')"
      ]
     },
     "execution_count": 24,
     "metadata": {},
     "output_type": "execute_result"
    }
   ],
   "source": [
    "# _id의 값을 확인 가능\n",
    "post_id.inserted_id"
   ]
  },
  {
   "cell_type": "code",
   "execution_count": null,
   "id": "2fe45cc4",
   "metadata": {},
   "outputs": [],
   "source": []
  },
  {
   "cell_type": "code",
   "execution_count": 25,
   "id": "60c47aa9",
   "metadata": {
    "scrolled": true
   },
   "outputs": [
    {
     "name": "stderr",
     "output_type": "stream",
     "text": [
      "<ipython-input-25-400ea065a01a>:1: DeprecationWarning: count is deprecated. Use estimated_document_count or count_documents instead. Please note that $where must be replaced by $expr, $near must be replaced by $geoWithin with $center, and $nearSphere must be replaced by $geoWithin with $centerSphere\n",
      "  knowledge_it.count()\n"
     ]
    },
    {
     "data": {
      "text/plain": [
       "5"
      ]
     },
     "execution_count": 25,
     "metadata": {},
     "output_type": "execute_result"
    }
   ],
   "source": [
    "# pymongo 라이브러리도 계속 새로운 버전이 나옴. \n",
    "# 함수 이름 바뀌는 경우가 있음.\n",
    "knowledge_it.count()"
   ]
  },
  {
   "cell_type": "code",
   "execution_count": 27,
   "id": "0c5dc928",
   "metadata": {},
   "outputs": [
    {
     "data": {
      "text/plain": [
       "5"
      ]
     },
     "execution_count": 27,
     "metadata": {},
     "output_type": "execute_result"
    }
   ],
   "source": [
    "knowledge_it.estimated_document_count()"
   ]
  },
  {
   "cell_type": "code",
   "execution_count": 28,
   "id": "a9a06518",
   "metadata": {},
   "outputs": [
    {
     "data": {
      "text/plain": [
       "5"
      ]
     },
     "execution_count": 28,
     "metadata": {},
     "output_type": "execute_result"
    }
   ],
   "source": [
    "knowledge_it.count_documents({})"
   ]
  },
  {
   "cell_type": "code",
   "execution_count": null,
   "id": "ee74310a",
   "metadata": {},
   "outputs": [],
   "source": []
  },
  {
   "cell_type": "code",
   "execution_count": 29,
   "id": "e88b34ca",
   "metadata": {},
   "outputs": [
    {
     "data": {
      "text/plain": [
       "<pymongo.results.InsertOneResult at 0x7fa4e8831f00>"
      ]
     },
     "execution_count": 29,
     "metadata": {},
     "output_type": "execute_result"
    }
   ],
   "source": [
    "# 리스트, 객체 삽입 가능\n",
    "knowledge_it.insert_one({'title' : '암살', 'castings' : ['이정재', '전지현', '하정우']})\n",
    "knowledge_it.insert_one(\n",
    "    {\n",
    "        'title' : '실미도', \n",
    "        'castings' : ['설경구', '안성기'], \n",
    "        'datetime' : \n",
    "        {\n",
    "            'year' : '2003', \n",
    "            'month' : 3,\n",
    "            'val' : \n",
    "            {\n",
    "                'a' :\n",
    "                {\n",
    "                    'b' : 1\n",
    "                }\n",
    "            }\n",
    "        }\n",
    "    }\n",
    ")"
   ]
  },
  {
   "cell_type": "code",
   "execution_count": 30,
   "id": "26ed71f5",
   "metadata": {},
   "outputs": [
    {
     "data": {
      "text/plain": [
       "<pymongo.results.InsertManyResult at 0x7fa4e71d2580>"
      ]
     },
     "execution_count": 30,
     "metadata": {},
     "output_type": "execute_result"
    }
   ],
   "source": [
    "data = list()\n",
    "data.append({'name' : 'aaron', 'age' : 20})\n",
    "data.append({'name' : 'bob', 'age' : 30})\n",
    "data.append({'name' : 'cathy', 'age' : 25})\n",
    "data.append({'name' : 'david', 'age' : 27})\n",
    "data.append({'name' : 'erick', 'age' : 28})\n",
    "data.append({'name' : 'fox', 'age' : 32})\n",
    "data.append({'name' : 'hmm'})\n",
    "\n",
    "knowledge_it.insert_many(data)"
   ]
  },
  {
   "cell_type": "code",
   "execution_count": null,
   "id": "27c18103",
   "metadata": {},
   "outputs": [],
   "source": []
  },
  {
   "cell_type": "code",
   "execution_count": 31,
   "id": "31dfc09b",
   "metadata": {},
   "outputs": [
    {
     "data": {
      "text/plain": [
       "14"
      ]
     },
     "execution_count": 31,
     "metadata": {},
     "output_type": "execute_result"
    }
   ],
   "source": [
    "knowledge_it.estimated_document_count()"
   ]
  },
  {
   "cell_type": "code",
   "execution_count": null,
   "id": "d3f15a86",
   "metadata": {},
   "outputs": [],
   "source": []
  },
  {
   "cell_type": "markdown",
   "id": "75522a4a",
   "metadata": {},
   "source": [
    "Document 검색하기(find_one(), find_many())"
   ]
  },
  {
   "cell_type": "code",
   "execution_count": 32,
   "id": "d60b9464",
   "metadata": {},
   "outputs": [
    {
     "data": {
      "text/plain": [
       "{'_id': ObjectId('60fafcf6eb16f84baa501165'),\n",
       " 'author': 'Mike',\n",
       " 'text': 'My first blog post!',\n",
       " 'tags': ['mongodb', 'python', 'pymongo']}"
      ]
     },
     "execution_count": 32,
     "metadata": {},
     "output_type": "execute_result"
    }
   ],
   "source": [
    "knowledge_it.find_one()"
   ]
  },
  {
   "cell_type": "code",
   "execution_count": null,
   "id": "b712355d",
   "metadata": {},
   "outputs": [],
   "source": []
  },
  {
   "cell_type": "code",
   "execution_count": 42,
   "id": "b1db234f",
   "metadata": {},
   "outputs": [
    {
     "data": {
      "text/plain": [
       "{'_id': ObjectId('60fafe52eb16f84baa501169'), 'author': 'Noel', 'age': 25}"
      ]
     },
     "execution_count": 42,
     "metadata": {},
     "output_type": "execute_result"
    }
   ],
   "source": [
    "knowledge_it.find_one({\"author\" : \"Noel\"})"
   ]
  },
  {
   "cell_type": "code",
   "execution_count": null,
   "id": "54f8d84f",
   "metadata": {},
   "outputs": [],
   "source": []
  },
  {
   "cell_type": "code",
   "execution_count": 45,
   "id": "227a9415",
   "metadata": {},
   "outputs": [],
   "source": [
    "# find를 쓰면 결과가 list로 넘어온다. \n",
    "docs = knowledge_it.find({\"author\" : \"Noel\"})"
   ]
  },
  {
   "cell_type": "code",
   "execution_count": 48,
   "id": "e933ae72",
   "metadata": {},
   "outputs": [
    {
     "data": {
      "text/plain": [
       "<pymongo.cursor.Cursor at 0x7fa4e943a0a0>"
      ]
     },
     "execution_count": 48,
     "metadata": {},
     "output_type": "execute_result"
    }
   ],
   "source": [
    "docs"
   ]
  },
  {
   "cell_type": "code",
   "execution_count": 46,
   "id": "c8f48099",
   "metadata": {},
   "outputs": [
    {
     "name": "stdout",
     "output_type": "stream",
     "text": [
      "{'_id': ObjectId('60fafe52eb16f84baa501169'), 'author': 'Noel', 'age': 25}\n",
      "{'_id': ObjectId('60fb011beb16f84baa501173'), 'author': 'Noel', 'age': 53}\n",
      "{'_id': ObjectId('60fb011deb16f84baa501174'), 'author': 'Noel', 'age': 2342}\n"
     ]
    }
   ],
   "source": [
    "for doc in docs:\n",
    "    print(doc)"
   ]
  },
  {
   "cell_type": "code",
   "execution_count": null,
   "id": "36ab13c3",
   "metadata": {},
   "outputs": [],
   "source": []
  },
  {
   "cell_type": "code",
   "execution_count": 49,
   "id": "d7148cc1",
   "metadata": {
    "scrolled": true
   },
   "outputs": [
    {
     "data": {
      "text/plain": [
       "3"
      ]
     },
     "execution_count": 49,
     "metadata": {},
     "output_type": "execute_result"
    }
   ],
   "source": [
    "# 갯수만 가져오기\n",
    "knowledge_it.count_documents({\"author\" : \"Noel\"})"
   ]
  },
  {
   "cell_type": "code",
   "execution_count": null,
   "id": "5fd7748c",
   "metadata": {},
   "outputs": [],
   "source": []
  },
  {
   "cell_type": "code",
   "execution_count": 52,
   "id": "24e32d04",
   "metadata": {},
   "outputs": [
    {
     "name": "stdout",
     "output_type": "stream",
     "text": [
      "{'_id': ObjectId('60fafe52eb16f84baa501169'), 'author': 'Noel', 'age': 25}\n",
      "{'_id': ObjectId('60fb011beb16f84baa501173'), 'author': 'Noel', 'age': 53}\n",
      "{'_id': ObjectId('60fb011deb16f84baa501174'), 'author': 'Noel', 'age': 2342}\n"
     ]
    }
   ],
   "source": [
    "# sort할 AGE가 없으면, 걔네가 먼저 옴. \n",
    "for doc in knowledge_it.find({\"author\": \"Noel\"}).sort('age'):\n",
    "    print(doc)"
   ]
  },
  {
   "cell_type": "code",
   "execution_count": null,
   "id": "353f499a",
   "metadata": {},
   "outputs": [],
   "source": []
  },
  {
   "cell_type": "markdown",
   "id": "33f6f6c6",
   "metadata": {},
   "source": [
    "### 수정하기(update_one, update_many())"
   ]
  },
  {
   "cell_type": "code",
   "execution_count": 61,
   "id": "1383b70e",
   "metadata": {},
   "outputs": [],
   "source": [
    "# 없으면 새로 들어감. \n",
    "# 추가적인 키와 값 추가하는 것 또한 업데이트"
   ]
  },
  {
   "cell_type": "code",
   "execution_count": 59,
   "id": "3055d30b",
   "metadata": {},
   "outputs": [
    {
     "data": {
      "text/plain": [
       "{'_id': ObjectId('60fafe52eb16f84baa501169'),\n",
       " 'author': 'Noel',\n",
       " 'age': 30,\n",
       " 'text': 'My second blog post',\n",
       " 'greetings': 'Hi'}"
      ]
     },
     "execution_count": 59,
     "metadata": {},
     "output_type": "execute_result"
    }
   ],
   "source": [
    "knowledge_it.find_one({\"author\":\"Noel\"})"
   ]
  },
  {
   "cell_type": "code",
   "execution_count": 58,
   "id": "55cd6bda",
   "metadata": {},
   "outputs": [
    {
     "data": {
      "text/plain": [
       "<pymongo.results.UpdateResult at 0x7fa4e91527c0>"
      ]
     },
     "execution_count": 58,
     "metadata": {},
     "output_type": "execute_result"
    }
   ],
   "source": [
    "knowledge_it.update_one({\"author\":\"Noel\"}, \n",
    "                       {\n",
    "                           \"$set\":\n",
    "                           {\"text\": \"My second blog post\",\n",
    "                            \"age\": 30, \n",
    "                            \"greetings\": \"Hi\"\n",
    "                           }\n",
    "                       })"
   ]
  },
  {
   "cell_type": "code",
   "execution_count": null,
   "id": "d956ac68",
   "metadata": {},
   "outputs": [],
   "source": []
  },
  {
   "cell_type": "code",
   "execution_count": 65,
   "id": "959b5193",
   "metadata": {},
   "outputs": [
    {
     "name": "stdout",
     "output_type": "stream",
     "text": [
      "{'_id': ObjectId('60fafe52eb16f84baa501169'), 'author': 'Noel', 'age': 30, 'text': 'My second blog post', 'greetings': 'Hi'}\n",
      "{'_id': ObjectId('60fb011beb16f84baa501173'), 'author': 'Noel', 'age': 30, 'text': 'My second blog post', 'greetings': 'Hi'}\n",
      "{'_id': ObjectId('60fb011deb16f84baa501174'), 'author': 'Noel', 'age': 30, 'text': 'My second blog post', 'greetings': 'Hi'}\n"
     ]
    }
   ],
   "source": [
    "for doc in knowledge_it.find({\"author\":\"Noel\"}):\n",
    "    print(doc)"
   ]
  },
  {
   "cell_type": "code",
   "execution_count": null,
   "id": "34e342a3",
   "metadata": {},
   "outputs": [],
   "source": []
  },
  {
   "cell_type": "code",
   "execution_count": null,
   "id": "023625f4",
   "metadata": {},
   "outputs": [],
   "source": []
  },
  {
   "cell_type": "code",
   "execution_count": 64,
   "id": "12084d13",
   "metadata": {},
   "outputs": [
    {
     "data": {
      "text/plain": [
       "<pymongo.results.UpdateResult at 0x7fa4e8c36880>"
      ]
     },
     "execution_count": 64,
     "metadata": {},
     "output_type": "execute_result"
    }
   ],
   "source": [
    "knowledge_it.update_many({\"author\":\"Noel\"}, \n",
    "                       {\n",
    "                           \"$set\":\n",
    "                           {\"text\": \"My second blog post\",\n",
    "                            \"age\": 30, \n",
    "                            \"greetings\": \"Hi\"\n",
    "                           }\n",
    "                       })"
   ]
  },
  {
   "cell_type": "code",
   "execution_count": null,
   "id": "aebb6935",
   "metadata": {},
   "outputs": [],
   "source": []
  },
  {
   "cell_type": "markdown",
   "id": "aeb99274",
   "metadata": {},
   "source": [
    "### Document 삭제하기(delete_one(), delete_many())"
   ]
  },
  {
   "cell_type": "code",
   "execution_count": 66,
   "id": "15f357d1",
   "metadata": {},
   "outputs": [],
   "source": [
    "docs = knowledge_it.find({\"author\": \"Noel\"})"
   ]
  },
  {
   "cell_type": "code",
   "execution_count": 67,
   "id": "77744fb1",
   "metadata": {},
   "outputs": [],
   "source": [
    "knowledge_it.delete_one({\"author\": \"Noel\"})"
   ]
  },
  {
   "cell_type": "code",
   "execution_count": 68,
   "id": "38623e7a",
   "metadata": {},
   "outputs": [
    {
     "name": "stdout",
     "output_type": "stream",
     "text": [
      "{'_id': ObjectId('60fb011beb16f84baa501173'), 'author': 'Noel', 'age': 30, 'text': 'My second blog post', 'greetings': 'Hi'}\n",
      "{'_id': ObjectId('60fb011deb16f84baa501174'), 'author': 'Noel', 'age': 30, 'text': 'My second blog post', 'greetings': 'Hi'}\n"
     ]
    }
   ],
   "source": [
    "for doc in knowledge_it.find({\"author\":\"Noel\"}):\n",
    "    print(doc)"
   ]
  },
  {
   "cell_type": "code",
   "execution_count": null,
   "id": "6f09e3a2",
   "metadata": {},
   "outputs": [],
   "source": []
  },
  {
   "cell_type": "code",
   "execution_count": null,
   "id": "d970bd43",
   "metadata": {},
   "outputs": [],
   "source": [
    "# knowledge_it.delete_many({\"author\": \"Noel\"})"
   ]
  },
  {
   "cell_type": "code",
   "execution_count": 69,
   "id": "315f3404",
   "metadata": {},
   "outputs": [
    {
     "data": {
      "text/plain": [
       "2"
      ]
     },
     "execution_count": 69,
     "metadata": {},
     "output_type": "execute_result"
    }
   ],
   "source": [
    "knowledge_it.count_documents({\"author\" : \"Noel\"})"
   ]
  },
  {
   "cell_type": "code",
   "execution_count": null,
   "id": "0801a798",
   "metadata": {},
   "outputs": [],
   "source": []
  },
  {
   "cell_type": "code",
   "execution_count": null,
   "id": "e5502d96",
   "metadata": {},
   "outputs": [],
   "source": []
  },
  {
   "cell_type": "code",
   "execution_count": 71,
   "id": "1497c220",
   "metadata": {},
   "outputs": [],
   "source": [
    "import pymongo\n",
    "conn = pymongo.MongoClient('mongodb://54.179.203.15', 27017)\n",
    "books = conn.books\n",
    "it_book = books.it_book"
   ]
  },
  {
   "cell_type": "code",
   "execution_count": 72,
   "id": "08610874",
   "metadata": {},
   "outputs": [],
   "source": [
    "data = list()\n",
    "for index in range(100):\n",
    "    data.append({\"author\": \"Noel Son\", \"Publisher\": \"kormat.co.kr\", \"number\": index})"
   ]
  },
  {
   "cell_type": "code",
   "execution_count": 77,
   "id": "e997b7d9",
   "metadata": {},
   "outputs": [
    {
     "data": {
      "text/plain": [
       "<pymongo.results.InsertManyResult at 0x7fa4e8f38300>"
      ]
     },
     "execution_count": 77,
     "metadata": {},
     "output_type": "execute_result"
    }
   ],
   "source": [
    "it_book.insert_many(data)"
   ]
  },
  {
   "cell_type": "code",
   "execution_count": null,
   "id": "c38ad203",
   "metadata": {},
   "outputs": [],
   "source": [
    "for i in it_book.find():\n",
    "    print(i)"
   ]
  },
  {
   "cell_type": "code",
   "execution_count": 83,
   "id": "c12007ab",
   "metadata": {},
   "outputs": [
    {
     "data": {
      "text/plain": [
       "100"
      ]
     },
     "execution_count": 83,
     "metadata": {},
     "output_type": "execute_result"
    }
   ],
   "source": [
    "it_book.count_documents({})"
   ]
  },
  {
   "cell_type": "code",
   "execution_count": null,
   "id": "2a6f7ddf",
   "metadata": {},
   "outputs": [],
   "source": []
  },
  {
   "cell_type": "code",
   "execution_count": null,
   "id": "74e494b3",
   "metadata": {},
   "outputs": [],
   "source": []
  },
  {
   "cell_type": "code",
   "execution_count": 84,
   "id": "f4c50538",
   "metadata": {},
   "outputs": [],
   "source": [
    "# CRUD = UPDATE"
   ]
  },
  {
   "cell_type": "code",
   "execution_count": 88,
   "id": "bee69420",
   "metadata": {},
   "outputs": [],
   "source": [
    "it = it_book.update_many({\"author\": \"Noel Son\"}, {\"$set\" : {\"publisher\": \"naver.com\"}})"
   ]
  },
  {
   "cell_type": "code",
   "execution_count": 89,
   "id": "aa20a421",
   "metadata": {},
   "outputs": [
    {
     "data": {
      "text/plain": [
       "<pymongo.results.UpdateResult at 0x7fa4e9486340>"
      ]
     },
     "execution_count": 89,
     "metadata": {},
     "output_type": "execute_result"
    }
   ],
   "source": []
  },
  {
   "cell_type": "code",
   "execution_count": null,
   "id": "62c1cac2",
   "metadata": {},
   "outputs": [],
   "source": []
  },
  {
   "cell_type": "code",
   "execution_count": 94,
   "id": "2419c15c",
   "metadata": {},
   "outputs": [
    {
     "data": {
      "text/plain": [
       "<pymongo.results.DeleteResult at 0x7fa4e9453f80>"
      ]
     },
     "execution_count": 94,
     "metadata": {},
     "output_type": "execute_result"
    }
   ],
   "source": [
    "it_book.delete_many({ \"number\": { \"$gt\": 6 } })"
   ]
  },
  {
   "cell_type": "code",
   "execution_count": 97,
   "id": "85c36024",
   "metadata": {},
   "outputs": [
    {
     "data": {
      "text/plain": [
       "7"
      ]
     },
     "execution_count": 97,
     "metadata": {},
     "output_type": "execute_result"
    }
   ],
   "source": [
    "it_book.count_documents({})"
   ]
  },
  {
   "cell_type": "code",
   "execution_count": null,
   "id": "39c39c15",
   "metadata": {},
   "outputs": [],
   "source": []
  }
 ],
 "metadata": {
  "kernelspec": {
   "display_name": "Python 3",
   "language": "python",
   "name": "python3"
  },
  "language_info": {
   "codemirror_mode": {
    "name": "ipython",
    "version": 3
   },
   "file_extension": ".py",
   "mimetype": "text/x-python",
   "name": "python",
   "nbconvert_exporter": "python",
   "pygments_lexer": "ipython3",
   "version": "3.9.1"
  }
 },
 "nbformat": 4,
 "nbformat_minor": 5
}
