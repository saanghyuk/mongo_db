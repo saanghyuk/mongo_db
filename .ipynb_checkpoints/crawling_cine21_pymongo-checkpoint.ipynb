{
 "cells": [
  {
   "cell_type": "markdown",
   "id": "16f8a9a7",
   "metadata": {},
   "source": [
    "- Ranking of the Korean Actors/Actresses on the [cine21](https://www.cine21.com/rank/person)\n",
    "- cine21에서는 url이 변하지 않음. \n",
    "- 개발자모드 - network\n",
    "- 보통 클릭에 따라 주소가 바뀌면 GET METHOD, 그게 아니면 보통 POST METHOD를 사용한다. \n",
    "- POST METHOD에서는 Form Data에 담겨서 전달되고, GET방식에서는 주소에 보통 같이 전달된다. "
   ]
  },
  {
   "cell_type": "markdown",
   "id": "bed01910",
   "metadata": {},
   "source": [
    "The information we need \n",
    "- Request URL: http://www.cine21.com/rank/person/content\n",
    "- Request Method : POST\n",
    "- Format Data of POST:\n",
    "    - secion : actor\n",
    "    - period_start : '2019-02'(changed with period button in the web page)\n",
    "    - gender = 'all'(changed with gender button in the web page)\n",
    "    - page = 1 (changed with pagination button below)"
   ]
  },
  {
   "cell_type": "markdown",
   "id": "5e2c834d",
   "metadata": {},
   "source": [
    "### 1. Import Library"
   ]
  },
  {
   "cell_type": "code",
   "execution_count": 18,
   "id": "dc22f0c9",
   "metadata": {},
   "outputs": [],
   "source": [
    "from bs4 import BeautifulSoup\n",
    "import requests\n",
    "import pymongo\n",
    "\n",
    "import re"
   ]
  },
  {
   "cell_type": "markdown",
   "id": "631b69ba",
   "metadata": {},
   "source": [
    "### 2. mongodb connection"
   ]
  },
  {
   "cell_type": "code",
   "execution_count": 5,
   "id": "bd11fc1a",
   "metadata": {},
   "outputs": [],
   "source": [
    "conn = pymongo.MongoClient()\n",
    "actor_db = conn.cine21\n",
    "actor_collection = actor_db.actor_collection"
   ]
  },
  {
   "cell_type": "code",
   "execution_count": null,
   "id": "faf1e131",
   "metadata": {},
   "outputs": [],
   "source": []
  },
  {
   "cell_type": "markdown",
   "id": "c86a2fe1",
   "metadata": {},
   "source": [
    "### 3. crawling address requests"
   ]
  },
  {
   "cell_type": "code",
   "execution_count": 11,
   "id": "0c234d15",
   "metadata": {},
   "outputs": [],
   "source": [
    "cine21_url = 'http://www.cine21.com/rank/person/content'\n",
    "post_data = dict()\n",
    "post_data['section'] = 'actor'\n",
    "post_data['period_start'] = '2020-07'\n",
    "post_data['gender'] = 'all'\n",
    "post_data['page'] = 1"
   ]
  },
  {
   "cell_type": "code",
   "execution_count": 12,
   "id": "3776db56",
   "metadata": {},
   "outputs": [],
   "source": [
    "res = requests.post(cine21_url, data = post_data)"
   ]
  },
  {
   "cell_type": "code",
   "execution_count": null,
   "id": "3fffbc2e",
   "metadata": {},
   "outputs": [],
   "source": []
  },
  {
   "cell_type": "markdown",
   "id": "9b5356af",
   "metadata": {},
   "source": [
    "### 4. parsing & extracting data\n",
    "- regex reference : https://www.fun-coding.org/DS&AL3-4.html"
   ]
  },
  {
   "cell_type": "code",
   "execution_count": 13,
   "id": "2a8a09e2",
   "metadata": {},
   "outputs": [],
   "source": [
    "soup = BeautifulSoup(res.content, 'html.parser')"
   ]
  },
  {
   "cell_type": "code",
   "execution_count": 33,
   "id": "d3828964",
   "metadata": {
    "scrolled": true
   },
   "outputs": [
    {
     "name": "stdout",
     "output_type": "stream",
     "text": [
      "황정민\n",
      "이정재\n",
      "조우진\n",
      "강동원\n",
      "이정현\n",
      "박정민\n",
      "성동일\n"
     ]
    }
   ],
   "source": [
    "actors = soup.select('li.people_li div.name')\n",
    "for actor in actors:\n",
    "    print(re.sub( '\\(\\w*\\)' , '', actor.text))\n",
    "    print()"
   ]
  },
  {
   "cell_type": "code",
   "execution_count": null,
   "id": "d867e2eb",
   "metadata": {},
   "outputs": [],
   "source": []
  },
  {
   "cell_type": "markdown",
   "id": "cd08b6e1",
   "metadata": {},
   "source": [
    "### 5. extracting the detail information of actor/actresses\n",
    "- need to click the actor\n",
    "- need to know the address of the actor detail page first"
   ]
  },
  {
   "cell_type": "code",
   "execution_count": 53,
   "id": "dd42c7e8",
   "metadata": {},
   "outputs": [
    {
     "name": "stdout",
     "output_type": "stream",
     "text": [
      "<li><span class=\"tit\">직업</span>배우</li>\n",
      "<li><span class=\"tit\">생년월일</span>1970-09-01</li>\n",
      "<li><span class=\"tit\">성별</span>남</li>\n",
      "<li><span class=\"tit\">신장/체중</span>180cm, 75kg</li>\n",
      "<li><span class=\"tit\">학교</span>서울예술대학 연극과 졸업</li>\n",
      "<li><span class=\"tit\">특기</span>농구, 악기연주</li>\n",
      "<li><span class=\"tit\">소속사</span>예당엔터테인먼트</li>\n",
      "<li><span class=\"tit\">직업</span>배우</li>\n",
      "<li><span class=\"tit\">성별</span>남</li>\n",
      "<li><span class=\"tit\">홈페이지</span>\n",
      "<a href=\"http://www.artistcompany.co.kr/portfolio-item/lee-jung-jae/\" target=\"_blank\">http://www.artistcompany.co.kr/portfolio-item/lee-jung-jae/</a><br/>\n",
      "</li>\n",
      "<li><span class=\"tit\">소속사</span>아티스트컴퍼니</li>\n",
      "<li><span class=\"tit\">다른 이름</span>조신제</li>\n",
      "<li><span class=\"tit\">직업</span>배우</li>\n",
      "<li><span class=\"tit\">생년월일</span>1979-01-16</li>\n",
      "<li><span class=\"tit\">성별</span>남</li>\n",
      "<li><span class=\"tit\">직업</span>배우</li>\n",
      "<li><span class=\"tit\">생년월일</span>1981-01-18</li>\n",
      "<li><span class=\"tit\">성별</span>남</li>\n",
      "<li><span class=\"tit\">홈페이지</span>\n",
      "<a href=\"http://www.gangdongwon.com\" target=\"_blank\">http://www.gangdongwon.com</a><br/>\n",
      "</li>\n",
      "<li><span class=\"tit\">신장/체중</span>186cm, 68kg</li>\n",
      "<li><span class=\"tit\">학교</span>한양대 - 상명대학교대학원 연극영화 (석사과정 재학)</li>\n",
      "<li><span class=\"tit\">취미</span>음악감상, 웹서핑, 운동, 신발 모으기</li>\n",
      "<li><span class=\"tit\">특기</span>축구</li>\n",
      "<li><span class=\"tit\">직업</span>배우</li>\n",
      "<li><span class=\"tit\">생년월일</span>1980-02-07</li>\n",
      "<li><span class=\"tit\">성별</span>여</li>\n",
      "<li><span class=\"tit\">홈페이지</span>\n",
      "<a href=\"https://www.instagram.com/mermaidleejh/\" target=\"_blank\">https://www.instagram.com/mermaidleejh/</a><br/>\n",
      "<a href=\"https://twitter.com/mermaidjh\" target=\"_blank\">https://twitter.com/mermaidjh</a><br/>\n",
      "</li>\n",
      "<li><span class=\"tit\">신장/체중</span>158cm, 38kg</li>\n",
      "<li><span class=\"tit\">학교</span>중앙대학교 연극영화</li>\n",
      "<li><span class=\"tit\">취미</span>바비 인형 수집, 피아노 연주</li>\n",
      "<li><span class=\"tit\">특기</span>별관찰, 시나리오 쓰기</li>\n",
      "<li><span class=\"tit\">소속사</span>에이바 앤 엔터테인먼트</li>\n",
      "<li><span class=\"tit\">직업</span>배우</li>\n",
      "<li><span class=\"tit\">생년월일</span>1987-02-25</li>\n",
      "<li><span class=\"tit\">성별</span>남</li>\n",
      "<li><span class=\"tit\">신장/체중</span>178cm, 63kg</li>\n",
      "<li><span class=\"tit\">학교</span>한국예술종합학교 영상원 연극원 연기과</li>\n",
      "<li><span class=\"tit\">직업</span>배우</li>\n",
      "<li><span class=\"tit\">생년월일</span>1967-04-27</li>\n",
      "<li><span class=\"tit\">성별</span>남</li>\n",
      "<li><span class=\"tit\">신장/체중</span>177cm, 78kg</li>\n",
      "<li><span class=\"tit\">학교</span>유한대학 기계설계학</li>\n"
     ]
    }
   ],
   "source": [
    "actors = soup.select('li.people_li div.name')\n",
    "for actor in actors:\n",
    "    actor_link = 'http://www.cine21.com/'+actor.select_one('a').attrs['href']\n",
    "    response_actor = requests.get(actor_link)\n",
    "    soup_actor = BeautifulSoup(response_actor.content, 'html.parser')\n",
    "    default_info = soup_actor.select_one('ul.default_info')\n",
    "    actor_details = default_info.select('li')\n",
    "    for actor_item in actor_details:\n",
    "        print(actor_item)"
   ]
  },
  {
   "cell_type": "code",
   "execution_count": null,
   "id": "e5a082f1",
   "metadata": {},
   "outputs": [],
   "source": []
  },
  {
   "cell_type": "code",
   "execution_count": null,
   "id": "7978b59b",
   "metadata": {},
   "outputs": [],
   "source": []
  },
  {
   "cell_type": "code",
   "execution_count": null,
   "id": "8e60aeea",
   "metadata": {},
   "outputs": [],
   "source": []
  }
 ],
 "metadata": {
  "kernelspec": {
   "display_name": "Python 3",
   "language": "python",
   "name": "python3"
  },
  "language_info": {
   "codemirror_mode": {
    "name": "ipython",
    "version": 3
   },
   "file_extension": ".py",
   "mimetype": "text/x-python",
   "name": "python",
   "nbconvert_exporter": "python",
   "pygments_lexer": "ipython3",
   "version": "3.9.1"
  }
 },
 "nbformat": 4,
 "nbformat_minor": 5
}
