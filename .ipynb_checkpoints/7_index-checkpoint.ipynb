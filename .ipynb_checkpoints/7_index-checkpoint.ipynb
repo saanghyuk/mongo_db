{
 "cells": [
  {
   "cell_type": "markdown",
   "id": "3043ff85",
   "metadata": {},
   "source": [
    "- Without Index, whole collection must be store\n",
    "- Index stores sorted field values\n",
    "- If appropriate index exists, MongoDB preforms only index scan. "
   ]
  },
  {
   "cell_type": "code",
   "execution_count": null,
   "id": "383b1611",
   "metadata": {},
   "outputs": [],
   "source": []
  },
  {
   "cell_type": "markdown",
   "id": "de1b0b31",
   "metadata": {},
   "source": [
    "Key { age : 1}\n",
    "- 1 ascending order\n",
    "- B-Tree index data structure"
   ]
  },
  {
   "cell_type": "code",
   "execution_count": null,
   "id": "87b686b3",
   "metadata": {},
   "outputs": [],
   "source": []
  },
  {
   "cell_type": "markdown",
   "id": "20a867f6",
   "metadata": {},
   "source": [
    "#### Default _id index\n",
    "- {_id} is default index in each MongoDB collection \n",
    "- Name of this index is _id_\n",
    "- Default _id index is unique. \n",
    "- You cannot delete. "
   ]
  },
  {
   "attachments": {},
   "cell_type": "markdown",
   "id": "a7ba6df6",
   "metadata": {},
   "source": [
    "#### Retrieval \n",
    "- getIndexs()\n",
    "- db.<collectionName>.getIndexes()\n",
    "![2_11.png](./resources/2_11.png)"
   ]
  },
  {
   "cell_type": "code",
   "execution_count": null,
   "id": "7747f430",
   "metadata": {},
   "outputs": [],
   "source": []
  },
  {
   "cell_type": "markdown",
   "id": "7a98f482",
   "metadata": {},
   "source": [
    "#### Create New Index\n",
    "\n",
    "- Which Fields should be added to the index?\n",
    "    - most used query to perform on database\n",
    "    - `db.collection.createIndex({<keyname>: [-1|1]}, <options>)`"
   ]
  },
  {
   "cell_type": "code",
   "execution_count": null,
   "id": "b4035d9b",
   "metadata": {},
   "outputs": [],
   "source": [
    "db.persons.createIndex({ age:1 })"
   ]
  },
  {
   "cell_type": "markdown",
   "id": "d41349f6",
   "metadata": {},
   "source": [
    "#### options\n",
    "\n",
    "- `{background : true}` : Create index in the background. Other operations will not be blocked. If not, other operations will interrupt other operations. \n",
    "- `{unique: true}` \" create unique index. Values of this index field must be unique across the collection\n",
    "- `{name : \"<indexName>\"}` : Specify name for the index"
   ]
  },
  {
   "cell_type": "code",
   "execution_count": null,
   "id": "aa403293",
   "metadata": {},
   "outputs": [],
   "source": [
    "db.persons.createIndex(\n",
    "    {index : 1}, \n",
    "    {unique : true}\n",
    ")"
   ]
  },
  {
   "cell_type": "markdown",
   "id": "9d29aad0",
   "metadata": {},
   "source": [
    "default name is `<fieldname>_1`"
   ]
  },
  {
   "cell_type": "markdown",
   "id": "8f8cabd9",
   "metadata": {},
   "source": [
    "```\n",
    "[\n",
    "    {\n",
    "        \"v\" : 2,\n",
    "        \"key\" : {\n",
    "            \"index\" : 1.0\n",
    "        },\n",
    "        \"name\" : \"index_1\",\n",
    "        \"unique\" : true\n",
    "    }\n",
    "]\n",
    "```"
   ]
  },
  {
   "cell_type": "code",
   "execution_count": null,
   "id": "286ef0ff",
   "metadata": {},
   "outputs": [],
   "source": [
    "db.persons.getIndexes()"
   ]
  },
  {
   "cell_type": "code",
   "execution_count": null,
   "id": "a03eaa75",
   "metadata": {},
   "outputs": [],
   "source": [
    "db.persons.createIndex(\n",
    "    {index : 1}, \n",
    "    {unique : true}\n",
    ")"
   ]
  },
  {
   "cell_type": "code",
   "execution_count": null,
   "id": "c0357705",
   "metadata": {},
   "outputs": [],
   "source": [
    "db.persons.createIndex(\n",
    "    {index : 1}, \n",
    "    {unique : true}\n",
    ")"
   ]
  },
  {
   "cell_type": "markdown",
   "id": "34364387",
   "metadata": {},
   "source": [
    "background : true options\n",
    "- should be used in the large collection"
   ]
  },
  {
   "cell_type": "code",
   "execution_count": null,
   "id": "228614f7",
   "metadata": {},
   "outputs": [],
   "source": [
    "db.persons.createIndex(\n",
    "    {name : 1},\n",
    "    {background : true}\n",
    ")"
   ]
  },
  {
   "cell_type": "markdown",
   "id": "63fa396e",
   "metadata": {},
   "source": [
    "custom : name"
   ]
  },
  {
   "cell_type": "code",
   "execution_count": null,
   "id": "061250ff",
   "metadata": {},
   "outputs": [],
   "source": [
    "db.persons.createIndex(\n",
    "    {age : 1},\n",
    "    {name : \"customAgeIndex\"}\n",
    ")"
   ]
  },
  {
   "cell_type": "code",
   "execution_count": null,
   "id": "34b14225",
   "metadata": {},
   "outputs": [],
   "source": []
  },
  {
   "cell_type": "markdown",
   "id": "b07e4998",
   "metadata": {},
   "source": [
    "#### Some query using newly created index"
   ]
  },
  {
   "cell_type": "markdown",
   "id": "7f9510ce",
   "metadata": {},
   "source": [
    "- `db.<collectionName>.explain().<method>`\n",
    "- `db.<collectionName>.explain(\"executionStats\").<method>`"
   ]
  },
  {
   "cell_type": "markdown",
   "id": "d4115cad",
   "metadata": {},
   "source": [
    "- totalKeysExamined : How many index used\n",
    "- totalDocsExamined : How many documents are scanned. "
   ]
  },
  {
   "cell_type": "code",
   "execution_count": null,
   "id": "b160fe72",
   "metadata": {},
   "outputs": [],
   "source": [
    "db.persons.explain().find({\"age\": {$gt : 25}})"
   ]
  },
  {
   "cell_type": "code",
   "execution_count": null,
   "id": "c44f9a34",
   "metadata": {},
   "outputs": [],
   "source": [
    "db.persons.explain().aggregate([{$group: {_id : \"$country\"}}])"
   ]
  },
  {
   "cell_type": "code",
   "execution_count": null,
   "id": "e8ad3b6e",
   "metadata": {},
   "outputs": [],
   "source": [
    "db.persons.explain()\n",
    ".find({age: {$gt: 27}}).count()"
   ]
  },
  {
   "cell_type": "code",
   "execution_count": null,
   "id": "7881fbf8",
   "metadata": {},
   "outputs": [],
   "source": [
    "db.persons\n",
    ".find({age: {$gt: 27}}).explain()"
   ]
  },
  {
   "cell_type": "markdown",
   "id": "ee89c3a7",
   "metadata": {},
   "source": [
    "\"stage\": \"IXSCA\" -> this means we use index"
   ]
  },
  {
   "cell_type": "code",
   "execution_count": 1,
   "id": "8b552d74",
   "metadata": {
    "collapsed": true
   },
   "outputs": [
    {
     "ename": "SyntaxError",
     "evalue": "invalid syntax (<ipython-input-1-bb0173f8eb0f>, line 2)",
     "output_type": "error",
     "traceback": [
      "\u001b[0;36m  File \u001b[0;32m\"<ipython-input-1-bb0173f8eb0f>\"\u001b[0;36m, line \u001b[0;32m2\u001b[0m\n\u001b[0;31m    .find({age: {$gt: 27}}).count()\u001b[0m\n\u001b[0m    ^\u001b[0m\n\u001b[0;31mSyntaxError\u001b[0m\u001b[0;31m:\u001b[0m invalid syntax\n"
     ]
    }
   ],
   "source": [
    "# more deep\n",
    "\n",
    "db.persons.explain(\"executionStats\")\n",
    ".find({age: {$gt: 27}}).count()"
   ]
  },
  {
   "cell_type": "markdown",
   "id": "67300ef5",
   "metadata": {},
   "source": [
    "if not indexed, stage would be \"COLLSCAN\"(collection scan)."
   ]
  },
  {
   "cell_type": "code",
   "execution_count": null,
   "id": "c274d9e7",
   "metadata": {},
   "outputs": [],
   "source": []
  },
  {
   "cell_type": "code",
   "execution_count": null,
   "id": "dc9b6a42",
   "metadata": {},
   "outputs": [],
   "source": []
  },
  {
   "cell_type": "markdown",
   "id": "358f8f3e",
   "metadata": {},
   "source": [
    "#### When you use Regex, whole index is scanned. "
   ]
  },
  {
   "cell_type": "code",
   "execution_count": null,
   "id": "d5964919",
   "metadata": {},
   "outputs": [],
   "source": []
  },
  {
   "cell_type": "markdown",
   "id": "041dc0e3",
   "metadata": {},
   "source": [
    "#### Index Deletion"
   ]
  },
  {
   "cell_type": "markdown",
   "id": "d8e6569e",
   "metadata": {},
   "source": [
    "- db.collection.dropIndex({<fieldName>:1}) : Drop index by fieldname\n",
    "- db.collection.dropIndexes() : Drop all indexes"
   ]
  },
  {
   "cell_type": "code",
   "execution_count": null,
   "id": "0d97f4f2",
   "metadata": {},
   "outputs": [],
   "source": []
  }
 ],
 "metadata": {
  "kernelspec": {
   "display_name": "Python [conda env:py38]",
   "language": "python",
   "name": "conda-env-py38-py"
  },
  "language_info": {
   "codemirror_mode": {
    "name": "ipython",
    "version": 3
   },
   "file_extension": ".py",
   "mimetype": "text/x-python",
   "name": "python",
   "nbconvert_exporter": "python",
   "pygments_lexer": "ipython3",
   "version": "3.8.5"
  }
 },
 "nbformat": 4,
 "nbformat_minor": 5
}
