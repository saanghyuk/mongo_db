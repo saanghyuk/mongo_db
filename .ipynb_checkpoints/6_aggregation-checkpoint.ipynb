{
 "cells": [
  {
   "cell_type": "markdown",
   "id": "7c29e572",
   "metadata": {},
   "source": [
    "[MongoDB Lecture in Youtube](https://www.youtube.com/watch?v=s44QWegr2l8&list=PLWkguCWKqN9OwcbdYm4nUIXnA2IoXX0LI&index=2)"
   ]
  },
  {
   "cell_type": "markdown",
   "id": "11082af2",
   "metadata": {},
   "source": [
    "```\n",
    "db.<collection>.aggregate([\n",
    "    <stage1>,\n",
    "    <stage2>,\n",
    "    <stage3>,\n",
    "    \n",
    "    <stageN>\n",
    "])\n",
    "```"
   ]
  },
  {
   "cell_type": "markdown",
   "id": "e4380d29",
   "metadata": {},
   "source": [
    "#### Server returns a cursor"
   ]
  },
  {
   "cell_type": "code",
   "execution_count": null,
   "id": "79a1b3c5",
   "metadata": {},
   "outputs": [],
   "source": [
    "show collections\n",
    "db.persons.aggregate([])"
   ]
  },
  {
   "cell_type": "markdown",
   "id": "375fd24d",
   "metadata": {},
   "source": [
    "Each stage input documents, output documents <br>\n",
    "Stages are independent"
   ]
  },
  {
   "cell_type": "markdown",
   "id": "e9846e39",
   "metadata": {},
   "source": [
    "- Each stage starts from the stage operator\n",
    "`{$<stageOperator> : {}}``\n",
    "    - example\n",
    "        - `{$match : {age : {$gt : 20}}}`\n",
    "        - `{$group : {_id : \"$age\"}}`\n",
    "        - `{$sort : {count : -1}}`"
   ]
  },
  {
   "cell_type": "code",
   "execution_count": null,
   "id": "414b88a9",
   "metadata": {},
   "outputs": [],
   "source": []
  },
  {
   "cell_type": "markdown",
   "id": "b909a63c",
   "metadata": {},
   "source": [
    "Expression refers to the name of the field in input document\n",
    "- `\"$<fieldname>\"`"
   ]
  },
  {
   "cell_type": "code",
   "execution_count": null,
   "id": "64f438d9",
   "metadata": {},
   "outputs": [],
   "source": []
  },
  {
   "cell_type": "markdown",
   "id": "f36fcee3",
   "metadata": {},
   "source": [
    "### Match stage"
   ]
  },
  {
   "cell_type": "markdown",
   "id": "1716edb8",
   "metadata": {},
   "source": [
    "match uses standard MongoDB queries and supports all query operators"
   ]
  },
  {
   "cell_type": "markdown",
   "id": "01a7f468",
   "metadata": {},
   "source": [
    "`{$match : {<query>}}`\n"
   ]
  },
  {
   "cell_type": "code",
   "execution_count": null,
   "id": "48254401",
   "metadata": {},
   "outputs": [],
   "source": [
    "db.persons.aggregate([\n",
    "    {$match : {age: {$gt:25}}}\n",
    "])"
   ]
  },
  {
   "cell_type": "code",
   "execution_count": null,
   "id": "a9e09204",
   "metadata": {},
   "outputs": [],
   "source": [
    "db.persons.aggregate([\n",
    "    {$match : {isActive: true}}\n",
    "])"
   ]
  },
  {
   "cell_type": "markdown",
   "id": "395bb4c2",
   "metadata": {},
   "source": [
    "하단 두 쿼리는 결과가 완전히 동일하다."
   ]
  },
  {
   "cell_type": "code",
   "execution_count": null,
   "id": "ba6e4879",
   "metadata": {},
   "outputs": [],
   "source": [
    "db.persons.aggregate([\n",
    "    {$match : {tags: {$size : 3}}}\n",
    "])\n",
    "\n",
    "db.getCollection('persons').find({tags: {$size : 3}})"
   ]
  },
  {
   "cell_type": "code",
   "execution_count": null,
   "id": "a78c706a",
   "metadata": {},
   "outputs": [],
   "source": []
  },
  {
   "cell_type": "code",
   "execution_count": null,
   "id": "d5dcb14b",
   "metadata": {},
   "outputs": [],
   "source": []
  },
  {
   "cell_type": "markdown",
   "id": "fae45e07",
   "metadata": {},
   "source": [
    "### Group Stage"
   ]
  },
  {
   "cell_type": "markdown",
   "id": "1c6251d1",
   "metadata": {},
   "source": [
    "Groups input documents by certain expressions\n",
    "- `{$group : {_id : <expression>, <field1> : {\n",
    "    <accumulator1>: ,<expression1>}\n",
    "    }`"
   ]
  },
  {
   "cell_type": "markdown",
   "id": "1f141150",
   "metadata": {},
   "source": [
    "- `\n",
    "{$group : {_id : \"$age\"}}\n",
    "` : Find all distinct of age values. produce new set of document. each document will have just one field\n",
    "\n",
    "- `{$group : {_id : \"$age\", gender:\"$gender\"}}`"
   ]
  },
  {
   "cell_type": "code",
   "execution_count": null,
   "id": "5bf0ae6b",
   "metadata": {},
   "outputs": [],
   "source": [
    "db.persons.aggregate([\n",
    "    {$group : {_id : \"$age\"}}\n",
    "])"
   ]
  },
  {
   "cell_type": "markdown",
   "id": "348c4dad",
   "metadata": {},
   "source": [
    "**group by nested field**"
   ]
  },
  {
   "cell_type": "markdown",
   "id": "fe5b0b73",
   "metadata": {},
   "source": [
    "can use same as above. "
   ]
  },
  {
   "cell_type": "markdown",
   "id": "9f7705a7",
   "metadata": {},
   "source": [
    "`db.persons.aggregate([\n",
    "    {$group : {_id : \"$company\"}}\n",
    "])\n",
    "`"
   ]
  },
  {
   "cell_type": "markdown",
   "id": "20e93474",
   "metadata": {},
   "source": [
    "`db.persons.aggregate([\n",
    "    {$group : {_id : \"$company.location.country\"}}\n",
    "])\n",
    "`"
   ]
  },
  {
   "cell_type": "markdown",
   "id": "64f6a897",
   "metadata": {},
   "source": [
    "`db.persons.aggregate([\n",
    "    {$group : {_id : \"$company.location\"}}\n",
    "])\n",
    "`"
   ]
  },
  {
   "cell_type": "code",
   "execution_count": null,
   "id": "fc14311e",
   "metadata": {},
   "outputs": [],
   "source": []
  },
  {
   "cell_type": "markdown",
   "id": "ac531dc7",
   "metadata": {},
   "source": [
    "**group by several fields**\n",
    "- all posible combinations"
   ]
  },
  {
   "cell_type": "markdown",
   "id": "824c80b6",
   "metadata": {},
   "source": [
    "`db.persons.aggregate([\n",
    "    { $group : { _id : {age:\"$age\", gender:\"$gender\"}}}\n",
    "])`"
   ]
  },
  {
   "cell_type": "markdown",
   "id": "585b07e5",
   "metadata": {},
   "source": [
    "`db.persons.aggregate([\n",
    "    { $group : { _id : {eyeColor:\"$eyeColor\", favoriteFruit:\"$favoriteFruit\"}}}\n",
    "])`"
   ]
  },
  {
   "cell_type": "code",
   "execution_count": null,
   "id": "db67b8f5",
   "metadata": {},
   "outputs": [],
   "source": []
  },
  {
   "cell_type": "markdown",
   "id": "0bccaca4",
   "metadata": {},
   "source": [
    "#### `$`match and `$`group"
   ]
  },
  {
   "cell_type": "markdown",
   "id": "b1a55eb0",
   "metadata": {},
   "source": [
    "`db.persons.aggregate([\n",
    "    //stage 1\n",
    "    {$match : {favoriteFruit: \"banana\"}}, \n",
    "    // stage 2\n",
    "    { $group : { _id : {age:\"$age\", eyeColor:\"$eyeColor\"}}}\n",
    "])`"
   ]
  },
  {
   "cell_type": "markdown",
   "id": "ec99b496",
   "metadata": {},
   "source": [
    "`db.persons.aggregate([\n",
    "    {$match : {gender: \"female\"}}, \n",
    "    { $group : { _id : {age:\"$age\", eyeColor:\"$eyeColor\"}}}\n",
    "])`"
   ]
  },
  {
   "cell_type": "markdown",
   "id": "528138b7",
   "metadata": {},
   "source": [
    "`db.persons.aggregate([\n",
    "    {$match : {gender: \"female\"}}, \n",
    "    { $group : { _id : {age:\"$age\", eyeColor:\"$eyeColor\", gender: \"$gender\"}}}\n",
    "])`"
   ]
  },
  {
   "cell_type": "code",
   "execution_count": null,
   "id": "2e953615",
   "metadata": {},
   "outputs": [],
   "source": []
  },
  {
   "cell_type": "markdown",
   "id": "f9b57f17",
   "metadata": {},
   "source": [
    "아래는 stage순서를 바꾼 상태. "
   ]
  },
  {
   "cell_type": "markdown",
   "id": "f2cb57bf",
   "metadata": {},
   "source": [
    "`db.persons.aggregate([ \n",
    "    { $group : { _id : {age:\"$age\", eyeColor:\"$eyeColor\"}}},\n",
    "    { $match : {favoriteFruit: \"banana\"}}\n",
    "])`"
   ]
  },
  {
   "cell_type": "markdown",
   "id": "5404256c",
   "metadata": {},
   "source": [
    "첫번째에서 group을 먼저 하면, 애초에 favoriteFruit라는 컬럼이 없다. fetch 0"
   ]
  },
  {
   "cell_type": "markdown",
   "id": "0d8c8238",
   "metadata": {},
   "source": [
    "아래처럼 하면 결과 나오겠지. "
   ]
  },
  {
   "cell_type": "markdown",
   "id": "0ce87dbb",
   "metadata": {},
   "source": [
    "`\n",
    "db.persons.aggregate([ \n",
    "    { $group : { _id : {age:\"$age\", eyeColor:\"$eyeColor\"}}},\n",
    "    { $match : {\"_id.age\":{$gt:30}}}\n",
    "])\n",
    "`"
   ]
  },
  {
   "cell_type": "markdown",
   "id": "a2135919",
   "metadata": {},
   "source": [
    "`\n",
    "db.persons.aggregate([ \n",
    "    { $group : { _id : {age:\"$age\", eyeColor:\"$eyeColor\"}}},\n",
    "    { $match : {\"_id.eyeColor\":\"blue\"}}\n",
    "])\n",
    "`"
   ]
  },
  {
   "cell_type": "code",
   "execution_count": null,
   "id": "23043553",
   "metadata": {},
   "outputs": [],
   "source": []
  },
  {
   "cell_type": "code",
   "execution_count": null,
   "id": "a8aaa40e",
   "metadata": {},
   "outputs": [],
   "source": []
  }
 ],
 "metadata": {
  "kernelspec": {
   "display_name": "Python [conda env:py38]",
   "language": "python",
   "name": "conda-env-py38-py"
  },
  "language_info": {
   "codemirror_mode": {
    "name": "ipython",
    "version": 3
   },
   "file_extension": ".py",
   "mimetype": "text/x-python",
   "name": "python",
   "nbconvert_exporter": "python",
   "pygments_lexer": "ipython3",
   "version": "3.8.5"
  }
 },
 "nbformat": 4,
 "nbformat_minor": 5
}
